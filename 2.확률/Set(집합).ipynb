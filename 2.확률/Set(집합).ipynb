{
 "cells": [
  {
   "cell_type": "markdown",
   "metadata": {},
   "source": [
    "# 집합"
   ]
  },
  {
   "cell_type": "markdown",
   "metadata": {},
   "source": [
    "[데사스 집합](https://datascienceschool.net/view-notebook/ea7b25919b094cc9a7ff934697bf3886/)<br>\n",
    "아래 내용은 상기 링크를 정리한것"
   ]
  },
  {
   "cell_type": "markdown",
   "metadata": {},
   "source": [
    "## 집합과 원소\n",
    "\n",
    "구별이 가능한 객체의 모임 **집합(set)**이라고 하고 집합에 포함된 객체를 그 집합의 **원소(element)** 라고 한다.<br> 집합을 이루는 객체가 반드시 숫자일 필요는 없다.<br>\n",
    "집합은 보통 알파벳 대문자를 사용하여 표시하고 원소는 알파벳 소문자로 표시한다.<br>\n",
    "<br>\n",
    "원소 $x$와 그 원소를 포함하는 집합 $A$의 관계\n",
    "\n",
    "$$\n",
    "x(element) \\in A(set)\n",
    "$$"
   ]
  },
  {
   "cell_type": "markdown",
   "metadata": {},
   "source": [
    "원소 $x$가 집합 $A$에 포함되지 않는다면 다음처럼 표시.\n",
    "$$\n",
    "x \\notin A\n",
    "$$"
   ]
  },
  {
   "cell_type": "markdown",
   "metadata": {},
   "source": [
    "따라서 만약 $A = {1, 2, 3}$이면,\n",
    "$$\n",
    "1 \\in A, 4 \\notin A\n",
    "$$"
   ]
  },
  {
   "cell_type": "markdown",
   "metadata": {},
   "source": [
    "이다.<br>\n",
    "집합은 반드시 숫자만 포함하는 것은 아니다. 다음처럼 어떠한 원소도 포함할 수 있다.<br>\n",
    "$$\n",
    "B = \\left\\{ H, T \\right\\} \n",
    "$$\n",
    "$$\n",
    "C = \\left\\{ \\clubsuit, \\spadesuit, \\bigstar, \\blacklozenge \\right\\}\n",
    "$$"
   ]
  },
  {
   "cell_type": "markdown",
   "metadata": {},
   "source": [
    "파이썬에서는 <span style=\"color:red\">set</span>과 <span style=\"color:red\">frozenset</span>자료형으로 집합을 나타낸다.<br> \n",
    "<span style=\"color:red\">set</span>은 내용을 변경 할 수 있는 뮤터블(mutable)자료형이다. (리스트 자료형과 튜플 자료형의 관계와 같다.)"
   ]
  },
  {
   "cell_type": "code",
   "execution_count": 2,
   "metadata": {},
   "outputs": [
    {
     "data": {
      "text/plain": [
       "{1, 2, 3}"
      ]
     },
     "execution_count": 2,
     "metadata": {},
     "output_type": "execute_result"
    }
   ],
   "source": [
    "A = set([1, 2, 3, 3, 2]) # 중복된 자료는 없어진다.\n",
    "A"
   ]
  },
  {
   "cell_type": "code",
   "execution_count": 3,
   "metadata": {},
   "outputs": [
    {
     "data": {
      "text/plain": [
       "frozenset({'H', 'T'})"
      ]
     },
     "execution_count": 3,
     "metadata": {},
     "output_type": "execute_result"
    }
   ],
   "source": [
    "B = frozenset(['H', 'T'])\n",
    "B"
   ]
  },
  {
   "cell_type": "code",
   "execution_count": 4,
   "metadata": {},
   "outputs": [
    {
     "data": {
      "text/plain": [
       "{'◆', '♠', '♣', '♥'}"
      ]
     },
     "execution_count": 4,
     "metadata": {},
     "output_type": "execute_result"
    }
   ],
   "source": [
    "C = set(['◆', '♥', '♠', '♣'])\n",
    "C"
   ]
  },
  {
   "cell_type": "markdown",
   "metadata": {},
   "source": [
    "## 집합의 크기\n",
    "집합의 Cardinality(카디널리티, 크기)는 집합이 가지는 원소의 갯수를 말한다.<br>\n",
    "||기호나 card기호를 사용하여 나타낸다.<br>\n",
    "만약 $A = \\left\\{ 1, 2, 3 \\right\\}$ 이면,\n",
    "$$\n",
    "|A| = card(\\;A\\;) = 3\n",
    "$$\n"
   ]
  },
  {
   "cell_type": "markdown",
   "metadata": {},
   "source": [
    "<br>\n",
    "이다.<br>\n",
    "<br>\n",
    "파이썬에서는 <span style=\"color:red\">len</span> 명령어를 사용하여 구한다."
   ]
  },
  {
   "cell_type": "code",
   "execution_count": 5,
   "metadata": {},
   "outputs": [
    {
     "data": {
      "text/plain": [
       "(3, 2, 4)"
      ]
     },
     "execution_count": 5,
     "metadata": {},
     "output_type": "execute_result"
    }
   ],
   "source": [
    "len(A), len(B), len(C)"
   ]
  },
  {
   "cell_type": "markdown",
   "metadata": {},
   "source": [
    "두 실수 사이에는 항상 다른 실수가 존재하므로 다음과 같은 **실수 구간 집합**은 무한개의 원소를 가진 집합이다.\n",
    "$$\n",
    "A = \\left\\{ x \\; : \\; 0 \\le x \\le 1 \\right\\}\n",
    "$$"
   ]
  },
  {
   "cell_type": "markdown",
   "metadata": {},
   "source": [
    "[쌍점 \" : \"(영어 colon)](https://namu.wiki/w/%EC%8C%8D%EC%A0%90)\n",
    "* 수학 집합에서 \" : \"의 의미  \n",
    "집합을 [조건제시법](https://zetawiki.com/wiki/%EC%9B%90%EC%86%8C%EB%82%98%EC%97%B4%EB%B2%95,_%EC%A1%B0%EA%B1%B4%EC%A0%9C%EC%8B%9C%EB%B2%95)으로 나타낼 때의 경계선으로 보통 $|$ 기호를 쓰며, 가끔 $:$도 쓰인다.<br>\n",
    "또한 등호 바로 앞에 $:$이 붙으면 좌변의 대상을 우변과 같이 정의한다는 뜻이다.<br>"
   ]
  },
  {
   "cell_type": "markdown",
   "metadata": {},
   "source": [
    "[조건제시법](https://zetawiki.com/wiki/%EC%9B%90%EC%86%8C%EB%82%98%EC%97%B4%EB%B2%95,_%EC%A1%B0%EA%B1%B4%EC%A0%9C%EC%8B%9C%EB%B2%95)"
   ]
  },
  {
   "cell_type": "markdown",
   "metadata": {},
   "source": [
    "* 원소들의 논리적 관계를 기술하는 집합 표현 방식\n",
    "* 집합에 속하는 원소들이 가지는 공통된 성질을 조건으로 제시하여 집합을 나타내는 방법\n",
    "    - { 집합의 임의의 원소 형태 | 원소에 대한 조건}\n",
    "* 예시\n",
    "    - {x|x는 1부터 10까지의 자연수} = {1, 2, 3, 4, 5, 6 ,7, 8, 9, 10}\n",
    "    - {x + y | x는 1 또는 2, y는 3 또는 4} = {4, 5, 6}\n",
    "    - {(x, y)| x $\\in$ {1, 2}, y $\\in$ {1, 2}} = {(1, 1), (1, 2), (2, 1), (2, 2)}\n",
    "    - {x | x < 15인 짝수} = {2, 4, 6, 8, 10, 12, 14}\n",
    "    - {z | z = $\\left( \\frac{1-i}{1+i} \\right)^n$, n은 자연수}"
   ]
  },
  {
   "cell_type": "markdown",
   "metadata": {},
   "source": [
    "## 합집합과 교집합\n",
    "두 집합의 **합집합(union)**은 각 집합의 원소를 모두 포함하는 집합을 말하고 $\\cup$기호를 사용하여 표시한다.\n",
    "$$ A \\cup B $$"
   ]
  },
  {
   "cell_type": "markdown",
   "metadata": {},
   "source": [
    "두 집합의 교집합(intersection)은 두 사건 모두에 속하는 원소로만 이루어진 집합을 말하고 $\\cap$기호를 사용하여 표시한다.  \n",
    "$$A \\cap B$$"
   ]
  },
  {
   "cell_type": "markdown",
   "metadata": {},
   "source": [
    "파이썬에서는 <span style=\"color:red\">union</span>, <span style=\"color:red\">intersection</span>메서드나 <span style=\"color:red\">|</span>, <span style=\"color:red\">&</span>연산자를 사용하여 합집합과 교집합을 구할 수 있다."
   ]
  },
  {
   "cell_type": "code",
   "execution_count": 1,
   "metadata": {},
   "outputs": [],
   "source": [
    "A1 = set([1, 2, 3, 4])\n",
    "A2 = set([2, 4, 6])\n",
    "A3 = set([1, 2, 3])\n",
    "A4 = set([2, 3, 4, 5, 6])"
   ]
  },
  {
   "cell_type": "code",
   "execution_count": 2,
   "metadata": {},
   "outputs": [
    {
     "data": {
      "text/plain": [
       "{1, 2, 3, 4, 6}"
      ]
     },
     "execution_count": 2,
     "metadata": {},
     "output_type": "execute_result"
    }
   ],
   "source": [
    "A1.union(A2)"
   ]
  },
  {
   "cell_type": "code",
   "execution_count": 3,
   "metadata": {},
   "outputs": [
    {
     "data": {
      "text/plain": [
       "{1, 2, 3, 4, 6}"
      ]
     },
     "execution_count": 3,
     "metadata": {},
     "output_type": "execute_result"
    }
   ],
   "source": [
    "A1|A2"
   ]
  },
  {
   "cell_type": "code",
   "execution_count": 4,
   "metadata": {},
   "outputs": [
    {
     "data": {
      "text/plain": [
       "{2, 3}"
      ]
     },
     "execution_count": 4,
     "metadata": {},
     "output_type": "execute_result"
    }
   ],
   "source": [
    "A3.intersection(A4)"
   ]
  },
  {
   "cell_type": "code",
   "execution_count": 5,
   "metadata": {},
   "outputs": [
    {
     "data": {
      "text/plain": [
       "{2, 3}"
      ]
     },
     "execution_count": 5,
     "metadata": {},
     "output_type": "execute_result"
    }
   ],
   "source": [
    "A3&A4"
   ]
  },
  {
   "cell_type": "markdown",
   "metadata": {},
   "source": [
    "## 전체집합, 부분집합, 여집합"
   ]
  },
  {
   "cell_type": "markdown",
   "metadata": {},
   "source": [
    "어떤 집합의 원소 중 일부만을 포함하는 집합을 **부분집합(subset)**이라고 하고 원래 집합을 **전체 집합**이라고 한다.  \n",
    "집합 $A$가 집합$\\Omega$의 부분집합이면 다음처럼 표기한다.  "
   ]
  },
  {
   "cell_type": "markdown",
   "metadata": {},
   "source": [
    "$$A \\subset \\Omega$$"
   ]
  },
  {
   "cell_type": "markdown",
   "metadata": {},
   "source": [
    "모든 집합은 자기 자신의 부분집합이다.  \n",
    "원소의 크기가 더 작은 부분집합을 **진부분집합(proper subset)**이라고한다"
   ]
  }
 ],
 "metadata": {
  "kernelspec": {
   "display_name": "Python 3",
   "language": "python",
   "name": "python3"
  },
  "language_info": {
   "codemirror_mode": {
    "name": "ipython",
    "version": 3
   },
   "file_extension": ".py",
   "mimetype": "text/x-python",
   "name": "python",
   "nbconvert_exporter": "python",
   "pygments_lexer": "ipython3",
   "version": "3.6.4"
  }
 },
 "nbformat": 4,
 "nbformat_minor": 2
}
