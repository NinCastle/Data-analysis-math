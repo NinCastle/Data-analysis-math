{
 "cells": [
  {
   "cell_type": "markdown",
   "metadata": {},
   "source": [
    "[나부랭이의 수학블로그](http://math7.tistory.com/123)  \n",
    "[Hong's](https://jihongl.github.io/2017/09/16/Rsquared/)  \n",
    "[미니 프로그래밍](http://blog.acronym.co.kr/513)  \n",
    "하기내용은 상기 링크를 정리한것."
   ]
  },
  {
   "cell_type": "markdown",
   "metadata": {},
   "source": [
    "# R-squared 결정계수\n",
    "~~결정계수는 상관분석의 상관계수와 비슷하다.~~  \n",
    "결정계수를 알기 위해서는 회귀분석이 무엇인지 부터 알아야한다.  \n",
    "회귀분석은 회귀식을 활용해서 무엇인가를 예측하는 분석이다.  \n",
    "그래서 무엇인가를 예측할 때, 회귀분석을 사용하면 짐작한 것보다 훨신 신뢰가 가능하다.  \n",
    "그렇지만 회귀분석을 사용해도 실제값을 찾기란 쉽지 않다.  \n",
    "때문에 예측값과 함께 항상 <span style=\"color:red\">오차값</span>이 존재한다.  \n",
    "![](https://t1.daumcdn.net/cfile/tistory/245A4A3954D30C690A)"
   ]
  },
  {
   "cell_type": "markdown",
   "metadata": {},
   "source": [
    "그런데 위 그림과 같이 밀도에 따라 오차의 크기도 다르다.  \n",
    "예를 들어 \n",
    "* 밀도가 밀집되고 촘촘할 수록 오차가 작고,  \n",
    "* 밀도가 넓고 느슨할 수록 오차가 크다. \n",
    "<br>\n",
    "이렇게 점들이 모여 있는 밀도에 따라 회귀식의 정확도가 결정되는데,  \n",
    "중요한것은 얼마 만큼의 <span style=\"color:red\">정확도</span>를 가지고 있는가이다.  \n",
    "그래서 통계에서는 \"숫자\"활용하여, 회귀식 또는 회귀모델이 얼마 만큼 정확도를 가지고 있는지 표현한다.  \n",
    "그것을 나타낸것이 결정계수($R^2$)이다."
   ]
  },
  {
   "cell_type": "markdown",
   "metadata": {},
   "source": [
    "그리고 결정계수를 구하는 방법은 크게 2가지가 있는데,  \n"
   ]
  }
 ],
 "metadata": {
  "kernelspec": {
   "display_name": "text3.5",
   "language": "python",
   "name": "text3.5"
  },
  "language_info": {
   "codemirror_mode": {
    "name": "ipython",
    "version": 3
   },
   "file_extension": ".py",
   "mimetype": "text/x-python",
   "name": "python",
   "nbconvert_exporter": "python",
   "pygments_lexer": "ipython3",
   "version": "3.5.5"
  }
 },
 "nbformat": 4,
 "nbformat_minor": 2
}
