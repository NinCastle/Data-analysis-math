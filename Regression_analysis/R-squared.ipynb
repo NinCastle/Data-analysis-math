{
 "cells": [
  {
   "cell_type": "markdown",
   "metadata": {},
   "source": [
    "[나부랭이의 수학블로그](http://math7.tistory.com/123)  \n",
    "[Hong's](https://jihongl.github.io/2017/09/16/Rsquared/)  \n",
    "[미니 프로그래밍](http://blog.acronym.co.kr/513)  \n",
    "하기내용은 상기 링크를 정리한것."
   ]
  },
  {
   "cell_type": "markdown",
   "metadata": {},
   "source": [
    "# R-squared 결정계수\n",
    "R-squared는 "
   ]
  }
 ],
 "metadata": {
  "kernelspec": {
   "display_name": "text3.5",
   "language": "python",
   "name": "text3.5"
  },
  "language_info": {
   "codemirror_mode": {
    "name": "ipython",
    "version": 3
   },
   "file_extension": ".py",
   "mimetype": "text/x-python",
   "name": "python",
   "nbconvert_exporter": "python",
   "pygments_lexer": "ipython3",
   "version": "3.5.5"
  }
 },
 "nbformat": 4,
 "nbformat_minor": 2
}
