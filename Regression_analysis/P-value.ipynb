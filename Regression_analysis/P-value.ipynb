{
 "cells": [
  {
   "cell_type": "markdown",
   "metadata": {},
   "source": [
    "[진화하자-(p-value란 무엇인가?)](http://adnoctum.tistory.com/332)  \n",
    "[p-value에 의존해서는 안되는 이유](https://www.editage.co.kr/insights/is-my-research-significant-why-you-shouldn%E2%80%99t-rely-on-p-values)  \n",
    "[Leo's lifelog-통계의 기본 개념(가설검중, P Value)](http://leoslife.com/archives/4352)  \n",
    "[Box and whisker](http://www.boxnwhis.kr/2016/04/15/dont_be_overwhelmed_by_pvalue.html)  \n",
    "하기내용은 상기 링크를 정리한것이다."
   ]
  },
  {
   "cell_type": "markdown",
   "metadata": {},
   "source": [
    "# P-value(유의확률, 신뢰도)"
   ]
  },
  {
   "cell_type": "markdown",
   "metadata": {},
   "source": [
    "## P-value란?\n",
    "p-value는, 귀무가설이(null hypothesis, $H_0$)이 맞다는 전제하에 통계값(Statistics)이 실제로 관측된 값 이상일 확률을 의미한다.  \n",
    "  \n",
    "일반적으로  P-value는 어떤 가설을 전제로,  \n",
    "그 가설이 맞다는 가정 하에,  \n",
    "\"내가 구한 통계값이 얼마나 자주 나올 것인가?\" 를 의미한다고 할수 있다.  \n",
    "P-value는 가설검정이라는 것이 전체 데이터를 갖고 하는 것이 아닌 sampling된 데이터를 갖고 하는 것이기 때문에 필요   하게 되는데, 다음과 같은 경우를 살펴 보자"
   ]
  },
  {
   "cell_type": "code",
   "execution_count": null,
   "metadata": {},
   "outputs": [],
   "source": []
  }
 ],
 "metadata": {
  "kernelspec": {
   "display_name": "Python 3",
   "language": "python",
   "name": "python3"
  },
  "language_info": {
   "codemirror_mode": {
    "name": "ipython",
    "version": 3
   },
   "file_extension": ".py",
   "mimetype": "text/x-python",
   "name": "python",
   "nbconvert_exporter": "python",
   "pygments_lexer": "ipython3",
   "version": "3.6.4"
  }
 },
 "nbformat": 4,
 "nbformat_minor": 2
}
