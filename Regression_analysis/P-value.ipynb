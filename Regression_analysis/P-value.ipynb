{
 "cells": [
  {
   "cell_type": "markdown",
   "metadata": {},
   "source": [
    "[진화하자-(p-value란 무엇인가?)](http://adnoctum.tistory.com/332)  \n",
    "[p-value에 의존해서는 안되는 이유](https://www.editage.co.kr/insights/is-my-research-significant-why-you-shouldn%E2%80%99t-rely-on-p-values)  \n",
    "[Leo's lifelog-통계의 기본 개념(가설검중, P Value)](http://leoslife.com/archives/4352)  \n",
    "[Box and whisker](http://www.boxnwhis.kr/2016/04/15/dont_be_overwhelmed_by_pvalue.html)  \n",
    "하기내용은 상기 링크를 정리한것이다."
   ]
  },
  {
   "cell_type": "markdown",
   "metadata": {},
   "source": [
    "# P-value(유의확률, 신뢰도)"
   ]
  },
  {
   "cell_type": "markdown",
   "metadata": {},
   "source": [
    "## P-value란?\n",
    "p-value는, 귀무가설이(null hypothesis, $H_0$)이 맞다는 전제하에 통계값(Statistics)이 실제로 관측된 값 이상일 확률을 의미한다.  \n",
    "  \n",
    "일반적으로  P-value는 어떤 가설을 전제로,  \n",
    "그 가설이 맞다는 가정 하에,  \n",
    "\"내가 구한 통계값이 얼마나 자주 나올 것인가?\" 를 의미한다고 할수 있다.  \n",
    "> P-value는 가설검정이라는 것이 전체 데이터를 갖고 하는 것이 아닌 sampling된 데이터를 갖고 하는 것이기 때문에 필요   하게 된다."
   ]
  },
  {
   "cell_type": "markdown",
   "metadata": {},
   "source": [
    "다음과 같이 모분포가 10,000인 그래프를 보았을때.\n",
    "![](https://t1.daumcdn.net/cfile/tistory/170E96184C56BE2C81)\n",
    "<그림1 - 평균 100.3023을 가진 모분포의 도수분포표.>  \n",
    "출처 : [adnoctum](http://adnoctum.tistory.com/332)"
   ]
  },
  {
   "cell_type": "markdown",
   "metadata": {},
   "source": [
    "위 모분포의 평균은 100.3023이다.  \n",
    "가설 검증이라는 것은 모분포를 전부 검증할 수 없기 때문에 모분포에서 일부만 추출하여(추출한 것을 샘플sample이라고 한다.) 검사한 후, sample로 부터 모분포의 특성을 추정하는 절차이다.  \n",
    "위의 10,000개가 전체인 모분포에서 100개만을 sampling 했을때.  \n",
    "**\"100개를 선택하여 구한 평균이 모분포의 평균과 유사할까?\"**  \n",
    "라고 단언할 수 없다.\n",
    "왜냐하면 100개를 선택할때 아래와 같은 위치에서 선택이 될 수도 있기 때문이다.  "
   ]
  },
  {
   "cell_type": "markdown",
   "metadata": {},
   "source": [
    "![](https://t1.daumcdn.net/cfile/tistory/1121E4184C56C00D93)\n",
    "그림 2. 샘플링의 예.  \n",
    "출처 : [adnoctum](http://adnoctum.tistory.com/332)"
   ]
  },
  {
   "cell_type": "markdown",
   "metadata": {},
   "source": [
    "파란색 부분이 샘플링 된다면 평균은 150이 넘게 나올것이다.  \n",
    "위의 경우처럼, 내가 100개를 선택했을 때 그 100개의 평균이 모분포의 평균에서 매우 떨어진 곳에서 수집된 경우가 발생할 수 있다.  \n"
   ]
  },
  {
   "cell_type": "markdown",
   "metadata": {},
   "source": [
    "따라서 \"샘플링된 데이터의 평균은 모분포의 평균과 얼마나 유사할 것인가?\"를 알아내야 한다.  \n",
    "위의 100개 샘플링을 1,000번 반복하여 평균분포를 그려보면 아래와 같다.  \n",
    "![](https://t1.daumcdn.net/cfile/tistory/115C3D174C56C0F4CC)\n",
    "그림 3. 100개를 샘플링하여 각각 평균을 구해 그 값을 도수분포표로 그린 그림  \n",
    "출처 : [adnoctum](http://adnoctum.tistory.com/332)"
   ]
  },
  {
   "cell_type": "markdown",
   "metadata": {},
   "source": [
    "그림과 같이 가끔이기는 하지만 최저값92 최고값 108이 나오는 경우가 있다.  \n",
    "평균적으로는 96에서 104사이의 분포를 그리고 있다.  \n",
    "하지만 \"내가 샘플링한 데이터의 평균이 96.95인데, 이것이 모평균이 90이라는 것을 지지할 수 있는가?\"  \n",
    "와 같은 의문이 생길수 있다.  \n",
    "샘플링된 데이터의 평균이 96.95인 것은 평균이 100인 위의 분포에서도 충분히 나올 수 있는 값이므로 모평균을 무조건 신뢰할 수 없다.  \n",
    "  \n",
    "> **정리하면**  \n",
    "가설 검증이라는 것은 전체 데이터의 일부만을 추출하여 평균을 내고,  \n",
    "그 평균이 전체 데이터의 평균을 잘 반영한다는 가정 하에 전체 데이터의 평균을 구하는 작업인데,  \n",
    "아무리 무작위 추출을 잘 한다 하더라도 추출된 데이터의 평균은 전체 데이터의 평균에서 멀어지 수 있게 된다.  \n",
    "따라서, 내가 추출한 이 데이터의 평균이 원래의 전체 데이터의 편균과 얼마나 다른 값인지를 알 수 있는 방법이 필요하게 된다.  \n",
    "이와 같은 문제 때문에 나온 값이 p-value이다."
   ]
  },
  {
   "cell_type": "code",
   "execution_count": null,
   "metadata": {},
   "outputs": [],
   "source": []
  }
 ],
 "metadata": {
  "kernelspec": {
   "display_name": "Python 3",
   "language": "python",
   "name": "python3"
  },
  "language_info": {
   "codemirror_mode": {
    "name": "ipython",
    "version": 3
   },
   "file_extension": ".py",
   "mimetype": "text/x-python",
   "name": "python",
   "nbconvert_exporter": "python",
   "pygments_lexer": "ipython3",
   "version": "3.6.4"
  }
 },
 "nbformat": 4,
 "nbformat_minor": 2
}
