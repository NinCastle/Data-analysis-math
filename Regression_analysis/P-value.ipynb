{
 "cells": [
  {
   "cell_type": "markdown",
   "metadata": {},
   "source": [
    "[진화하자-(p-value란 무엇인가?)](http://adnoctum.tistory.com/332)  \n",
    "[p-value에 의존해서는 안되는 이유](https://www.editage.co.kr/insights/is-my-research-significant-why-you-shouldn%E2%80%99t-rely-on-p-values)  \n",
    "[Leo's lifelog-통계의 기본 개념(가설검중, P Value)](http://leoslife.com/archives/4352)  \n",
    "[Box and whisker](http://www.boxnwhis.kr/2016/04/15/dont_be_overwhelmed_by_pvalue.html)  \n",
    "하기내용은 상기 링크를 정리한것이다."
   ]
  },
  {
   "cell_type": "markdown",
   "metadata": {},
   "source": [
    "# P-value(유의확률, 신뢰도)"
   ]
  }
 ],
 "metadata": {
  "kernelspec": {
   "display_name": "Python 3",
   "language": "python",
   "name": "python3"
  },
  "language_info": {
   "codemirror_mode": {
    "name": "ipython",
    "version": 3
   },
   "file_extension": ".py",
   "mimetype": "text/x-python",
   "name": "python",
   "nbconvert_exporter": "python",
   "pygments_lexer": "ipython3",
   "version": "3.6.4"
  }
 },
 "nbformat": 4,
 "nbformat_minor": 2
}
