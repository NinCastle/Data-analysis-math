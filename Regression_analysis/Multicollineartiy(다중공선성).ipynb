{
 "cells": [
  {
   "cell_type": "markdown",
   "metadata": {},
   "source": [
    "[위키백과](https://ko.wikipedia.org/wiki/%EB%8B%A4%EC%A4%91%EA%B3%B5%EC%84%A0%EC%84%B1)  \n",
    "[LearnX - 다중공선성이란?](http://learnx.tistory.com/68)  \n",
    "[다중공선성 pdf](http://wolfpack.hnu.ac.kr/lecture/Regression/ch6_multicollinearity.pdf)  \n",
    "[회귀분석의 다중공선성](https://support.minitab.com/ko-kr/minitab/18/help-and-how-to/modeling-statistics/regression/supporting-topics/model-assumptions/multicollinearity-in-regression/)  \n",
    "하기 내용은 상기 링크를 정리한것."
   ]
  },
  {
   "cell_type": "markdown",
   "metadata": {},
   "source": [
    "# Multicollinearity"
   ]
  },
  {
   "cell_type": "markdown",
   "metadata": {},
   "source": [
    "## -위키백과-  \n",
    "다중공선성(Multicollinearity)는 통계학의 회귀분석에서 독립변수들 간에 강한 상관관계가 나타나는 문제이다.  \n",
    "* 독립변수들간에 정확한 선형관계가 존재하는 완전공선성의 경우와 \n",
    "* 독립변수들간에 높은 선형관계가 존재하는 다중공선성으로 구분하기도 한다.  \n",
    "  \n",
    "이는 회귀분석의 전제 가정을 위배하는 것이므로 적절한 회귀분석을 위해 해결해야 하는 문제가 된다.  \n",
    "### 진단법\n",
    "> 1. 결정계수 $R^2$값은 높아 회귀식의 설명력은 높지만 식 안의 독립변수의 P-value값이 커서 개별 인자들이 유의하지 않는 경우가 있다.  \n",
    "이런경우 독립변수들 간에 높은 상관관계가 있다고 의심된다.\n",
    "2. 독립변수들 간의 상관계수를 구한다.\n",
    "3. 분산팽창요인(Variance Inflation Factor)를 구하여 이값이 10을 넘는다면 보통 다중공선성의 문제가 있다.\n",
    "  \n",
    "### 해결법\n",
    "> 1. 상관관계가 높은 독립변수중 하나 혹은 일부를 제거한다.  \n",
    "2. 변수를 변형시키거나 새로운 관측치를 이용한다.  \n",
    "3. 자료를 수집하는 현장의 상황을 보아 상관관계의 이유를 파악하여 해결한다.  \n",
    "4. PCA(Principle Component Analysis)를 이용한 diagnol matrix의 형태로 공선성을 없애준다.  "
   ]
  },
  {
   "cell_type": "markdown",
   "metadata": {},
   "source": [
    "다중공선성의 문제를 확인 할 수 있는 방법은 크게 두 가지 방법이 있다.  \n",
    "1. 상관관계 분석을 통해 상관관계를 확인하기  \n",
    "    > 상관관계계수 값을 통한 상관도를 확인  \n",
    "     * $\\pm0.9$이상 : 매우 높은 상관관계 -> 다중공선성 문제\n",
    "     * $\\pm0.7$이상 ~ $\\pm0.9$미만 : 높은 상관관계\n",
    "     * $\\pm0.4$이상 ~ $\\pm0.7$미만 : 다소 높은 상관관계\n",
    "     * $\\pm0.2$이상 ~ $\\pm0.4$미만 : 낮은 상관관계\n",
    "     * $\\pm0.2$미만 : 상관관계가 거의 없음\n",
    "     (상관관계계수의 최대값은 1이고 최솟값은 -1이다. 상관관계계수가 1이라는 것은 그 둘이 같다는 말이다.)  \n",
    "     상관관계가 높으면 좋고, 낮으면 안 좋은 것은 아니다.  \n",
    "     오히려 상관관계가 높아 다중공선성(Multicollinearity)문제가 발생하면, 연구주제를 수정해야 한다.      "
   ]
  },
  {
   "cell_type": "markdown",
   "metadata": {},
   "source": [
    "2. 회귀분석의 공선성 확인하기\n",
    "> 공차한계(Tolerance)가 0.1보다 작거나, VIF(Variance Inflation Facotr, 분산팽창요인)가 10 이상이면 다중공선성 문제가 있다.  http://learnx.tistory.com/18"
   ]
  },
  {
   "cell_type": "markdown",
   "metadata": {},
   "source": [
    "다중 공선성 해결방법1  \n",
    "1) 변인이 다르게 구분될 수 있는 문항들을 추가하여, 상관도를 낮추거나  \n",
    "2) 변인을 다른 변인으로 변경  \n",
    "를 통해 해결한다."
   ]
  }
 ],
 "metadata": {
  "kernelspec": {
   "display_name": "Python [conda env:Anaconda3]",
   "language": "python",
   "name": "conda-env-Anaconda3-py"
  },
  "language_info": {
   "codemirror_mode": {
    "name": "ipython",
    "version": 3
   },
   "file_extension": ".py",
   "mimetype": "text/x-python",
   "name": "python",
   "nbconvert_exporter": "python",
   "pygments_lexer": "ipython3",
   "version": "3.6.6"
  }
 },
 "nbformat": 4,
 "nbformat_minor": 2
}
