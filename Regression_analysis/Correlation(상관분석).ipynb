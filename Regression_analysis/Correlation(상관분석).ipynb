{
 "cells": [
  {
   "cell_type": "markdown",
   "metadata": {},
   "source": [
    "[테리엇의 디지털 놀이터- 파이썬으로 상관계수 구하기](https://tariat.tistory.com/267)  \n",
    "[SPSS에서 상관관계분석으로 변수 간 상관도 분석하기](http://learnx.tistory.com/17)  \n",
    "[논쓰남 상관관계 분석 및 해석 방법](https://m.blog.naver.com/PostView.nhn?blogId=sub_om&logNo=220755048371&proxyReferer=https%3A%2F%2Fwww.google.co.kr%2F)  \n",
    "[상관 계수에 대한 주요 결과 해석](https://support.minitab.com/ko-kr/minitab/18/help-and-how-to/statistics/basic-statistics/how-to/correlation/interpret-the-results/key-results/)  \n",
    "[케이스아이-상관관계분석](http://www.6025.co.kr/bbs/board.php?bo_table=cust_in&wr_id=13)  \n",
    "하기 내용은 상기 내용을 정리한것 "
   ]
  },
  {
   "cell_type": "code",
   "execution_count": null,
   "metadata": {},
   "outputs": [],
   "source": []
  },
  {
   "cell_type": "markdown",
   "metadata": {},
   "source": [
    "> 상관분석은 다중공선성을 생각해야 한다 그러나 그부분은 따로 정리하도록 한다."
   ]
  }
 ],
 "metadata": {
  "kernelspec": {
   "display_name": "text3.5",
   "language": "python",
   "name": "text3.5"
  },
  "language_info": {
   "codemirror_mode": {
    "name": "ipython",
    "version": 3
   },
   "file_extension": ".py",
   "mimetype": "text/x-python",
   "name": "python",
   "nbconvert_exporter": "python",
   "pygments_lexer": "ipython3",
   "version": "3.5.5"
  }
 },
 "nbformat": 4,
 "nbformat_minor": 2
}
