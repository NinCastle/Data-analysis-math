{
 "cells": [
  {
   "cell_type": "markdown",
   "metadata": {},
   "source": [
    "# 모든 기계학습 문제에 접근하기(Abhishek Thakur)\n",
    "[기계학습 문제 링크](http://steady7.tistory.com/6)"
   ]
  },
  {
   "cell_type": "markdown",
   "metadata": {},
   "source": [
    "## [Data]\n",
    "  기계학습 모델을 적용하기 전에, 데이터는 표 형식(tabular)으로 변환 해야한다.<br>\n",
    "  이러한 프로세스를 전체시간에서 가장 시간을 소비하고 어려운 과정이며 밑의 그림에서 묘사되어 있다.<br>\n",
    "  \n",
    "\n",
    "![Tabluar](http://s5047.pcdn.co/wp-content/uploads/2016/07/abhishek_1.png)"
   ]
  },
  {
   "cell_type": "markdown",
   "metadata": {},
   "source": []
  },
  {
   "cell_type": "markdown",
   "metadata": {},
   "source": [
    "파일을 변환후 기계학습 모델들은 이러한 표 형식 (Tabular) 데이터에서 적용된다.<br> \n",
    "표 형식의(Tabular)데이터는 기계학습 및 데이터 마이닝에서 데이터를 나타내는 가장 일반적인 방식이다.<br>\n",
    "우리는 데이터, 다양한 표본들로 이뤄진 데이터(또는 X)를 가진 행들과 라벨(또는 Y)을 가지고 있다.<br>\n",
    "이러한 라벨들은 문제 형태에 따라 단일 커럼 또는 복수의 컬럼일 수 있다.<br>\n",
    "여기서 우리는 X를 data, Y를 라벨로 나타낼 것이다.<br>\n",
    "<br>"
   ]
  },
  {
   "cell_type": "markdown",
   "metadata": {},
   "source": []
  },
  {
   "cell_type": "markdown",
   "metadata": {},
   "source": [
    "## [라벨 형식]"
   ]
  },
  {
   "cell_type": "markdown",
   "metadata": {},
   "source": [
    "라벨들은 문제를 정의하고 다음과 같이 다향한 형식일 수 있다.\n",
    "* 단일 컬럼, 이진 값(분류(classification) 문제, 하나의 표본이 딱 두 개의 등급(Class) 가운데 하나의 등급(Class)만을 가지고 있음.)\n",
    "* 단일 컬럼, 실제 값(회귀 문제, 오직 하나의 값에 대한 예측)\n",
    "* 복수 컬럼, 이진 값(분류 문제, 하나의 표본은 하나의 등급에 속해 있지만 등급은 2개보다 많이 이뤄져 있다.)\n",
    "* 복수 컬럼, 실제 값(회귀 문제, 여러 값들에 대한 예측)\n",
    "* 복수 라벨(분류 문제, 하나의 표본이 여러 등급에 속할 수 있다.)"
   ]
  },
  {
   "cell_type": "markdown",
   "metadata": {},
   "source": []
  },
  {
   "cell_type": "markdown",
   "metadata": {},
   "source": [
    "## [라이브러리]\n",
    "기계학습 라이브러리를 시작하기 위해, 기본적이고 가장 중요한 것들을 먼저 설치(예를 들면 numpy와 scipy).<br>\n",
    "<br>\n",
    "* 데이터를 보고 데이터 상에서 작업을 하기 위해\n",
    "<br>**pandas**\n",
    "* 모든 종류의 기계 학습 모델을 위해\n",
    "<br>**cikit_learn**\n",
    "* 최고의 gradient boosting 라이브러리\n",
    "<br>**xgboost**\n",
    "* 신경망 네트워크를 위해\n",
    "<br>**Keras**\n",
    "* 데이터를 그래프로 나타내기위해\n",
    "<br>**matplotlib**\n",
    "* 과정을 모니터하기 위해\n",
    "<br>**tqdm**"
   ]
  },
  {
   "cell_type": "markdown",
   "metadata": {},
   "source": []
  },
  {
   "cell_type": "markdown",
   "metadata": {},
   "source": [
    "## [기계 학습 구조]"
   ]
  },
  {
   "cell_type": "markdown",
   "metadata": {},
   "source": [
    "2015년에 여전히 발전 중이며, 앞으로도 나타날 자동 기계학습을 위한 구조.<br> \n",
    "아래 구조는 기계 학습 구조에 기초가 될것.<br>\n",
    "<br>"
   ]
  },
  {
   "cell_type": "markdown",
   "metadata": {},
   "source": [
    "![The Machine Learning Framework](http://s5047.pcdn.co/wp-content/uploads/2016/07/abhishek_2.png)"
   ]
  },
  {
   "cell_type": "markdown",
   "metadata": {},
   "source": [
    "[PCA 주성분 분석](https://wikidocs.net/7646) "
   ]
  },
  {
   "cell_type": "markdown",
   "metadata": {},
   "source": [
    "위에 보여진 그림에서 분홍색 선은 가장 공통적인 길을 나타낸다.<br> \n",
    "우리는 표 형식(tabular) 형식으로 데이터를 추출하고 줄인 이후에, 기계학습 모델을 도입할 수 있다.<br>"
   ]
  },
  {
   "cell_type": "markdown",
   "metadata": {},
   "source": []
  },
  {
   "cell_type": "code",
   "execution_count": null,
   "metadata": {},
   "outputs": [],
   "source": []
  }
 ],
 "metadata": {
  "kernelspec": {
   "display_name": "Python 3",
   "language": "python",
   "name": "python3"
  },
  "language_info": {
   "codemirror_mode": {
    "name": "ipython",
    "version": 3
   },
   "file_extension": ".py",
   "mimetype": "text/x-python",
   "name": "python",
   "nbconvert_exporter": "python",
   "pygments_lexer": "ipython3",
   "version": "3.6.4"
  }
 },
 "nbformat": 4,
 "nbformat_minor": 2
}
