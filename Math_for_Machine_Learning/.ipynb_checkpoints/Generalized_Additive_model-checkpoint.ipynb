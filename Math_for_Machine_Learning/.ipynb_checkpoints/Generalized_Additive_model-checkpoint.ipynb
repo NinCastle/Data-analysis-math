{
 "cells": [
  {
   "cell_type": "markdown",
   "metadata": {},
   "source": [
    "# Generalized Additive Models"
   ]
  },
  {
   "cell_type": "markdown",
   "metadata": {},
   "source": [
    "[일반화가법모델](https://m.blog.naver.com/PostView.nhn?blogId=je1206&logNo=220804476471&proxyReferer=https%3A%2F%2Fwww.google.co.kr%2F)"
   ]
  },
  {
   "cell_type": "markdown",
   "metadata": {},
   "source": []
  },
  {
   "cell_type": "markdown",
   "metadata": {},
   "source": []
  },
  {
   "cell_type": "markdown",
   "metadata": {},
   "source": [
    "Generalized Additive Models란?<br>\n",
    "여러 개의 설명변수 $X_1, \\ldots, X_p$를 기반으로 $Y$를 유연하게 예측하는 문제다.<br>\n",
    "이것은 다중선형회귀의 확장이라고 할 수 있겠다.<br>\n",
    "\n",
    "일반화가법모델(GAMs)은 가산성은 유지하면서 각 변수의 비선형함수들을 허용하여 표준선형모델을 확장하는 일반적 체계를 제공한다.<br> \n",
    "선형모델과 마찬가지로 GAMs은 질적 및 양적 반응변수 모두에 적용될 수 있다.<br>\n",
    "먼저 양적 반응변수에 대한 GAMs에 대해 살펴보고, 그 이후로 질적 반응변수에 대한 부분을 다루어 본다.<br>"
   ]
  },
  {
   "cell_type": "markdown",
   "metadata": {},
   "source": []
  },
  {
   "cell_type": "markdown",
   "metadata": {},
   "source": [
    "쉽게 말하자면 GAMs 일반화가법모델이라는 것은 서로 다른 여러변수 X들에 적합을 수행하는데, 각각을 하나씩 영향을 알아보는데, 그것을 각각의 함수에 의해서 적합하여 이들모두 합하기 때문에 가법이라고 하는것. 이것을 회귀문제뿐만 아니라, 분류문제에도 적용이 가능하다는 것으로 전반적인 내용. 세부적인것은 공식을 보면서 이해해야함."
   ]
  },
  {
   "cell_type": "code",
   "execution_count": null,
   "metadata": {
    "collapsed": true
   },
   "outputs": [],
   "source": []
  },
  {
   "cell_type": "markdown",
   "metadata": {},
   "source": [
    "## 1.회귀문제에 대한 GAMs\n",
    "각 설명변수와 반응변수 사이의 비선형적 관계를 고려하기 위해 아래 다중선형회귀모델의 자연스러운 확장방법은 각 선형요소<br>\n",
    "$$\\beta_j x_{ij}$$\n",
    "<br>"
   ]
  }
 ],
 "metadata": {
  "kernelspec": {
   "display_name": "Python 3",
   "language": "python",
   "name": "python3"
  },
  "language_info": {
   "codemirror_mode": {
    "name": "ipython",
    "version": 3
   },
   "file_extension": ".py",
   "mimetype": "text/x-python",
   "name": "python",
   "nbconvert_exporter": "python",
   "pygments_lexer": "ipython3",
   "version": "3.6.1"
  }
 },
 "nbformat": 4,
 "nbformat_minor": 2
}
