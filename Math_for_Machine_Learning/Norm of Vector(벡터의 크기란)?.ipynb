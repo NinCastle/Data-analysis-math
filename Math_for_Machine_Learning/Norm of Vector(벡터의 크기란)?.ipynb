{
 "cells": [
  {
   "cell_type": "markdown",
   "metadata": {},
   "source": [
    "[참고](http://www.hknu.ac.kr/web/ice/con_011;jsessionid=YNkbtguJcPb3LPkHKSUGang16fVQXSGFxfyuNaUH2d4aWPhxsPTaEuEFJnhNF8CO.web3_servlet_engine1?p_p_id=BBS_1_INSTANCE_d58h&p_p_lifecycle=1&p_p_state=exclusive&p_p_mode=view&p_p_col_id=column-1&p_p_col_pos=1&p_p_col_count=2&_BBS_1_INSTANCE_d58h_struts_action=%2Fext%2Fnotice%2Fgeta&_BBS_1_INSTANCE_d58h_messageId=897299&_BBS_1_INSTANCE_d58h_attachment=%EA%B3%B5%EC%97%85%EC%88%98%ED%95%992_5_1.pdf)<br>\n",
    "[참고-2](http://mathonline.wikidot.com/the-norm-of-a-vector)<br>\n",
    "아래 내용은 위의 링크를 정리한것."
   ]
  },
  {
   "cell_type": "markdown",
   "metadata": {},
   "source": [
    "# Norm of Vector"
   ]
  },
  {
   "cell_type": "markdown",
   "metadata": {},
   "source": [
    "벡터의 크기 : 원점에서 벡터의 끝점 까지의 거리"
   ]
  },
  {
   "cell_type": "markdown",
   "metadata": {},
   "source": [
    "![vecter norm](http://mathonline.wdfiles.com/local--files/the-norm-of-a-vector/Screen%20Shot%202014-06-12%20at%205.37.19%20PM.png)"
   ]
  },
  {
   "cell_type": "markdown",
   "metadata": {},
   "source": [
    "$$\n",
    "\\parallel \\overrightarrow{u}\\parallel = \\sqrt{u_1^2 + u_2^2}\n",
    "$$"
   ]
  },
  {
   "cell_type": "markdown",
   "metadata": {},
   "source": [
    "문제 1."
   ]
  },
  {
   "cell_type": "markdown",
   "metadata": {},
   "source": [
    "$\\overrightarrow{u} = (3, 4)$ 대한 벡터 norm(크기)을 계산하여라"
   ]
  },
  {
   "cell_type": "markdown",
   "metadata": {},
   "source": [
    "$$\n",
    "\\parallel \\overrightarrow{u}\\parallel= \\sqrt{3^2+4^2} = \\sqrt{25} = 5\n",
    "$$"
   ]
  },
  {
   "cell_type": "markdown",
   "metadata": {},
   "source": [
    "문제2"
   ]
  },
  {
   "cell_type": "markdown",
   "metadata": {},
   "source": [
    "Calculater the norm of the vector $\\overrightarrow{u} = (2, -2, 3, -4)$"
   ]
  },
  {
   "cell_type": "markdown",
   "metadata": {},
   "source": [
    "$$\n",
    "|| \\overrightarrow{u} || = \\sqrt{2^2 + -2^2 + 3^2 -4^2}\n",
    "$$\n",
    "$$ =\\sqrt{4 + 4 + 9 + 16}$$\n",
    "$$ =\\sqrt{8+25}$$\n",
    "$$ =\\sqrt{33}$$"
   ]
  },
  {
   "cell_type": "markdown",
   "metadata": {},
   "source": [
    "## 두 점사이의 거리"
   ]
  },
  {
   "cell_type": "markdown",
   "metadata": {},
   "source": [
    "Remember, we can write a vector that starts at some initial point P, and some terminal point Q. Recall that we can calculate this vector in 3-space with the formula."
   ]
  },
  {
   "cell_type": "markdown",
   "metadata": {},
   "source": [
    "$$\n",
    "\\overrightarrow{PQ} = (x_Q-x_P, y_Q-y_P, z_Q-Z_p)\n",
    "$$"
   ]
  },
  {
   "cell_type": "code",
   "execution_count": 1,
   "metadata": {},
   "outputs": [],
   "source": [
    "import matplotlib.pyplot as plt\n",
    "import numpy as np"
   ]
  },
  {
   "cell_type": "code",
   "execution_count": 11,
   "metadata": {},
   "outputs": [],
   "source": [
    "P_x = [3]\n",
    "P_y = [3]\n",
    "Q_x = [2]\n",
    "Q_y = [2]"
   ]
  },
  {
   "cell_type": "code",
   "execution_count": 24,
   "metadata": {},
   "outputs": [
    {
     "data": {
      "image/png": "[encoded data removed]",
      "text/plain": [
       "<matplotlib.figure.Figure at 0x7ffb13d45ba8>"
      ]
     },
     "metadata": {},
     "output_type": "display_data"
    }
   ],
   "source": [
    "# 크기\n",
    "plt.figure(figsize=(12, 5))\n",
    "\n",
    "# 표 이름\n",
    "plt.title('The Distance Between Two Points')\n",
    "\n",
    "plt.scatter(P_x,P_y, c ='r', label=\"P\")\n",
    "plt.scatter(Q_x,Q_y, c ='b', label=\"Q\")\n",
    "\n",
    "# X, Y 이름 붙이기\n",
    "plt.xlabel('X')\n",
    "plt.ylabel('y')\n",
    "\n",
    "\n",
    "# 범례표시\n",
    "plt.legend(loc ='upper left')\n",
    "\n",
    "# 눈금 표시\n",
    "plt.grid(True)\n",
    "\n",
    "# 화살표\n",
    "plt.arrow(2, 2, 3, 3)\n",
    "\n",
    "\n",
    "plt.show()"
   ]
  },
  {
   "cell_type": "code",
   "execution_count": null,
   "metadata": {},
   "outputs": [],
   "source": []
  }
 ],
 "metadata": {
  "kernelspec": {
   "display_name": "Python 3",
   "language": "python",
   "name": "python3"
  },
  "language_info": {
   "codemirror_mode": {
    "name": "ipython",
    "version": 3
   },
   "file_extension": ".py",
   "mimetype": "text/x-python",
   "name": "python",
   "nbconvert_exporter": "python",
   "pygments_lexer": "ipython3",
   "version": "3.5.3"
  }
 },
 "nbformat": 4,
 "nbformat_minor": 2
}
