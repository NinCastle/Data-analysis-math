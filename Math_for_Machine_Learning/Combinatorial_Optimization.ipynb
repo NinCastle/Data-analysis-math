{
 "cells": [
  {
   "cell_type": "markdown",
   "metadata": {},
   "source": [
    "# Combinatorial Optimization(조합 최적화)"
   ]
  },
  {
   "cell_type": "markdown",
   "metadata": {},
   "source": [
    "[Combinatorial Optimization](http://www.aistudy.com/math/combinatorial_optimization.htm)<br>\n",
    "[Wikipedia : Combinatorial Optimization)](https://ko.wikipedia.org/wiki/%EC%A1%B0%ED%95%A9%EC%B5%9C%EC%A0%81%ED%99%94)<br>\n",
    "[조합적 최적화 : 문병로](http://www.aistudy.com/biology/genetic/application_moon.htm#_bookmark_67ae3a8)<br>\n",
    "[Optimization(최적화)](http://www.aistudy.com/math/optimization.htm)<br>\n",
    "아래 내용은 상기 링크를 정리한것"
   ]
  },
  {
   "cell_type": "markdown",
   "metadata": {},
   "source": [
    "## Combinatorial Optimization"
   ]
  },
  {
   "cell_type": "markdown",
   "metadata": {},
   "source": [
    "Combinatorial Optimization(조합최적화)은 응용수학과 컴퓨터과학에서 [Optimization(최적화)](http://www.aistudy.com/math/optimization.htm)의 한 분야이며,<br>\n",
    "경영과학(Operation Research), 알고리즘 이론, [계산 복잡도 이론(Computational Complexity Theory)](http://www.aistudy.com/computer/computational_complexity_theory.htm)과 관련되어 있다.<br>"
   ]
  },
  {
   "cell_type": "markdown",
   "metadata": {},
   "source": [
    "때로는 \"discrete optimization\"이라고 불리지만 다소 다르다고 봐야한다.<br>\n",
    "조합최적화가 다루는 영역은 <br>\n",
    "<span style=\"color:red\">가능성있는 해(feasible solutions)들이 이산적(discrete)이거나 이산적인 것으로 축소될 수 있는 최적화 문제들이며, 가장 가능성 높은 해를 찾는 것이 목적</span><br>"
   ]
  },
  {
   "cell_type": "markdown",
   "metadata": {},
   "source": [
    "그러한 문제들의 예로서는 순회판매원 문제(Travelling Salesman Problem), minimum spanning tree problem, linear programming problems들을 예로 들을 수 있다.<br>\n",
    "local search, [모의 담금질(Simulated Annealing)](http://www.aistudy.com/neural/simulated_annealing.htm), tabusearch, or [유전알고리즘(Genetic Algorithm)](http://www.aistudy.com/biology/genetic/genetic_algorithm.htm).<br> \n",
    "와 같은 메타휴리스틱(meta heuristics, [휴리스틱(Heuristic)](http://www.aistudy.com/heuristic/heuristic.htm))은 조합 최적화 문제들의 근사한 최적 해(approximate optimal solutions)를 찾는데 사용될 수 있다.<br>\n",
    "<br>\n"
   ]
  },
  {
   "cell_type": "markdown",
   "metadata": {},
   "source": [
    "## 조합적 최적화 : 문병로"
   ]
  },
  {
   "cell_type": "markdown",
   "metadata": {},
   "source": [
    "조합적 최적화(combinatorial optimization)는 유전 알고리즘의 응용 예들 중 가장 많은 결과를 낸 것들중 하나이다.<br>\n",
    "가장 관심을 끄는 연구 분야는 NP-Hard군에 속하는 문제들일 것.<br>\n",
    "유전 알고리즘이 도전한 대표적인 문제 또는 문제군을 몇가지 나열하면 \n",
    "    * 순회 세일즈맨문제, \n",
    "    * 작업공정 스케줄링, \n",
    "    * 네트윅 레이아웃, \n",
    "    * VLSICAD 레이아웃, \n",
    "    * 채널 라우팅, \n",
    "    * DB질의 최적화, \n",
    "    * 자동차 스케줄링, \n",
    "    * 그래프 분할, \n",
    "    * 최대 완전 그래프 문제, \n",
    "    * 스타이너(Steiner)트리 최적화, \n",
    "    * 부하 밸런스(Load balancing)문제, \n",
    "    * 시간표 문제(timetabling), \n",
    "    * 이차원 배정문제(Quadratic assignment problem), \n",
    "    * 단백질 구조 최적화\n",
    "등 한정된 공간에 나열하기도 힘들다.<br>"
   ]
  }
 ],
 "metadata": {
  "kernelspec": {
   "display_name": "Python 2",
   "language": "python",
   "name": "python2"
  },
  "language_info": {
   "codemirror_mode": {
    "name": "ipython",
    "version": 2
   },
   "file_extension": ".py",
   "mimetype": "text/x-python",
   "name": "python",
   "nbconvert_exporter": "python",
   "pygments_lexer": "ipython2",
   "version": "2.7.14"
  }
 },
 "nbformat": 4,
 "nbformat_minor": 2
}
