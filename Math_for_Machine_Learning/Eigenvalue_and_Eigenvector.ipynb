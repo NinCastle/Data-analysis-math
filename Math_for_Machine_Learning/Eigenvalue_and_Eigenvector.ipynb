{
 "cells": [
  {
   "cell_type": "markdown",
   "metadata": {},
   "source": [
    "[고유값과 고유벡터(eigenvalue & eigenvector)](http://darkpgmr.tistory.com/105)<br>\n",
    "[Definitions of Eigenvalues and Eigenvectors](https://wikidocs.net/4050)<br>\n",
    "아래 내용은 상기 링크의 내용을 정리한것."
   ]
  },
  {
   "cell_type": "markdown",
   "metadata": {},
   "source": [
    "* 상수: <br>\n",
    "변하지 않고 항상 같은 값을 가지는 수를 말한다.<br>\n",
    "<br>\n",
    "<br>\n",
    "* 상수함수: <br>\n",
    "상수 로만 이루어진, 즉 상수항만으로 구성된 함수.<br>\n",
    "아래 그래프의 $f(x)=3$는 변수 $x$에 관계없이 항상 같은 값인 3을 갖는 상수함수이다.<br>\n",
    "상수함수는 $f(x)=c$ ($c$는 상수)의 꼴로 나타낸다.<br>\n",
    "![상수함수](http://dbscthumb.phinf.naver.net/2765_000_11/20171101183135444_HM888DSKU.gif/87312_0.gif?type=m1500&wm=N)"
   ]
  },
  {
   "cell_type": "markdown",
   "metadata": {},
   "source": [
    "# Eigenvalue & Egenvector"
   ]
  },
  {
   "cell_type": "markdown",
   "metadata": {},
   "source": [
    "Eigenvalue(고유값), Egenvectors(고유벡터)에 대한 수학적 정의는 비교적 간단.<br>\n",
    "<br>\n",
    "행렬 A를 선형변환으로 봤을 때,<br>\n",
    "<span style=\"color:red\">선형변환 A에 의한 변환 결과가 자기 자신의 상수배가 되는 0이 아닌 벡터</span>를 eigenvalue라고 하고 이 상수배 값을 egenvector라 한다."
   ]
  },
  {
   "cell_type": "markdown",
   "metadata": {},
   "source": [
    "<br>\n",
    "즉, $n \\times n$ 정방행렬(고유값, 고유벡터는 정방행렬에 대해서만 정의된다.)<br> \n",
    "$A$에 대해 $Av = \\lambda v$를 만족하는 0이 아닌 열벡터 $v$를 고유벡터, 상수 $\\lambda$를 고유값이라 정의.<br>\n",
    "$$\n",
    "Av = \\lambda v\n",
    "$$\n",
    "\n",
    "$$\n",
    "\\begin{bmatrix}\n",
    "a_{11} & \\ldots & a_{1n} \\\\\n",
    "\\vdots & \\ddots & \\vdots \\\\\n",
    "a_{n1} & \\ldots & a_{nn} \\\\\n",
    "\\end{bmatrix}\n",
    "\\begin{bmatrix}\n",
    "v_1 \\\\\n",
    "\\vdots \\\\\n",
    "v_n \\\\\n",
    "\\end{bmatrix}\n",
    "= \\lambda\n",
    "\\begin{bmatrix}\n",
    "v_1 \\\\\n",
    "\\vdots \\\\\n",
    "v_n \\\\\n",
    "\\end{bmatrix}\n",
    "$$"
   ]
  },
  {
   "cell_type": "markdown",
   "metadata": {},
   "source": [
    "<br>\n",
    "좀더 정확한 용어로는 $\\lambda$는 '행렬 A의 고유값', $v$는 '행렬 $A$의 $\\lambda$에 대한 고유벡터'이다."
   ]
  },
  {
   "cell_type": "markdown",
   "metadata": {},
   "source": [
    "<br>\n",
    "즉, 고유값과 고유벡터는 행렬에 따라 정의되는 값으로써<br> \n",
    "어떤 행렬은 이러한 고유값-고유벡터가 아에 존재하지 않을수도 있고<br>\n",
    "어떤 행렬은 하나만 존재하거나 또는 최대 n개 까지 존재할 수도 있다."
   ]
  }
 ],
 "metadata": {
  "kernelspec": {
   "display_name": "Python 3",
   "language": "python",
   "name": "python3"
  },
  "language_info": {
   "codemirror_mode": {
    "name": "ipython",
    "version": 3
   },
   "file_extension": ".py",
   "mimetype": "text/x-python",
   "name": "python",
   "nbconvert_exporter": "python",
   "pygments_lexer": "ipython3",
   "version": "3.6.4"
  }
 },
 "nbformat": 4,
 "nbformat_minor": 2
}
