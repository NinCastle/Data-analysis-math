{
 "cells": [
  {
   "cell_type": "markdown",
   "metadata": {},
   "source": [
    "# KNN\n",
    "[KNN Link](http://kkokkilkon.tistory.com/14)"
   ]
  },
  {
   "cell_type": "markdown",
   "metadata": {},
   "source": [
    "## k-최근접 이웃 알고리즘, k-Nearest Neighber\n",
    "<br>\n",
    "지도학습 중 분류 문제에 사용하는 알고리즘.<br>\n",
    "분류 문제란 새로운 데이터가 들어왔을 때 기존 데이터의 그룹중 어떤 그룹에 속하는지를 분류하는 문제.<br>\n",
    "<br>\n",
    "ex)\n",
    "![knn](http://cfile28.uf.tistory.com/image/234A484058C7912C278231)"
   ]
  },
  {
   "cell_type": "markdown",
   "metadata": {},
   "source": [
    "k-NN은 새로 들어온 \"★은 ◼그룹의 데이터와 가장 가까우니 ★은 ◼그룹이다.\"<br> \n",
    "라고 분류하는 알고리즘 여기서 k의 역활은 몇 번째로 가까운 데이터까지 살펴볼 것인가를 정하는 숫자.<br>\n",
    "<br>"
   ]
  },
  {
   "cell_type": "markdown",
   "metadata": {},
   "source": []
  },
  {
   "cell_type": "markdown",
   "metadata": {},
   "source": [
    "### (1) k-NN의 원리\n",
    "예)<br>\n",
    "6개의 기존 데이터A-F와 1개의 신규 데이터 N이 있을때,"
   ]
  },
  {
   "cell_type": "markdown",
   "metadata": {},
   "source": [
    "|데이터|x좌표|y좌표|그룹|\n",
    "|----|----|----|----|\n",
    "|A|1|5|원형|\n",
    "|B|2|6|원형|\n",
    "|C|4|5|원형|\n",
    "|D|5|2|세모|\n",
    "|E|6|3|세모|\n",
    "|F|7|1|세모|\n",
    "|N|4|4|?|\n",
    "\n",
    "![knn_ex](http://cfile7.uf.tistory.com/image/2539894358C791092FA552)"
   ]
  },
  {
   "cell_type": "markdown",
   "metadata": {},
   "source": [
    "<br>\n",
    "<br>\n",
    "아래 그림과 같이 k = 1 이라면,<br>\n",
    "거리가 1번째로 가까운 C만을 보고 신규 데이터를 분류한다. 따라서 N은 C와 같은 ●그룹으로 분류.<br>\n",
    "<br>\n",
    "\n",
    "![k = 1](http://cfile1.uf.tistory.com/image/216CEE4358C791092166EE)"
   ]
  },
  {
   "cell_type": "markdown",
   "metadata": {},
   "source": [
    "<br>\n",
    "<br>\n",
    "아래 그림과 같이 k = 3 이라면, <br>\n",
    "거리가 3 번째로 가까운 C, D, E가지 보고 신규 데이터를 분류한다.<br> \n",
    "**이때 그룹이 갈리면, 다수결의 원칙에 따른다**<br>\n",
    "여기서는 ● : △ = 1:2가 되어 N은 $\\triangle$로 분류된다.\n"
   ]
  },
  {
   "cell_type": "markdown",
   "metadata": {},
   "source": [
    "![k = 3](http://cfile7.uf.tistory.com/image/2749594358C7910A067786)"
   ]
  },
  {
   "cell_type": "markdown",
   "metadata": {},
   "source": [
    "<br>\n",
    "<br>"
   ]
  },
  {
   "cell_type": "markdown",
   "metadata": {},
   "source": [
    "아래 그림과 같이 k = 5 라면,\n",
    "거리가 5번째로 가까운 C, D, E, A, B까지 범위에 측정하고 신규 데이터를 분류. 여기서는 ● : △ = 3:2가 되어 N은 ●으로 분류된다."
   ]
  },
  {
   "cell_type": "markdown",
   "metadata": {},
   "source": [
    "![k = 5](http://cfile6.uf.tistory.com/image/22591F4358C7910A05D870)"
   ]
  },
  {
   "cell_type": "markdown",
   "metadata": {},
   "source": [
    "**이처럼 같은 데이터임에도 k에 얼만큼 포함되는지에 따라 ●으로 분류 되거나, △로 분류된다.**<br>\n",
    "결과적으로 K를 어떻게 설정하는지에 따라 결과 값이 변하게 된다.<br>"
   ]
  },
  {
   "cell_type": "markdown",
   "metadata": {},
   "source": []
  },
  {
   "cell_type": "markdown",
   "metadata": {},
   "source": [
    "## (2) 거리척도의 단위문제 - 표준화\n",
    "## (Euclidean, Manhattan Distance, etc.)"
   ]
  },
  {
   "cell_type": "markdown",
   "metadata": {},
   "source": [
    "K를 정하기 전에 선행되어야 하는 작업이 있다.<br> \n",
    "바로 표준화. K-NN에서 가깝다는 개념은 표준화를 통해서 정의,<br> \n",
    "그중 하나가 유클리드 거리(Euclidean Distance)이고, Euclidean를 이용한 예를 실행한다.<br>\n",
    "<br>\n",
    "<br>\n",
    "Euclidean Distance는 아래와 같이 계산한다.<br>\n",
    "<br>"
   ]
  },
  {
   "cell_type": "markdown",
   "metadata": {},
   "source": [
    "$$\n",
    "\\sqrt{(Ax - Bx)^2 + (Ay - By)^2}\n",
    "$$"
   ]
  },
  {
   "cell_type": "markdown",
   "metadata": {},
   "source": [
    "예를 들어 앞에서 다뤘던 데이터에서 y좌표의 단위가 달러($) 였을 경우."
   ]
  },
  {
   "cell_type": "markdown",
   "metadata": {},
   "source": [
    "<br>\n",
    "![Euclidean Distance about $](http://cfile1.uf.tistory.com/image/2767534358C7910B224F86)"
   ]
  },
  {
   "cell_type": "markdown",
   "metadata": {},
   "source": [
    "이때 A-N 간의 Euclidean Distance는 3.162이고, B-N간의 Euclidean Distance는 2.828 로, B가 더 가깝다.<br>\n",
    "<br>\n",
    "<br>\n",
    "그런데 만약에 y좌표의 단위가 원(\\)으로 바뀌었을 경우를 가정하고,<br> \n",
    "1달러 = 1,000원 이라고 한다면 그래프가 아래처럼 바뀔것이다.<br>\n",
    "<br>\n",
    "![Euclidean Distance about \\](http://cfile26.uf.tistory.com/image/242F9A4358C7910B073BF1)"
   ]
  },
  {
   "cell_type": "markdown",
   "metadata": {},
   "source": [
    "이때 A-N간의 Euclidean Distance는 1000.004이고,<br> \n",
    "B-N간의 Euclidean Distance는 2000.001로, **A가 더 가깝다.**<br>\n"
   ]
  },
  {
   "cell_type": "code",
   "execution_count": null,
   "metadata": {
    "collapsed": true
   },
   "outputs": [],
   "source": []
  }
 ],
 "metadata": {
  "kernelspec": {
   "display_name": "Python 3",
   "language": "python",
   "name": "python3"
  },
  "language_info": {
   "codemirror_mode": {
    "name": "ipython",
    "version": 3
   },
   "file_extension": ".py",
   "mimetype": "text/x-python",
   "name": "python",
   "nbconvert_exporter": "python",
   "pygments_lexer": "ipython3",
   "version": "3.6.1"
  }
 },
 "nbformat": 4,
 "nbformat_minor": 2
}
