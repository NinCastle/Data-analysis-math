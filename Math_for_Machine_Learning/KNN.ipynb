{
 "cells": [
  {
   "cell_type": "markdown",
   "metadata": {},
   "source": [
    "# KNN\n",
    "[KNN Link](http://kkokkilkon.tistory.com/14)"
   ]
  },
  {
   "cell_type": "markdown",
   "metadata": {},
   "source": [
    "## k-최근접 이웃 알고리즘, k-Nearest Neighber\n",
    "<br>\n",
    "지도학습 중 분류 문제에 사용하는 알고리즘.<br>\n",
    "분류 문제란 새로운 데이터가 들어왔을 때 기존 데이터의 그룹중 어떤 그룹에 속하는지를 분류하는 문제.<br>\n",
    "<br>\n",
    "ex)\n",
    "![knn](http://cfile28.uf.tistory.com/image/234A484058C7912C278231)"
   ]
  },
  {
   "cell_type": "markdown",
   "metadata": {},
   "source": [
    "k-NN은 새로 들어온 \"$\\bigstar$은 $\\blacksquare$그룹의 데이터와 가장 가까우니 $\\bigstar$은 $\\blacksquare$그룹이다.\"<br> \n",
    "라고 분류하는 알고리즘 여기서 k의 역활은 몇 번째로 가까운 데이터까지 살펴볼 것인가를 정하는 숫자.<br>\n",
    "<br>"
   ]
  },
  {
   "cell_type": "markdown",
   "metadata": {},
   "source": [
    "### (1) k-NN의 원리\n",
    "예)<br>\n",
    "6개의 기존 데이터A-F와 1개의 신규 데이터 N이 있을때,"
   ]
  },
  {
   "cell_type": "markdown",
   "metadata": {},
   "source": [
    "|데이터|x좌표|y좌표|그룹|\n",
    "|----|----|----|----|\n",
    "|A|1|5|원형|\n",
    "|B|2|6|원형|\n",
    "|C|4|5|원형|\n",
    "|D|5|2|세모|\n",
    "|E|6|3|세모|\n",
    "|F|7|1|세모|\n",
    "|N|4|4|?|\n",
    "\n",
    "![k-nn의 원리](http://cfile7.uf.tistory.com/image/2539894358C791092FA552)"
   ]
  },
  {
   "cell_type": "markdown",
   "metadata": {},
   "source": [
    "●"
   ]
  }
 ],
 "metadata": {
  "kernelspec": {
   "display_name": "Python 3",
   "language": "python",
   "name": "python3"
  },
  "language_info": {
   "codemirror_mode": {
    "name": "ipython",
    "version": 3
   },
   "file_extension": ".py",
   "mimetype": "text/x-python",
   "name": "python",
   "nbconvert_exporter": "python",
   "pygments_lexer": "ipython3",
   "version": "3.5.3"
  }
 },
 "nbformat": 4,
 "nbformat_minor": 2
}
