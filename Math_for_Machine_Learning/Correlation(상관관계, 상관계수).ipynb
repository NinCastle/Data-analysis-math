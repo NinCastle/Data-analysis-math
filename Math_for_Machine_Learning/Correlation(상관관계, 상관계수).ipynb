{
 "cells": [
  {
   "cell_type": "markdown",
   "metadata": {},
   "source": [
    "# Correlation(상관관계)\n"
   ]
  },
  {
   "cell_type": "markdown",
   "metadata": {},
   "source": [
    "[Correlation](https://medium.com/@youngji/%EC%83%81%EA%B4%80%EA%B3%84%EC%88%98%EC%99%80-%ED%9A%8C%EA%B7%80%EB%B6%84%EC%84%9D-37a04876b916)<br>\n",
    "[Covariance 공분산](http://destrudo.tistory.com/15)<br>\n",
    "[피어슨 상관계수](http://math7.tistory.com/114)<br>\n",
    "아래 내용은 상기 링크를 정리한것"
   ]
  },
  {
   "cell_type": "markdown",
   "metadata": {},
   "source": [
    "상관관계는 두 변수간의 상호적인 관계를 뜻한다.<br>\n",
    "예를 들어 돈과 행복은 일정 범위까지 유의미한 상관관계를 가진다.<br>\n",
    "하지만 이것이 돈이 많은 사람이 여러가지 물질적인 요소를 충족하여서 자연스럽게 행복한것인지,<br>\n",
    "행복한 사람이 더 일을 열심히 일하여 돈이 많은 것인지는 알 수 없다.<br>\n",
    "따라서 단순한 연관성만을 살펴볼 수 밖에 없다.<br>\n",
    "<br>\n",
    "상관관계가 있다면, -(음)의 상관관계 일 수도 있고 +(양)의 상관관계일 수도 있다.<br>\n",
    "<br>\n",
    "행복과 돈중 어떤 것이 원인과 결과인지를 파악하려면, 인과관계를 파악해야 한다.<br>\n",
    "두 변수간의 인과관계를 파악하려면, 두 변수간의 상관관계가 있어야 한다.<br>\n",
    "하지만, 상관관계가 높은 변수라고 반드시 인과관계가 있지는 않다.<br>\n",
    "커피와 심장병 발병간에 상관관계가 있지만, 커피를 줄이면 심장병이 줄어드는 것은 아니다.<br>\n",
    "즉, 스트레스가 원인이 제 3의 원이 되어서 커피 소비량과 심장병 발병률을 증가시키지 때문에, <br>\n",
    "스트레스와 커피, 심장병이 인과관계를 가진다.\n",
    "\n",
    "![커피, 심장병, 스트레스](https://cdn-images-1.medium.com/max/1600/1*15GEhgLVJiNeyQfVUd1Bbw.jpeg)"
   ]
  },
  {
   "cell_type": "markdown",
   "metadata": {},
   "source": [
    "# Correlation Coefficient(상관계수)"
   ]
  },
  {
   "cell_type": "markdown",
   "metadata": {},
   "source": [
    "## Covariance\n",
    "<br>\n",
    "상관계수를 알기전에 Covariance에 대해서 알아야 한다.<br>\n",
    "확률변수 X가 있을때 우리가 흔히 이 분포를 나타낼때 쓰이는 것이<br>\n",
    "```\n",
    "1. 평균\n",
    "2. 분산\n",
    "```\n",
    "<br>\n",
    "평균으로써 분포의 중간부분을 알아내고, <br>\n",
    "분산으로써 분포가 얼마나 퍼져있는지를 알아낸다.<br>\n",
    "<br>\n",
    "그렇다면, 확률변수가 2가지일때 이확률분포들이 어떤모양으로 되어있는지를 알고 싶을때<br>\n",
    "가장먼저 **X의 평균**, 다음이 **Y의 평균**이다.<br>\n",
    "<br>\n",
    "이렇게 되면 분포가 어디에 주로 모여있는지 $(m_x, m_y)$가 나온다.<br>\n",
    "그 다음으로 궁금한게 얼마나 퍼져있는지 인데 그것은 확률변수의 분산을 구하면 되지만<br>\n",
    "각 확률변수들이 어떻게 퍼져있는지를 나타내는 것이 <span style=\"color:red\">Covariance(공분산)</span>이다.<br>\n",
    "<br>"
   ]
  },
  {
   "cell_type": "markdown",
   "metadata": {},
   "source": [
    "두 확률변수 X와 Y가 어떤 모양으로 퍼져있는지<br>\n",
    "즉, X가 커지면서 Y도 커지거나 혹은 작아지거나 아니면 상관없거나 등을 나타내 주는 것.<br>\n",
    "![Covariance Relationships](http://cfile22.uf.tistory.com/image/2533B54B58BD19341C6FB5)"
   ]
  },
  {
   "cell_type": "markdown",
   "metadata": {},
   "source": [
    "(a) $Cov(X,Y) > 0$ : X가 증가 할 때 Y도 증가한다.<br>\n",
    "<br>\n",
    "(b) $Cov(X,Y) < 0$ : X가 증가 할 때 Y는 감소한다.<br>\n",
    "<br>\n",
    "(c) $Cov(X,Y) = 0$ : 공분산이 0이라면 두 변수간에는 아무런 선형관계가 없으며,<br>\n",
    "두 변수는 독립적인 관계가 있음을 알 수 있다.<br>\n",
    "그러나 두 변수가 독립적이라면 공분산은 0이 되지만, 공분산이 0이라고 해서 항상 독립적이라고 할 수 없다.<br>\n",
    "<br>\n",
    "<br>\n",
    "공분산은 아래의 식으로 구한다."
   ]
  },
  {
   "cell_type": "markdown",
   "metadata": {},
   "source": [
    "확률변수 X의 평균(기대값), Y의 평균을 각각<br>\n",
    "$$\n",
    "E(X) = \\mu, E(Y) = v\n",
    "$$\n",
    "이라 했을때, $X$, $Y$의 공분산은 아래와 같다.\n",
    "$$\n",
    "Cov(X, Y) = E((X-\\mu)(Y-v))\n",
    "$$\n",
    "<br>\n",
    "좀더 간단히 정리하면 아래와 같다.<br>\n",
    "<br>\n"
   ]
  },
  {
   "cell_type": "markdown",
   "metadata": {},
   "source": [
    "$$Cov(X, Y) = E(XY) - \\mu v$$\n",
    "<br>\n",
    "<br>\n",
    "$$\n",
    "E((X-\\mu)(Y-v)) = E(XY - \\mu Y - vX + \\mu v)\n",
    "$$\n",
    "$$\n",
    "= E(XY) - \\mu E(X) - vE(Y) + \\mu v\n",
    "$$\n",
    "$$\n",
    "= E(XY) - \\mu v\n",
    "$$"
   ]
  },
  {
   "cell_type": "markdown",
   "metadata": {},
   "source": [
    "만약에 X와 Y가 독립이면\n",
    "$$\n",
    "E(XY) = E(X)E(Y) = \\mu v\n",
    "$$\n",
    "이므로 공분산은 0이 된다."
   ]
  },
  {
   "cell_type": "markdown",
   "metadata": {},
   "source": [
    "그런데 공분산에도 문제점이 하나 있다.<br>\n",
    "**X와 Y의 단위의 크기에 영향을 받는다는 것이다.**<br>\n",
    "<br>\n",
    "즉, 100점 만점인 두 과목의 점수 공분산은 별로 상관성이 부족하지만 100점 만점이기 때문에 큰 값이 나오고<br> \n",
    "10점 짜리 두과목의 점수 공분산은 상관성이 아주 높지만 10점 만점이기 때문에 작은 값이 나온다.<br>\n",
    "이것을 보안하기 위해 Correlation(상관계수)가 나타난다."
   ]
  },
  {
   "cell_type": "markdown",
   "metadata": {},
   "source": [
    "## Correlation Coefficient\n",
    "Correlation Coefficient(상관계수)라는 개념이 왜 나왔는지 생각하면 의외로 간단.<br>\n",
    "확률변수의 절대적 크기에 영향을 받지 않도록 단위화 시켰다고 생각하면 된다.<br>\n",
    "즉, 분산의 크기만큼 나누 었다고 생각하면 된다.<br>\n",
    "<br>\n",
    "다시 말해서, 어떤 두 변수간에 얼마 만큼의 상관관계가 있는지 나타내는 **지수**가 상관계수이다.<br>\n",
    "<br>\n",
    "상관계수에는 여러가지 종류가 잇지만, 가장 대중적으로 쓰이는 피어슨 상관계수에 대해서만 설명<br>\n",
    "피어슨 상관계수는 두 변수의 선형적 관계를 나타낼 때 쓰인다.<br>\n",
    "<br>\n",
    "-1 < P < 1사이를 나타내고,<br>\n",
    "<br>\n",
    "+1은 정비례한 상관관계를 가지고 <br>\n",
    "-1은 음의 상관관계를 가진다.<br>\n",
    "<br>"
   ]
  },
  {
   "cell_type": "markdown",
   "metadata": {},
   "source": [
    "![Pearson](https://cdn-images-1.medium.com/max/1600/1*mCwTX2_SmN-8EI_ej4r_MA.png)"
   ]
  },
  {
   "cell_type": "markdown",
   "metadata": {},
   "source": [
    "<br>\n",
    "피어슨 상관계수는 Covariance(공분산)를 두 변수 간의 표준편차로 나눈 값이다.<br>\n",
    "<br>\n",
    "$$\n",
    "P(x, y) = \\frac{Cov(x,y)}{\\sqrt{Var(x) Var(Y)}} = \\frac{Cov(x, y)}{\\delta(x)\\delta(x)}\n",
    "$$\n",
    "<br>\n",
    "$$\n",
    "= \\frac{n(\\sum xy)-(\\sum x)(\\sum y)}{\\sqrt {\\left[ n \\sum x^2-(\\sum x)^2 \\right] \\left[n \\sum y^2 - (\\sum x)^2 \\right]}}\n",
    "$$\n",
    "= (X와 Y가 함께 변하는 정도)/(X와 Y가 따로 변하는 정도)"
   ]
  },
  {
   "cell_type": "markdown",
   "metadata": {},
   "source": [
    "![](http://cfile25.uf.tistory.com/image/2538583F54B79BB62AD470)"
   ]
  },
  {
   "cell_type": "code",
   "execution_count": null,
   "metadata": {},
   "outputs": [],
   "source": []
  }
 ],
 "metadata": {
  "kernelspec": {
   "display_name": "Python 3",
   "language": "python",
   "name": "python3"
  },
  "language_info": {
   "codemirror_mode": {
    "name": "ipython",
    "version": 3
   },
   "file_extension": ".py",
   "mimetype": "text/x-python",
   "name": "python",
   "nbconvert_exporter": "python",
   "pygments_lexer": "ipython3",
   "version": "3.6.4"
  }
 },
 "nbformat": 4,
 "nbformat_minor": 2
}
