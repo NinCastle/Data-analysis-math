{
 "cells": [
  {
   "cell_type": "markdown",
   "metadata": {},
   "source": [
    "# PCA, 주성분 분석"
   ]
  },
  {
   "cell_type": "markdown",
   "metadata": {},
   "source": [
    "[주성분 분석](http://wikidocs.net/7646)<br>\n",
    "[주성분 분석2](http://darkpgmr.tistory.com/110)<br>\n",
    "아래 내용은 상기 링크를 정리한것"
   ]
  },
  {
   "cell_type": "markdown",
   "metadata": {},
   "source": [
    "PCA를 이해하기 위해서는 약간의 수학적 배경지식이 필요하다.<br>\n",
    "\n",
    "1. 상관계수는 벡터의 내적이다.\n",
    "2. eigenvector, eigenvalue의 기하하적 의미\n",
    "3. Lagranges'multiplier(SVM)"
   ]
  }
 ],
 "metadata": {
  "kernelspec": {
   "display_name": "Python 3",
   "language": "python",
   "name": "python3"
  },
  "language_info": {
   "codemirror_mode": {
    "name": "ipython",
    "version": 3
   },
   "file_extension": ".py",
   "mimetype": "text/x-python",
   "name": "python",
   "nbconvert_exporter": "python",
   "pygments_lexer": "ipython3",
   "version": "3.6.4"
  }
 },
 "nbformat": 4,
 "nbformat_minor": 2
}
