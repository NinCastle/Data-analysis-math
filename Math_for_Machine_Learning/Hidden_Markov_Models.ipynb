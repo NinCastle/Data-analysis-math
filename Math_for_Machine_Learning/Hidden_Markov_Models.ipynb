{
 "cells": [
  {
   "cell_type": "markdown",
   "metadata": {},
   "source": [
    "# Hidden Markov Models, HMMs"
   ]
  },
  {
   "cell_type": "markdown",
   "metadata": {},
   "source": [
    "[자료링크](http://ratsgo.github.io/machine%20learning/2017/03/18/HMMs)\n",
    "\n",
    "Hidden Markov Models은 마코프 체인(Markov chain)을 전제로한 모델.<br>\n",
    "순차적 데이터를 다루는데 강점을 지녔다.<br>\n",
    "인식, 포스테깅 등 단어의 연쇄로 나타나는 언어 구조 처리에 과거 많은 주목을 받음<br>"
   ]
  },
  {
   "cell_type": "markdown",
   "metadata": {},
   "source": []
  },
  {
   "cell_type": "markdown",
   "metadata": {},
   "source": [
    "## 마코프 체인\n",
    "\n",
    "<br>\n",
    "마코프 체인이란 마코프 성질(Markov Property)을 지닌 이산확률과정(discrete-time stochastic process)을 가리킵니다. 마코프 체인은 러시아 수학자 마코프가 1913년경 러시아어 문헌에 나오는 글자들의 순서에 관한 모델을 구축하기 위해 제안된 개념."
   ]
  },
  {
   "cell_type": "markdown",
   "metadata": {},
   "source": [
    "**한 상태(state)의 확률은 단지 그 이전 상태에만 의존 한다는 전제가 핵심**<br> \n",
    "즉, 한 상태에서 다른 상태로의 전이(transition)는 그동안 상태 전이에 대한 긴 이력(histroy)을 필요로 하지 않고<br> \n",
    "<span style=\"color:red\">바로 직전의 상태</span>에서의 전이로 추정해 간다는 개념."
   ]
  },
  {
   "cell_type": "markdown",
   "metadata": {},
   "source": [
    "### 마코프 체인의 공식\n",
    "\n",
    "$$\n",
    "P(q_i|q_1, \\ldots, q_{i-1}) = P(q_i|q_{i-1})\n",
    "$$"
   ]
  },
  {
   "cell_type": "markdown",
   "metadata": {},
   "source": []
  },
  {
   "cell_type": "markdown",
   "metadata": {},
   "source": [
    "날씨를 마코프 체인으로 모델링한 예시는 다음 그림과 같다."
   ]
  },
  {
   "cell_type": "markdown",
   "metadata": {},
   "source": []
  },
  {
   "cell_type": "markdown",
   "metadata": {},
   "source": [
    "![마코프 체인](https://i.imgur.com/iCPKPWz.png)"
   ]
  },
  {
   "cell_type": "markdown",
   "metadata": {},
   "source": []
  },
  {
   "cell_type": "markdown",
   "metadata": {},
   "source": [
    "위의 마코프 체인에서 Node는 상태, 엣지는 전이를 가르킨다.<br>\n",
    "<br>\n",
    "엣지(연결선) $a_{ij}$는 $i$번째의 상태에서 $j$번째의 상태로 전이할 확률을 나타낸다.<br>\n",
    "<br>\n",
    "각. 노드별 전이 확률의 합은 1이다.(ex: $a_{01}+a_{02}+a_{03}=1$)<br>\n",
    "<br>\n",
    "상태에는 일반적인 종류의 상태(HOT, COLD, WARM)이외에 시작(start)과 끝(end) 상태도 있다."
   ]
  },
  {
   "cell_type": "markdown",
   "metadata": {},
   "source": []
  },
  {
   "cell_type": "markdown",
   "metadata": {},
   "source": [
    "## 은닉 마코프 모델"
   ]
  },
  {
   "cell_type": "markdown",
   "metadata": {},
   "source": [
    "은닉마코프모델은 각 상태가 모코프체인을 따르되 은닉(hidden)되어 있다고 가정.<br>\n",
    "예를 들어 100년 전 기후를 연구하는 학자인데, 주어진 정보는 당시 아이스크림 소비 기록뿐 일때.<br>\n",
    "이 정보만으로 당시 날씨가 더웠는지, 추웠는지, 따뜻했는지를 알고 싶다.<br>\n",
    "우리는 아이스크림 소비 기록의 연쇄를 관찰할 수 있지만, 해당 날짜의 날시가 무엇인지는 직접 관측하기 어렵다.<br>\n",
    "은닉마코프 모델은 이처럼 관측치 뒤에 은닉되어 있는 상태(state)를 추정하고자 한다.<br>"
   ]
  },
  {
   "cell_type": "markdown",
   "metadata": {},
   "source": []
  },
  {
   "cell_type": "markdown",
   "metadata": {},
   "source": [
    "날씨를 예로 은닉마코프 모델을 도식화한 그림"
   ]
  },
  {
   "cell_type": "markdown",
   "metadata": {},
   "source": []
  },
  {
   "cell_type": "markdown",
   "metadata": {},
   "source": [
    "![Hidden Markov Model](https://i.imgur.com/lEMDGBC.png)"
   ]
  },
  {
   "cell_type": "markdown",
   "metadata": {},
   "source": []
  },
  {
   "cell_type": "markdown",
   "metadata": {},
   "source": [
    "위 그림에서 $B_1$은 날씨가 더울 때 아이스크림을 1개 소비할 확률이 0.2이고<br> \n",
    "2개 내지 3개 먹을 확률은 각각 0.4라는 걸 나타낸다.<br>\n",
    "<br>\n",
    "$B_1$은 날씨가 더울 때 조건부확률이므로 HOT이라는 은식상태와 연관이 있다.<br>\n",
    "$B$는 **방출확률(emission probablity)**이라고도 불리운다.<br>\n",
    "은닉된 상태로 부터 관측치가 튀어나올 확률이라는 의미에서 이름이름이 붙었다.<br>"
   ]
  },
  {
   "cell_type": "markdown",
   "metadata": {},
   "source": []
  },
  {
   "cell_type": "markdown",
   "metadata": {},
   "source": []
  },
  {
   "cell_type": "code",
   "execution_count": null,
   "metadata": {
    "collapsed": true
   },
   "outputs": [],
   "source": []
  }
 ],
 "metadata": {
  "kernelspec": {
   "display_name": "Python 3",
   "language": "python",
   "name": "python3"
  },
  "language_info": {
   "codemirror_mode": {
    "name": "ipython",
    "version": 3
   },
   "file_extension": ".py",
   "mimetype": "text/x-python",
   "name": "python",
   "nbconvert_exporter": "python",
   "pygments_lexer": "ipython3",
   "version": "3.6.1"
  }
 },
 "nbformat": 4,
 "nbformat_minor": 2
}
