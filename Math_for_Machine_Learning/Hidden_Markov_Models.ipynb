{
 "cells": [
  {
   "cell_type": "markdown",
   "metadata": {},
   "source": [
    "# Hidden Markov Models, HMMs"
   ]
  },
  {
   "cell_type": "markdown",
   "metadata": {},
   "source": [
    "[Hidden Markov Models Link](http://ratsgo.github.io/machine%20learning/2017/03/18/HMMs)<br>\n",
    "아래 내용은 상기 링크의 내용을 정리한것<br>\n",
    "<br>\n",
    "Hidden Markov Models은 마코프 체인(Markov chain)을 전제로한 모델.<br>\n",
    "순차적 데이터를 다루는데 강점을 지녔다.<br>\n",
    "인식, 포스테깅 등 단어의 연쇄로 나타나는 언어 구조 처리에 과거 많은 주목을 받음<br>"
   ]
  },
  {
   "cell_type": "markdown",
   "metadata": {},
   "source": []
  },
  {
   "cell_type": "markdown",
   "metadata": {},
   "source": [
    "## 마코프 체인\n",
    "\n",
    "<br>\n",
    "마코프 체인이란 마코프 성질(Markov Property)을 지닌 이산확률과정(discrete-time stochastic process)을 가리킨다.<br> \n",
    "마코프 체인은 러시아 수학자 마코프가 1913년경 러시아어 문헌에 나오는 글자들의 순서에 관한 모델을 구축하기 위해 제안된 개념."
   ]
  },
  {
   "cell_type": "markdown",
   "metadata": {},
   "source": [
    "**한 상태(state)의 확률은 단지 그 이전 상태에만 의존 한다는 전제가 핵심**<br> \n",
    "즉, 한 상태에서 다른 상태로의 전이(transition)는 그동안 상태 전이에 대한 긴 이력(histroy)을 필요로 하지 않고<br> \n",
    "<span style=\"color:red\">바로 직전의 상태</span>에서의 전이로 추정해 간다는 개념."
   ]
  },
  {
   "cell_type": "markdown",
   "metadata": {},
   "source": [
    "### 마코프 체인의 공식\n",
    "\n",
    "$$\n",
    "P(q_i|q_1, \\ldots, q_{i-1}) = P(q_i|q_{i-1})\n",
    "$$"
   ]
  },
  {
   "cell_type": "markdown",
   "metadata": {},
   "source": []
  },
  {
   "cell_type": "markdown",
   "metadata": {},
   "source": [
    "날씨를 마코프 체인으로 모델링한 예시는 다음 그림과 같다."
   ]
  },
  {
   "cell_type": "markdown",
   "metadata": {},
   "source": []
  },
  {
   "cell_type": "markdown",
   "metadata": {},
   "source": [
    "![마코프 체인](https://i.imgur.com/iCPKPWz.png)"
   ]
  },
  {
   "cell_type": "markdown",
   "metadata": {},
   "source": []
  },
  {
   "cell_type": "markdown",
   "metadata": {},
   "source": [
    "위의 마코프 체인에서 Node는 상태, 엣지는 전이를 가르킨다.<br>\n",
    "<br>\n",
    "엣지(연결선) $a_{ij}$는 $i$번째의 상태에서 $j$번째의 상태로 전이할 확률을 나타낸다.<br>\n",
    "<br>\n",
    "각, 노드별 전이 확률의 합은 1이다.(ex: $a_{01}+a_{02}+a_{03}=1$)<br>\n",
    "<br>\n",
    "상태에는 일반적인 종류의 상태(HOT, COLD, WARM)이외에 시작(start)과 끝(end) 상태도 있다."
   ]
  },
  {
   "cell_type": "markdown",
   "metadata": {},
   "source": []
  },
  {
   "cell_type": "markdown",
   "metadata": {},
   "source": [
    "## 은닉 마코프 모델"
   ]
  },
  {
   "cell_type": "markdown",
   "metadata": {},
   "source": [
    "은닉마코프모델은 각 상태가 모코프체인을 따르되 은닉(hidden)되어 있다고 가정.<br>\n",
    "예를 들어 100년 전 기후를 연구하는 학자인데, 주어진 정보는 당시 아이스크림 소비 기록뿐 일때.<br>\n",
    "이 정보만으로 당시 날씨가 더웠는지, 추웠는지, 따뜻했는지를 알고 싶다.<br>\n",
    "우리는 아이스크림 소비 기록의 연쇄를 관찰할 수 있지만,<br>\n",
    "해당 날짜의 날씨가 무엇인지는 직접 관측하기 어렵다.<br>\n",
    "은닉마코프 모델은 이처럼 관측치 뒤에 은닉되어 있는 상태(state)를 추정하고자 한다.<br>"
   ]
  },
  {
   "cell_type": "markdown",
   "metadata": {},
   "source": []
  },
  {
   "cell_type": "markdown",
   "metadata": {},
   "source": [
    "날씨를 예로 은닉마코프 모델을 도식화한 그림"
   ]
  },
  {
   "cell_type": "markdown",
   "metadata": {},
   "source": [
    "![Hidden Markov Model](https://i.imgur.com/lEMDGBC.png)"
   ]
  },
  {
   "cell_type": "markdown",
   "metadata": {},
   "source": []
  },
  {
   "cell_type": "markdown",
   "metadata": {},
   "source": [
    "위 그림에서 $B_1$은 날씨가 더울 때 아이스크림을 1개 소비할 확률이 0.2이고<br> \n",
    "2개 내지 3개 먹을 확률은 각각 0.4라는 걸 나타낸다.<br>\n",
    "<br>\n",
    "$B_1$은 날씨가 더울 때 조건부확률이므로 HOT이라는 은식상태와 연관이 있다.<br>\n",
    "$B$는 **방출확률(emission probablity)**이라고도 불리운다.<br>\n",
    "은닉된 상태로 부터 관측치가 튀어나올 확률이라는 의미에서 이름이름이 붙은 거 같음.(추측으로 예상)<br>"
   ]
  },
  {
   "cell_type": "markdown",
   "metadata": {},
   "source": [
    "## Likelihood\n",
    "\n",
    "우선 Likelihood부터 계산해 본다.<br>\n",
    "Likelihood는 모델 $\\lambda$가 주어졌을 때 관측치 $O$가 나타날 확률 $p(O|\\: \\lambda)$를 가리킨다.<br> \n",
    "즉, 모델 $\\lambda$가 관측치 하나를 뽑았는데 그 관측치가 $O$일 확률입니다.<br>  \n",
    "이렇게 관측된 $O$가 아이스크림[3개, 1개, 3개]라고 하고,<br> \n",
    "모델 $\\lambda$가 위의 그림이라고 할 때 이$O$가 뽑힐 확율은 얼마나 될까?<br>\n",
    "![3, 1, 3](https://i.imgur.com/syZWL5E.png)"
   ]
  },
  {
   "cell_type": "markdown",
   "metadata": {},
   "source": [
    "<br>\n",
    "두번째 날짜를 중심으로 보면,<br>\n",
    "모델 $\\lambda$를 보면 날씨가 더울 때(hot) 아이스크림을 1개 먹을 확률을 0.2이다.<br>\n",
    "그런데 두 번째 날이 전날에 이어 계속 더울 확률은 0.6이므로 이를 곱해주어야 둘째 날의 상태확률을 계산할 수 있다.<br>\n",
    "여기에서 마코프 체일을 따른다고 가정하므로 상태확율을 계산할 때에는 직전 상태만을 고려한다.<br>\n",
    "위의 그림을 식으로 나타내면 다음과 같다.<br>\n",
    "<br>\n",
    "$$\n",
    "P(3 \\; 1 \\; 3, hot \\; hot \\; cold) = P(hot|start) \\times P(hot|hot) \\times P(cold|hot) \\\\\n",
    "\\times P(3|hot) \\times P(1|hot) \\times P(3|cold)\n",
    "$$\n",
    "$$\n",
    "P(3 \\; 1 \\; 3, hot \\; hot \\; cold) = 0.8 \\times 0.6 \\times 0.3 \\times \\\\\n",
    " \\times 0.4 \\times 0.2 \\times 0.1\n",
    "$$"
   ]
  },
  {
   "cell_type": "markdown",
   "metadata": {
    "collapsed": true
   },
   "source": [
    "<br>\n",
    "각 날짜별로 날씨가 더울 수도 있고 추울 수도 있다.<br>\n",
    "따라서 $2^3$가지 경우의 수가 존재 한다.<br>\n",
    "<br>\n",
    "\n",
    "|state1(Day1)|state2(Day2)|state3(Day3)|\n",
    "|----|----|----|\n",
    "|cold|cold|cold|\n",
    "|cold|cold|hot|\n",
    "|cold|hot|cold|\n",
    "|hot|cold|cold|\n",
    "|hot|hot|cold|\n",
    "|cold|hot|hot|\n",
    "|hot|cold|hot|\n",
    "|hot|hot|hot|\n",
    "\n",
    "<br>\n",
    "따라서 관측치 [3, 1, 3]에 대한 최종적인 Likelihood는 다음과 같다."
   ]
  },
  {
   "cell_type": "markdown",
   "metadata": {},
   "source": [
    "$$\n",
    "P(3 \\; 1 \\; 3) = P(3 \\; 1 \\; 3, cold \\; cold\\; cold)+ \\\\\n",
    "P(3 \\; 1 \\; 3, cold\\; cold\\; hot)+ \\ldots \\\\\n",
    "P(3 \\; 1 \\; 3, hot\\; hot\\; hot\\;)\n",
    "$$"
   ]
  },
  {
   "cell_type": "markdown",
   "metadata": {},
   "source": [
    "## Notation\n",
    "여기서 notation을 잠깐 정리하고 넘어간다.<br>\n",
    "\n",
    "* $Q = q_0,\\; q_1,\\; q_2,\\; \\ldots,\\; q_n,\\; q_F$: 상태(state)의 집합(set).<br>\n",
    "위의 $q_0$은 시작상태, $q_F$는 종료상태, $n$은 상태의 개수를 나타낸다.\n",
    "\n",
    "* $A$: 전이확률 행렬($n \\times n$). $a_{ij}$는 $i$번째 상태에서 $j$번째 상태로 전이할 확률($\\sum_{j=1}^n a_{ij} = 1$).\n",
    "\n",
    "* $B$ = $b_i(o_t)$: $i$번째 상태에서 $t$번째 관측치 $o_t$가 나타날 방출확률.\n",
    "\n",
    "* $O$ = $\\left[ o_1, o_2, \\ldots, \\ldots, o_T \\right]$: 길이가 $T$인 관측치의 시퀀스."
   ]
  },
  {
   "cell_type": "markdown",
   "metadata": {},
   "source": [
    "* $\\alpha_t (t)$ = $P(o_1, o_2, \\ldots, o_T, q_t = j|\\lambda)$:<br> \n",
    "모델 $\\lambda$가 주어졌을 때 $j$번째 상태와 $o_1, \\ldots, o_t$가 나타날 확률. 이를 전방확률(Forward Probability)이라 한다."
   ]
  },
  {
   "cell_type": "markdown",
   "metadata": {},
   "source": [
    "* $\\beta_t (j) = P(o_{t+1}, o_{t+2}, \\ldots, o_T, q_t = j|\\lambda)$:<br>\n",
    "모델 $\\lambda$가 주어졌을 때 $j$번째 상태와 $o_{t+1}, \\ldots, o_T$가 나타날 확률. 이를 후방확률(Backward Probability)이라 한다."
   ]
  },
  {
   "cell_type": "markdown",
   "metadata": {},
   "source": [
    "<br>\n",
    "## Compute Likelihoood:Forward Algorithm\n",
    "지금까지 Hidden Markov Model의 Likelihood(방출확률;우도)를 계산하는 예시였다.<br>\n",
    "이제 전체 데이터에 확대해서 본다.<br>\n",
    "그런데 **문제**가 하나 있다.<br>\n",
    "예시에서도 살펴봤듯 <span style =\"color:red\">계산해야할 경우의 수</span>가 정말 많다는 것.<br>"
   ]
  },
  {
   "cell_type": "markdown",
   "metadata": {},
   "source": [
    "<br>\n",
    "가령 $N$개의 은식상태가 있고 관측치 길이가 $T$라면 Likelihood계산시 고려해야할 가짓수가 $N^T$개나 된다.<br>\n",
    "이러한 비효율성을 완화하기 위해 다이나믹 프로그래밍(Dynamic Programming)기법을 쓴다.<br>\n",
    "**Dynamic Programming은 중복되는 계산을 저장해 두었다가 푸는 것이 핵심 원리.**<br>\n",
    "<br>\n",
    "![Dynamic Programming](https://i.imgur.com/UcXttLx.png)"
   ]
  },
  {
   "cell_type": "markdown",
   "metadata": {},
   "source": [
    "상위 그림에서 각각의 의미와 그것을 구한 식은 다음과 같다.<br>\n",
    "<br>\n",
    "* 아이스크림 3개($O_1$)가 관측됐고 첫 번째 시점($t=1$)의 날씨가 추었을 확률은 $\\alpha_1(1)$이다.<br>\n",
    "<br>\n",
    "<center>첫날 추움 = 시작날에서 추울 확률 X 추운날 아이스크림 3개를 먹을 확률</center>\n",
    "$$\n",
    "\\alpha_1(1) = P(cold|start) \\times P(3|cold)\n",
    "$$\n",
    "<br>\n",
    "<br>\n",
    "* 아이스크림 3개$(O_1)$가 관측됐고 첫 번째 시점$(t=1)$의 날씨가 더웠을 확률은 $\\alpha_1(2)$이다.<br>\n",
    "<br>\n",
    "<center>첫날 따뜻 = 시작날에서 따뜻할 확률 X 따뜻한날 아이스크림 3개를 먹을 확률</center>\n",
    "$$\n",
    "\\alpha_1(2) = P(hot|start) \\times P(3|hot)\n",
    "$$\n",
    "<br>\n",
    "<br>\n",
    "* 아이스크림 3개($O_1$)와 1개($O_2$)가 연속으로 관측됐고<br>\n",
    "두 번재 시점($t=2$)의 날씨가 추웠을(q_1)g확률은 $\\alpha_2(1)$이다.<br>\n",
    "즉, 첫째날 춥고$\\alpha_1(1)$, 더운$\\alpha_1(2)$ 날을 통틀어 다음날 추운날이 될 확률은 $\\alpha_2(1)$이다.<br>\n",
    "<br>\n",
    "<center>둘째눌 추움 = 첫날 추움 X 추운날에서 추워질 확률 X 추운날 아이스크림 1개를 먹을 확률</center>\n",
    "<center>+ 첫날 따뜻 X 따뜻한 날에서 추워질 확률 X 추운날 아이스크림 1개를 먹을 확률</center>\n",
    "$$\n",
    "\\alpha_2(1) = \\alpha_1(1) \\times P(cold|cold) \\times P(1|C) \\\\\n",
    "+ \\alpha_1(2) \\times P(cold|hot) \\times P(1|cold)\n",
    "$$\n",
    "<br>"
   ]
  },
  {
   "cell_type": "markdown",
   "metadata": {},
   "source": [
    "### Foward Algorithm의 핵심 아이디어: <br>\n",
    "**중복되는 계산은 그결과를 어딘가에 저장해 두었다가 필요할 때마다 불러서 사용하자**는 것<br>\n",
    "위 그림과 수식을 보면$\\alpha_2(1)$를 구할 때 직전 단계의 계산 결과인 $\\alpha_1(1), \\alpha_1(2)$를 활용한다.<br>\n",
    "이해를 돕기 위한 예시여서 지금은 계산량 감소가 도드라져 보이지 않지만 데이터가 조금만 커져도 그 효율성이 명백하다.<br>\n",
    "$j$번째 상태에서 $o_1, \\ldots, o_t$가 나타날 Emission Probablity(방출확률) $\\alpha$는 다음과 같이 정의된다.\n",
    "$$\n",
    "\\alpha_t(\\; j\\;) = \\sum_{i=1}^n \\alpha_{t-1}(\\;i\\;) \\times a_{ij} \\times b_j(o_t)\n",
    "$$\n",
    "<br>\n",
    "$b_j(o_t)$ 아직은 이해되지 않음.."
   ]
  },
  {
   "cell_type": "markdown",
   "metadata": {},
   "source": [
    "$\\alpha_t(\\;j\\;)$는 $j$번째 상태와 $t$개의 관측치 시퀀스가 나타날 수 있는,<br>\n",
    "가능한 경우의 수가 모두 고려되어 합쳐진 확률<br>\n",
    "즉, 위의 그림에서 $\\alpha_3(2)$의 경우 세번째 시점에서 HOT이 되려는 가능한 경로는<br> "
   ]
  },
  {
   "cell_type": "markdown",
   "metadata": {},
   "source": [
    "|$\\alpha_3(2)$ 되는데 |가능한| 경로|\n",
    "|---|---|---|\n",
    "|Hot|    Hot|Hot|\n",
    "|Hot|    Cold|Hot|\n",
    "|Cold|    Hot|Hot|\n",
    "|Cold|    Cold|Hot|\n",
    "<br>\n",
    "따라서 전방확률을 관측치 시퀀스 끝까지 계산하면 앞서 계산한 우도와 동치가 된다.<br>\n",
    "$$\n",
    "P(O\\;|\\; \\lambda \\;) = P(o_1, o_2, \\ldots, o_T \\; | \\; \\lambda \\;) \\\\\n",
    "= P(o_1, o_2, \\ldots, o_T, q_t = q_F \\; | \\; \\lambda \\;) = \\alpha_T(q_F)\n",
    "$$\n"
   ]
  },
  {
   "cell_type": "code",
   "execution_count": null,
   "metadata": {},
   "outputs": [],
   "source": []
  }
 ],
 "metadata": {
  "kernelspec": {
   "display_name": "Python 3",
   "language": "python",
   "name": "python3"
  },
  "language_info": {
   "codemirror_mode": {
    "name": "ipython",
    "version": 3
   },
   "file_extension": ".py",
   "mimetype": "text/x-python",
   "name": "python",
   "nbconvert_exporter": "python",
   "pygments_lexer": "ipython3",
   "version": "3.6.4"
  }
 },
 "nbformat": 4,
 "nbformat_minor": 2
}
