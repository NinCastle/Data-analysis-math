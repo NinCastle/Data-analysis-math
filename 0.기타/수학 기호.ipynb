{
 "cells": [
  {
   "cell_type": "markdown",
   "metadata": {},
   "source": [
    "# 수학 기호"
   ]
  },
  {
   "cell_type": "markdown",
   "metadata": {},
   "source": [
    "## 자주 사용되는 그리스문자\n",
    "\n",
    "- $\\alpha$ 알파, a\n",
    "- $\\beta$ 베타, b\n",
    "- $\\gamma$ 감마, r\n",
    "- $\\epsilon$ 엡실론, e\n",
    "- $\\kappa$ 카파, k\n",
    "- $\\nu$ 뉴, v\n",
    "- $\\rho$ 로, p\n",
    "- $\\sigma$ 시그마, 6\n",
    "- $\\omega$ 오메가, w"
   ]
  },
  {
   "cell_type": "markdown",
   "metadata": {},
   "source": [
    "자주 사용하는 <span style = \"color:red\"> 기호 </span> \n",
    "\n",
    "| 알파벳 대문자 | 알파벳 소문자 | 영어 이름 | 한글 표기 |\n",
    "|-|-|-|\n",
    "| $A$ | $\\color{red}\\alpha$ | alpha | 알파 |\n",
    "| $B$ | $\\color{red}\\beta$ | beta | 베타 |\n",
    "| $\\Gamma$ | $\\color{red}\\gamma$ | gamma | 감마 |\n",
    "| $\\Delta$ | $\\delta$ | delta | 델타 |\n",
    "| $E$ | $\\color{red}\\epsilon$ | epsilon | 엡실론 |\n",
    "| $Z$ | $\\zeta$ | zeta | 제타 |\n",
    "| $H$ | $\\eta$ | eta | 에타 |\n",
    "| $\\Theta$ | $\\theta$ | theta | 세타 |\n",
    "| $K$ | $\\color{red}\\kappa$ | kappa | 카파 |\n",
    "| $\\Lambda $ | $\\lambda$ | lamda | 람다 |\n",
    "| $M$ | $\\mu$ | mu | 뮤 |\n",
    "| $N$ | $\\color{red}\\nu$ | nu | 뉴 |\n",
    "| $\\Xi$ | $\\xi$ | xi | 크싸이 |\n",
    "| $\\Pi$ | $\\pi$ | phi | 파이 |\n",
    "| $P$ | $\\color{red}\\rho$ | rho | 로 |\n",
    "| $\\Sigma$ | $\\color{red}\\sigma$ | sigma | 시그마(6) |\n",
    "| $T$ | $\\tau$ | tau | 타우 |\n",
    "| $\\Phi$ | $\\phi$ | phi | 파이/피 | \n",
    "| $X$ | $\\chi$ | chi | 카이 |\n",
    "| $\\Psi$ | $\\psi$ | psi | 프사이 |\n",
    "| $\\Omega$ "
   ]
  },
  {
   "cell_type": "code",
   "execution_count": null,
   "metadata": {},
   "outputs": [],
   "source": []
  }
 ],
 "metadata": {
  "kernelspec": {
   "display_name": "Python 3",
   "language": "python",
   "name": "python3"
  },
  "language_info": {
   "codemirror_mode": {
    "name": "ipython",
    "version": 3
   },
   "file_extension": ".py",
   "mimetype": "text/x-python",
   "name": "python",
   "nbconvert_exporter": "python",
   "pygments_lexer": "ipython3",
   "version": "3.5.3"
  }
 },
 "nbformat": 4,
 "nbformat_minor": 2
}
