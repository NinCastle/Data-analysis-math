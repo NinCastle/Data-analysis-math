{
 "cells": [
  {
   "cell_type": "markdown",
   "metadata": {},
   "source": [
    "# 수학 기호"
   ]
  },
  {
   "cell_type": "markdown",
   "metadata": {},
   "source": [
    "자주 사용하는 <span style=\"color:red\"> 기호 </span>"
   ]
  },
  {
   "cell_type": "markdown",
   "metadata": {},
   "source": [
    "| 알파벳 대문자 | 알파벳 소문자 | 영어 이름 | 한글 표기 |\n",
    "|-|-|-|\n",
    "| $A$ | $\\color{red}\\alpha$ | alpha | 알파 |\n",
    "| $B$ | $\\color{red}\\beta$ | beta | 베타 |\n",
    "| $\\Gamma$ | $\\color{red}\\gamma$ | gamma | 감마 |\n",
    "| $\\Delta$ | $\\delta$ | delta | 델타 |\n",
    "| $E$ | $\\color{red}\\epsilon$ | epsilon | 엡실론 |\n",
    "| $Z$ | $\\zeta$ | zeta | 제타 |\n",
    "| $H$ | $\\eta$ | eta | 에타 |\n",
    "| $\\Theta$ | $\\theta$ | theta | 세타 |\n",
    "| $K$ | $\\color{red}\\kappa$ | kappa | 카파 |\n",
    "| $\\Lambda $ | $\\lambda$ | lamda | 람다 |\n",
    "| $M$ | $\\mu$ | mu | 뮤 |\n",
    "| $N$ | $\\color{red}\\nu$ | nu | 뉴 |\n",
    "| $\\Xi$ | $\\xi$ | xi | 크싸이 |\n",
    "| $\\Pi$ | $\\pi$ | phi | 파이 |\n",
    "| $P$ | $\\color{red}\\rho$ | rho | 로 |\n",
    "| $\\Sigma$ | $\\color{red}\\sigma$ | sigma | 시그마(6) |\n",
    "| $T$ | $\\tau$ | tau | 타우 |\n",
    "| $\\Phi$ | $\\phi$ | phi | 파이/피 | \n",
    "| $X$ | $\\chi$ | chi | 카이 |\n",
    "| $\\Psi$ | $\\psi$ | psi | 프사이 |\n",
    "| $\\Omega$ | $\\color{red}\\omega$ | omega | 오메가 |"
   ]
  },
  {
   "cell_type": "markdown",
   "metadata": {},
   "source": [
    "# Sum/Product"
   ]
  },
  {
   "cell_type": "markdown",
   "metadata": {},
   "source": [
    "### sum\n",
    "\n",
    "$$\n",
    "\\sum_{i=1}^N x_i = x_1 + x_2 + \\dots + x_N\n",
    "$$\n",
    "\n",
    "### Product\n",
    "\n",
    "$$\n",
    "\\prod_{i=1}^N x_i = x_1 \\times x_2 \\times \\dots \\times x_N\n",
    "$$"
   ]
  },
  {
   "cell_type": "markdown",
   "metadata": {},
   "source": [
    "예)\n",
    "$$\n",
    "\\sum_{i=1}^5 i = 1 + 2 + 3 + 4 + 5\n",
    "$$\n",
    "$$\n",
    "\\sum_{j=1}^4 x_j = x_1 + x_2 + x_3 + x_4\n",
    "$$\n",
    "$$\n",
    "\\sum_{k=1}^5 2k = 2 \\cdot 1 + 2 \\cdot 2 + 2 \\cdot 3 + 2 \\cdot 4 + 2 \\cdot 5\n",
    "$$\n",
    "$$\n",
    "\\sum_{i=1}^2 \\sum_{j=1}^3 \\color{red}{i} + \\color{blue}{j} = (\\color{red}{1} + \\color{blue}{1}) + (\\color{red}{1} + \\color{blue}{2}) + (\\color{red}{1} + \\color{blue}{3}) + (\\color{red}{2} + \\color{blue}{1}) + (\\color{red}{2} + \\color{blue}{2}) + (\\color{red}{2} + \\color{blue}{3}) \n",
    "$$"
   ]
  },
  {
   "cell_type": "markdown",
   "metadata": {},
   "source": [
    "$$\n",
    "\\prod_{i=1}^4 l^2 = 1^2 \\cdot 2^2 \\cdot 3^2 \n",
    "$$\n",
    "$$\n",
    "\\prod_{m=1}^3 \\prod_{m=5}^6 \\color{red}{m} - \\color{blue}{2n} = (\\color{red}{1} - \\color{blue}{2 \\cdot 5}) \\cdot (\\color{red}{1} - \\color{blue}{2 \\cdot 6}) \\cdot (\\color{red}{2} - \\color{blue}{2 \\cdot 5}) \\cdot (\\color{red}{2} - \\color{blue}{2 \\cdot 6}) \\cdot (\\color{red}{3}- \\color{blue}{2 \\cdot 5}) \\cdot (\\color{red}{3} - \\color{blue}{2 \\cdot 6})\n",
    "$$"
   ]
  }
 ],
 "metadata": {
  "kernelspec": {
   "display_name": "Python 3",
   "language": "python",
   "name": "python3"
  },
  "language_info": {
   "codemirror_mode": {
    "name": "ipython",
    "version": 3
   },
   "file_extension": ".py",
   "mimetype": "text/x-python",
   "name": "python",
   "nbconvert_exporter": "python",
   "pygments_lexer": "ipython3",
   "version": "3.5.3"
  }
 },
 "nbformat": 4,
 "nbformat_minor": 2
}
