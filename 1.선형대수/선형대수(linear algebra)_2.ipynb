{
 "cells": [
  {
   "cell_type": "markdown",
   "metadata": {},
   "source": [
    "# 벡터와 행렬의 연산\n",
    "\n",
    "벡터, 행렬도 사칙연산이 가능.<br> \n",
    "행렬 연산을 이용하면 대량의 데이터를 간단한 수식으로 표현가능.<br>\n",
    "그러나 행렬 연산은 기존의 숫자 사칙연산과는 몇 가지가 다른 점이 있으므로 차이점에 주의.<br>\n",
    "<br>\n",
    "### **벡터와 행렬의 덧셈과 뺄셈**\n",
    "<br>\n",
    "같은 크기를 가진 두 벡터나 행렬은 덧셈과 뺄셈이 가능.<br>\n",
    "연산은 같은 위치에 있는 원소끼리 덧샘과 뺄셈을 하면된다. 이러한 연산을 요소별(element-wise) 연산이라 한다.<br>\n",
    "<br>\n",
    "$$\n",
    "x = \n",
    "\\begin{bmatrix}\n",
    "10 \\\\\n",
    "11 \\\\\n",
    "12 \\\\\n",
    "13 \\\\\n",
    "14 \\\\\n",
    "\\end{bmatrix}\n",
    "$$\n",
    "\n",
    "$$\n",
    "y = \n",
    "\\begin{bmatrix}\n",
    "0 \\\\\n",
    "1 \\\\\n",
    "2 \\\\\n",
    "3 \\\\\n",
    "4 \\\\\n",
    "\\end{bmatrix}\n",
    "$$"
   ]
  },
  {
   "cell_type": "markdown",
   "metadata": {},
   "source": [
    "벡터 $x$와$y$의 $x$+$y$과 $x$-$y$"
   ]
  },
  {
   "cell_type": "markdown",
   "metadata": {},
   "source": [
    "$$\n",
    "x + y =\n",
    "\\begin{bmatrix}\n",
    "10 \\\\\n",
    "11 \\\\\n",
    "12 \\\\\n",
    "13 \\\\\n",
    "14 \\\\\n",
    "\\end{bmatrix}\n",
    "\\;\n",
    "+\n",
    "\\;\n",
    "\\begin{bmatrix}\n",
    "0 \\\\\n",
    "1 \\\\\n",
    "2 \\\\\n",
    "3 \\\\\n",
    "4 \\\\\n",
    "\\end{bmatrix}\n",
    "\\;\n",
    "=\n",
    "\\;\n",
    "\\begin{bmatrix}\n",
    "10 + 0 \\\\\n",
    "11 + 1 \\\\\n",
    "12 + 2 \\\\\n",
    "13 + 3 \\\\\n",
    "14 + 4 \\\\\n",
    "\\end{bmatrix}\n",
    "\\;\n",
    "=\n",
    "\\;\n",
    "\\begin{bmatrix}\n",
    "10 \\\\\n",
    "12 \\\\\n",
    "14 \\\\\n",
    "16 \\\\\n",
    "18 \\\\\n",
    "\\end{bmatrix}\n",
    "$$"
   ]
  },
  {
   "cell_type": "markdown",
   "metadata": {},
   "source": [
    "$$\n",
    "x - y =\n",
    "\\begin{bmatrix}\n",
    "10 \\\\\n",
    "11 \\\\\n",
    "12 \\\\\n",
    "13 \\\\\n",
    "14 \\\\\n",
    "\\end{bmatrix}\n",
    "\\;\n",
    "-\n",
    "\\;\n",
    "\\begin{bmatrix}\n",
    "0 \\\\\n",
    "1 \\\\\n",
    "2 \\\\\n",
    "3 \\\\\n",
    "4 \\\\\n",
    "\\end{bmatrix}\n",
    "\\;\n",
    "=\n",
    "\\;\n",
    "\\begin{bmatrix}\n",
    "10 - 0 \\\\\n",
    "11 - 1 \\\\\n",
    "12 - 2 \\\\\n",
    "13 - 3 \\\\\n",
    "14 - 4 \\\\\n",
    "\\end{bmatrix}\n",
    "\\;\n",
    "=\n",
    "\\;\n",
    "\\begin{bmatrix}\n",
    "10 \\\\\n",
    "10 \\\\\n",
    "10 \\\\\n",
    "10 \\\\\n",
    "10 \\\\\n",
    "\\end{bmatrix}\n",
    "$$"
   ]
  },
  {
   "cell_type": "markdown",
   "metadata": {},
   "source": [
    "Numpy로 계산하면 다음과 같다."
   ]
  },
  {
   "cell_type": "code",
   "execution_count": 3,
   "metadata": {},
   "outputs": [
    {
     "data": {
      "text/plain": [
       "array([10, 11, 12, 13, 14])"
      ]
     },
     "execution_count": 3,
     "metadata": {},
     "output_type": "execute_result"
    }
   ],
   "source": [
    "import numpy as np\n",
    "\n",
    "x = np.array([10, 11, 12, 13, 14])\n",
    "x"
   ]
  },
  {
   "cell_type": "code",
   "execution_count": 5,
   "metadata": {},
   "outputs": [
    {
     "data": {
      "text/plain": [
       "array([0, 1, 2, 3, 4])"
      ]
     },
     "execution_count": 5,
     "metadata": {},
     "output_type": "execute_result"
    }
   ],
   "source": [
    "y = np.array([0, 1, 2, 3, 4])\n",
    "y"
   ]
  },
  {
   "cell_type": "code",
   "execution_count": 6,
   "metadata": {},
   "outputs": [
    {
     "data": {
      "text/plain": [
       "array([10, 12, 14, 16, 18])"
      ]
     },
     "execution_count": 6,
     "metadata": {},
     "output_type": "execute_result"
    }
   ],
   "source": [
    "x + y"
   ]
  },
  {
   "cell_type": "code",
   "execution_count": 7,
   "metadata": {},
   "outputs": [
    {
     "data": {
      "text/plain": [
       "array([10, 10, 10, 10, 10])"
      ]
     },
     "execution_count": 7,
     "metadata": {},
     "output_type": "execute_result"
    }
   ],
   "source": [
    "x - y"
   ]
  },
  {
   "cell_type": "markdown",
   "metadata": {},
   "source": [
    "행렬도 마찬가지로 덧셈, 뺄셈 가능"
   ]
  },
  {
   "cell_type": "markdown",
   "metadata": {},
   "source": [
    "$$\n",
    "\\begin{bmatrix}\n",
    "1 & 2 \\\\\n",
    "3 & 4 \\\\\n",
    "\\end{bmatrix}\n",
    "\\;\n",
    "+\n",
    "\\;\n",
    "\\begin{bmatrix}\n",
    "10 & 12 \\\\\n",
    "13 & 14 \\\\\n",
    "\\end{bmatrix}\n",
    "\\;\n",
    "-\n",
    "\\;\n",
    "\\begin{bmatrix}\n",
    "1 & 4 \\\\\n",
    "6 & 8 \\\\\n",
    "\\end{bmatrix}\n",
    "\\;\n",
    "=\n",
    "\\;\n",
    "\\begin{bmatrix}\n",
    "10 & 10 \\\\\n",
    "10 & 10 \\\\\n",
    "\\end{bmatrix}\n",
    "$$"
   ]
  },
  {
   "cell_type": "code",
   "execution_count": 11,
   "metadata": {},
   "outputs": [
    {
     "data": {
      "text/plain": [
       "array([[10, 10],\n",
       "       [10, 10]])"
      ]
     },
     "execution_count": 11,
     "metadata": {},
     "output_type": "execute_result"
    }
   ],
   "source": [
    "np.array([[1,2], [3,4]]) + np.array([[10,12], [13, 14]]) - np.array([[1, 4], [6, 8]])"
   ]
  },
  {
   "cell_type": "markdown",
   "metadata": {},
   "source": [
    "### **스칼라와 벡터/행렬의 곱셈**\n",
    "<br>\n",
    "스칼라 값 $c$를 곱하는 것은 벡터 $x$또는 행렬 $A$의 모든 원소에 $c$를 곱하는 것과 같다.\n",
    "<br>"
   ]
  },
  {
   "cell_type": "markdown",
   "metadata": {},
   "source": [
    "$$\n",
    "\\color{red}c \\times\n",
    "\\begin{bmatrix}\n",
    "x_1 \\\\\n",
    "x_2 \\\\\n",
    "\\end{bmatrix}\n",
    "\\;\n",
    "=\n",
    "\\;\n",
    "\\begin{bmatrix}\n",
    "\\color{red}cx_1 \\\\\n",
    "\\color{red}cx_2 \\\\\n",
    "\\end{bmatrix}\n",
    "$$"
   ]
  },
  {
   "cell_type": "markdown",
   "metadata": {},
   "source": [
    "$$\n",
    "\\color{red}c \\times\n",
    "\\begin{bmatrix}\n",
    "a_{1, 1} & a_{1, 2} \\\\\n",
    "a_{2, 1} & a_{2, 2} \\\\\n",
    "\\end{bmatrix}\n",
    "\\;\n",
    "=\n",
    "\\;\n",
    "\\begin{bmatrix}\n",
    "\\color{red}ca_{1, 1} & \\color{red}ca_{1, 2} \\\\\n",
    "\\color{red}ca_{2, 1} & \\color{red}ca_{2, 2} \\\\\n",
    "\\end{bmatrix}\n",
    "$$"
   ]
  },
  {
   "cell_type": "markdown",
   "metadata": {},
   "source": []
  },
  {
   "cell_type": "markdown",
   "metadata": {},
   "source": [
    "### **선형 조합**\n",
    "\n",
    "벡터/행렬에 다음처럼 스칼라 값을 곱한뒤 빼거나 더한것을 **선형 조합(linear combination)** 이라고 한다.<br>\n",
    "$$\n",
    "c_{1}x_{1} + c_{2}x_{2} +\\cdots +c_{L}x_{L}\n",
    "$$\n",
    "벡터나 행렬을 선형조합해도 크기는 변하지 않는다.<br>\n",
    "$$ c_1, c_2, \\ldots, c_L \\in \\mathbf{R} $$\n",
    "$$ x_1, x_2, \\ldots, x_L, x \\in \\mathbf{R}^M $$\n",
    "$$ A_1, A_2, \\ldots, A_L, A \\in \\mathbf{R}^{ M \\times N }$$"
   ]
  },
  {
   "cell_type": "markdown",
   "metadata": {},
   "source": []
  },
  {
   "cell_type": "markdown",
   "metadata": {},
   "source": [
    "### **벡터와 벡터의 곱셈** \n",
    "<br>\n",
    "벡터를 곱셈하는 방법은 **내적(inner product)**과 **외적(outer product)** 등 여러 가지가 있다.<br> \n",
    "여기서는 내적만 다룰것. 그러므로 그냥 내적을 곱셈으로 칭한다.<br>\n",
    "내적은 점(dot)으로 표기하는 경우도 있기에 dot product라고 하기도한다.<br>\n",
    "$$\n",
    "x \\cdot y = x^T y\n",
    "$$"
   ]
  },
  {
   "cell_type": "markdown",
   "metadata": {},
   "source": [
    "벡터 곱셈을 하려면 만족해야 할 조건이 있다.\n",
    "\n",
    "1. 두 벡터의 길이가 같아야 한다.\n",
    "2. 앞의 벡터가 행 벡터이고 뒤 벡터가 열 벡터여야 한다.<br>\n",
    "<br>\n",
    "이때 두 벡터의 곱은 다음처럼 정의<br>\n",
    "<br>"
   ]
  },
  {
   "cell_type": "markdown",
   "metadata": {},
   "source": [
    "$$\n",
    "x^T y =\n",
    "\\begin{bmatrix}\n",
    "x_1 & x_2 & \\ldots & x_N\n",
    "\\end{bmatrix}\n",
    "\\begin{bmatrix}\n",
    "y_1 \\\\\n",
    "y_2 \\\\\n",
    "\\vdots \\\\\n",
    "y_N \\\\\n",
    "\\end{bmatrix}\n",
    "= x_1 y_1 + \\cdots + x_N y_N\n",
    "= \\sum_{i=1}^N x_i y_i\n",
    "$$"
   ]
  },
  {
   "cell_type": "markdown",
   "metadata": {},
   "source": [
    "각각의 크기를 표시하면 다음과 같다.\n",
    "\n",
    "$$\n",
    "x \\in \\mathbf{R}^{N \\times 1}, y \\in \\mathbf{R}^{N \\times 1} \\rightarrow x^T y \\in \\mathbf{R}\n",
    "$$"
   ]
  },
  {
   "cell_type": "markdown",
   "metadata": {},
   "source": [
    "이렇게 전치연산을 하며 곱셈을 하는 이유는?\n",
    "실제 데이터 분석을 할때 이렇게 사용하는 경우가 많기 때문이다."
   ]
  },
  {
   "cell_type": "markdown",
   "metadata": {},
   "source": [
    "### **가중합**\n",
    "<br>\n",
    "**가중합(weighted sum)**이란 복수의 데이터를 단순히 합하는 것이 아니다. 각각의 수에 가중치를 곱한후 이 곱셈들을 다시 합한것. 이것을 **선형조합(linear combination)**이라 한다.<br>\n",
    "<br>\n",
    "만약 <span style=\"color:red\">데이터</span>와 <span style=\"color:blue\">가중치</span>가 아래와 같으면\n",
    "<br>\n",
    "$$\n",
    "\\color{red}x = \\begin{bmatrix} x_1, \\ldots, x_N \\end{bmatrix}^{T}, \n",
    "\\color{blue}w = \\begin{bmatrix} w_1, \\ldots, w_N \\end{bmatrix}^{T}\n",
    "$$\n",
    "<br>\n",
    "가중합은 다음과 같다.<br>\n",
    "$$\n",
    "\\color{blue}w^T \\color{red}x = \\begin{bmatrix} w_1 & w_2 & \\ldots & w_N \\end{bmatrix} \n",
    "\\begin{bmatrix} \n",
    "x_1 \\\\ \n",
    "x_2 \\\\ \n",
    "\\vdots \\\\\n",
    "x_N\n",
    "\\end{bmatrix}\n",
    "=\n",
    "\\sum_{i=1}^N \\color{blue}w^T \\color{red}x\n",
    "$$\n",
    "<br>\n",
    "or\n",
    "<br>\n",
    "$$\n",
    "\\color{red}x^T \\color{blue}w = \\begin{bmatrix} x_1 & x_2 & \\ldots & x_N \\end{bmatrix} \n",
    "\\begin{bmatrix} \n",
    "w_1 \\\\ \n",
    "w_2 \\\\ \n",
    "\\vdots \\\\\n",
    "w_N\n",
    "\\end{bmatrix}\n",
    "=\n",
    "\\sum_{i=1}^N \\color{red}x^T \\color{blue}w\n",
    "$$"
   ]
  },
  {
   "cell_type": "markdown",
   "metadata": {},
   "source": [
    "벡터 곱셈의 예\n",
    "$$\n",
    "x =\n",
    "\\begin{bmatrix}\n",
    "10 \\\\\n",
    "9 \\\\\n",
    "8 \\\\\n",
    "\\end{bmatrix}\n",
    ", \\;\\;\n",
    "y =\n",
    "\\begin{bmatrix}\n",
    "1 \\\\\n",
    "2 \\\\\n",
    "3 \\\\\n",
    "\\end{bmatrix}\n",
    "$$"
   ]
  },
  {
   "cell_type": "markdown",
   "metadata": {},
   "source": [
    "$$\n",
    "x^T y =\n",
    "\\begin{bmatrix}\n",
    "10 & 9 & 8\n",
    "\\end{bmatrix}\n",
    "\\begin{bmatrix}\n",
    "1 \\\\\n",
    "2 \\\\\n",
    "3 \\\\\n",
    "\\end{bmatrix}\n",
    "=\n",
    "10 \\cdot 1 + 9 \\cdot 2 + 8 \\cdot 3 = 52\n",
    "$$"
   ]
  },
  {
   "cell_type": "markdown",
   "metadata": {},
   "source": [
    "이를 Numpy로 계산<br> \n",
    "주의점 Numpy에서는 스칼라 값이 아닌 행렬로 추출된다."
   ]
  },
  {
   "cell_type": "code",
   "execution_count": 15,
   "metadata": {},
   "outputs": [
    {
     "data": {
      "text/plain": [
       "52"
      ]
     },
     "execution_count": 15,
     "metadata": {},
     "output_type": "execute_result"
    }
   ],
   "source": [
    "x = np.array([[10], [9], [8]])\n",
    "y = np.array([[1], [2], [3]])\n",
    "np.dot(x.T, y)[0, 0] # 행렬로 표시되기 때문에 스칼라 값만 추출"
   ]
  },
  {
   "cell_type": "markdown",
   "metadata": {},
   "source": [
    "Numpy에서는 1차원 배열끼리 곱할 수 있으며, 전치연산을 하지 않아도 앞 벡터는 행, 뒤 벡터는 열로 가정하고 계산"
   ]
  },
  {
   "cell_type": "code",
   "execution_count": 17,
   "metadata": {},
   "outputs": [
    {
     "data": {
      "text/plain": [
       "52"
      ]
     },
     "execution_count": 17,
     "metadata": {},
     "output_type": "execute_result"
    }
   ],
   "source": [
    "x = np.array([10, 9, 8])\n",
    "y = np.array([1, 2, 3])\n",
    "np.dot(x, y)"
   ]
  }
 ],
 "metadata": {
  "kernelspec": {
   "display_name": "Python 3",
   "language": "python",
   "name": "python3"
  },
  "language_info": {
   "codemirror_mode": {
    "name": "ipython",
    "version": 3
   },
   "file_extension": ".py",
   "mimetype": "text/x-python",
   "name": "python",
   "nbconvert_exporter": "python",
   "pygments_lexer": "ipython3",
   "version": "3.5.3"
  }
 },
 "nbformat": 4,
 "nbformat_minor": 2
}
