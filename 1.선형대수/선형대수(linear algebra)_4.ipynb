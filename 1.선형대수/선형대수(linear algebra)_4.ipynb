{
 "cells": [
  {
   "cell_type": "markdown",
   "metadata": {},
   "source": [
    "### 제곱합<br>\n",
    "<br>\n",
    "데이터의 분산(variance)이나 표준 편차(standard deviation)을 구하는 경우에는 각각의 데이터를 제곱한 뒤 이 값을 모두 더한 값 즉 제곱합(sum of squares)을 계산해야 한다.<br>\n",
    "이 경우에도 벡터의 곱을 사용하여 $x^{T}x$로 쓸 수 있다.\n",
    "\n",
    "$$\n",
    "x^{T}x=\n",
    "\\begin{bmatrix}\n",
    "x_1 & x_2 & \\ldots & x_N\n",
    "\\end{bmatrix}\n",
    "\\begin{bmatrix}\n",
    "x_1\\\\\n",
    "x_2\\\\\n",
    "\\vdots \\\\\n",
    "x_N\n",
    "\\end{bmatrix}\n",
    "=\n",
    "\\sum_{i=1}^N x_i^2\n",
    "$$"
   ]
  },
  {
   "cell_type": "markdown",
   "metadata": {},
   "source": [
    "### 행렬과 행렬의 곱셈 <br>\n",
    "<br>\n",
    "$A$ 행렬과 $B$ 행렬을 곱한 결과가 $C$ 행렬이 된다고 하자.<br>\n",
    "$C$의 $i$번째 행, $j$번째 열의 원소<br> \n",
    "$C_{ij}$의 값은 <br>\n",
    "* $A$ 행렬의 $i$번째 행 벡터 $a_i^T$와<br> \n",
    "* $B$ 행렬의 $j$번째 열 벡터 $b_j$의 곱이다."
   ]
  },
  {
   "cell_type": "markdown",
   "metadata": {},
   "source": [
    "$$\n",
    "C = AB \\rightarrow C_{ij} = a_i^T b_j\n",
    "$$\n",
    "\n",
    "이 정의가 성립하려면 행렬 $A$의 <span style=\"color:purple\">열</span>의 수와 뒤의 행렬 $B$의 <span style=\"color:purple\">행</span>의 수가 일치 해야만 한다.\n",
    "\n",
    "$$\n",
    "A \\in R^{N \\times \\color{purple}{L}}, B \\in R^{\\color{purple}L \\times M} \\rightarrow AB \\in R^{N \\times M}\n",
    "$$"
   ]
  },
  {
   "cell_type": "markdown",
   "metadata": {},
   "source": [
    "다음은\n",
    "$$\n",
    "A \\in R^{4 \\times \\color{purple}{3}}, B \\in R^{\\color{purple}3 \\times 2} \\rightarrow AB \\in R^{4 \\times 2}\n",
    "$$"
   ]
  },
  {
   "cell_type": "markdown",
   "metadata": {},
   "source": [
    "<br>\n",
    "의 예)<br>\n",
    "<br>\n",
    "$$\n",
    "\\begin{bmatrix}\n",
    "\\color{red}a_{1,1} & \\color{red}a_{1,2} & \\color{red}a_{1,3} \\\\\n",
    "a_{2,1} & a_{2,2} & a_{2,3} \\\\\n",
    "a_{3,1} & a_{3,2} & a_{3,3} \\\\\n",
    "a_{4,1} & a_{4,2} & a_{4,3} \\\\\n",
    "\\end{bmatrix}\n",
    "\\begin{bmatrix}\n",
    "\\color{blue}b_{1,1} & b_{1,2} \\\\\n",
    "\\color{blue}b_{2,1} & b_{2,2} \\\\\n",
    "\\color{blue}b_{3,1} & b_{3,2} \\\\\n",
    "\\end{bmatrix}=\n",
    "$$"
   ]
  },
  {
   "cell_type": "markdown",
   "metadata": {},
   "source": [
    "$$\n",
    "\\begin{bmatrix}\n",
    "\\color{red}a_{1,1} \\color{blue}b_{1,1} & + & \\color{red}a_{1,2} \\color{blue}b_{2,1} & + & \\color{red}a_{1,3} \\color{blue}b_{3,1} & \\color{red}a_{1,1} b_{1,2} & + & \\color{red}a_{1,2} b_{2,2} & + & \\color{red}a_{1,3} b_{3,2} \\\\\n",
    "a_{2,1} \\color{blue}b_{1,1} & + & a_{2,2} \\color{blue}b_{2,1} & + & a_{2,3} \\color{blue}b_{3,1} &\n",
    "a_{2,1} b_{1,2} & + & a_{2,2} b_{2,2} & + & a_{2,3} b_{3,2} \\\\\n",
    "a_{3,1} \\color{blue}b_{1,1} & + & a_{3,2} \\color{blue}b_{2,1} & + & a_{3,3} \\color{blue}b_{3,1} &\n",
    "a_{3,1} b_{1,2} & + & a_{3,2} b_{2,2} & + & a_{3,3} b_{3,2}\\\\\n",
    "a_{4,1} \\color{blue}b_{1,1} & + & a_{4,2} \\color{blue}b_{2,1} & + & a_{4,3} \\color{blue}b_{3,1} &\n",
    "a_{4,1} b_{1,2} & + & a_{4,2} b_{2,2} & + & a_{4,3} b_{3,2}\\\\\n",
    "\\end{bmatrix}\n",
    "$$"
   ]
  },
  {
   "cell_type": "markdown",
   "metadata": {},
   "source": [
    "$A$, $B$가\n",
    "$$\n",
    "A=\n",
    "\\begin{bmatrix}\n",
    "1 & 2 & 3 \\\\\n",
    "4 & 5 & 6 \\\\\n",
    "\\end{bmatrix}\n",
    "$$\n",
    "<br>\n",
    "$$\n",
    "B=\n",
    "\\begin{bmatrix}\n",
    "1 & 2 \\\\\n",
    "3 & 4 \\\\\n",
    "5 & 6 \\\\\n",
    "\\end{bmatrix}\n",
    "$$\n",
    "일 때 Numpy로 내적 계산"
   ]
  },
  {
   "cell_type": "code",
   "execution_count": 12,
   "metadata": {},
   "outputs": [
    {
     "data": {
      "text/plain": [
       "array([[22, 28],\n",
       "       [49, 64]])"
      ]
     },
     "execution_count": 12,
     "metadata": {},
     "output_type": "execute_result"
    }
   ],
   "source": [
    "import numpy as np\n",
    "\n",
    "A = np.array([[1, 2, 3],\\\n",
    "              [4, 5, 6]])\n",
    "\n",
    "B = np.array([[1, 2],\\\n",
    "              [3, 4],\\\n",
    "              [5, 6]])\n",
    "\n",
    "C = np.dot(A, B)\n",
    "C"
   ]
  },
  {
   "cell_type": "markdown",
   "metadata": {},
   "source": [
    "인공 신경망은 내부적으로 다음과 같이 여러 개 선형 회귀 모형을 이용.<br>\n",
    "이 구조는 행렬과 벡터의 곱으로 나타낼 수 있다.<br>\n",
    "<br>\n",
    "<img src =\"https://encrypted-tbn0.gstatic.com/images?q=tbn:ANd9GcSeaLW-a257rd1cAPzAuWayrM_HN10SqQKMHwqQaFVyoM7aCdzp\">\n",
    "\n",
    "위 그림을 행렬식으로 표현"
   ]
  },
  {
   "cell_type": "markdown",
   "metadata": {},
   "source": [
    "$$\n",
    "Y=\n",
    "\\begin{bmatrix}\n",
    "W_1 & W_2 & W_3\n",
    "\\end{bmatrix}\n",
    "\\begin{bmatrix}\n",
    "X_1 \\\\\n",
    "X_2 \\\\\n",
    "X_3 \\\\\n",
    "\\end{bmatrix}\n",
    "$$\n",
    "<br>\n",
    "$$\n",
    "\\hat{y} = WX\n",
    "$$"
   ]
  }
 ],
 "metadata": {
  "kernelspec": {
   "display_name": "Python 3",
   "language": "python",
   "name": "python3"
  },
  "language_info": {
   "codemirror_mode": {
    "name": "ipython",
    "version": 3
   },
   "file_extension": ".py",
   "mimetype": "text/x-python",
   "name": "python",
   "nbconvert_exporter": "python",
   "pygments_lexer": "ipython3",
   "version": "3.5.3"
  }
 },
 "nbformat": 4,
 "nbformat_minor": 2
}
