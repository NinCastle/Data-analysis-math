{
 "cells": [
  {
   "cell_type": "markdown",
   "metadata": {},
   "source": [
    "그동안 배웠던 데이터 분석기초를 정리하고 나의 생각을 정리하기 위해 작성.<br>\n",
    "출처: [데이터 사이언스 스쿨](https://datascienceschool.net/)"
   ]
  },
  {
   "cell_type": "markdown",
   "metadata": {},
   "source": [
    "\n",
    "# **NumPy를 활용한 선형대수 입문**\n",
    "\n",
    "\n",
    "선형대수(linear algebra)?\n",
    "데이터 분석에 필요한 각종 계산을 돕기 위한 학문.<br><br>\n",
    "\n",
    "대표적이유:<br>\n",
    "    데이터는 수만 개가 하나의 집합을 이루고 있을 수도 있다.<br>\n",
    "    선형대수를 이용하면 대량의 데이터의 계산과정을 몇 글자 되지 않는 수식으로 서술 할 수 있다.<br>\n",
    "<br>\n",
    "## **데이터의 유형**\n",
    "<br>\n",
    "선형대수에서 다루는 데이터는 개수나 형태에 따라 크게 3가지로 나눠진다.<br>\n",
    "<br>"
   ]
  },
  {
   "cell_type": "markdown",
   "metadata": {},
   "source": [
    "### **1. 스칼라(scalar)**\n",
    "<br>\n",
    "스칼라는 하나의 숫자만으로 이루어진 데이터를 말한다.<br>\n",
    "스칼라는 보통 x와 같이 알파벳 소문자로 표기하며 실수(real number)인 숫자중의 하나이므로 실수 집합 R의 원소라는 의미에서 다음처럼 표기.\n",
    "<br>\n",
    "    $$\n",
    "    x \\in R\n",
    "    $$\n",
    "<br>"
   ]
  },
  {
   "cell_type": "markdown",
   "metadata": {},
   "source": [
    "my opinion : 분석을 위한 목표에서 추출된 하나의 데이터 값"
   ]
  },
  {
   "cell_type": "markdown",
   "metadata": {},
   "source": [
    "### **2. 벡터(vector)**\n",
    "<br>\n",
    "벡터는 여러개의 숫자가 특정한 순서대로 모여 있는 상태를 말한다.<br>\n",
    "즉 데이터 레코드의 묶음으로 생각하면 된다.<br>\n",
    "$$\n",
    "x = \n",
    "\\begin{bmatrix}\n",
    "{x}_{1} \\\\ \n",
    "{x}_{2} \\\\ \n",
    "{x}_{3} \\\\ \n",
    "{x}_{4}\n",
    "\\end{bmatrix}\n",
    "$$\n",
    "<br>\n",
    "하나의 벡터를 이루는 데이터의 개수를 **차원(dimension)** 이라고한다.<br>\n",
    "위의 벡터는 4차원 실수 벡터라고 하고 다음과 같이 표기<br>\n",
    "<br>\n",
    "$$\n",
    "x = \\begin{bmatrix}\n",
    "x_{1} \\\\\n",
    "x_{2} \\\\\n",
    "x_{3} \\\\\n",
    "x_{4} \\\\\n",
    "\\end{bmatrix}\n",
    ",\\;\\;\n",
    "x \\in \\mathbf{R}^N\n",
    "$$"
   ]
  },
  {
   "cell_type": "markdown",
   "metadata": {},
   "source": [
    "my opinion : 추출된 데이터들이 행 또는 열로 묶여 있는 것"
   ]
  },
  {
   "cell_type": "code",
   "execution_count": 9,
   "metadata": {
    "scrolled": true
   },
   "outputs": [
    {
     "data": {
      "text/plain": [
       "array([[1],\n",
       "       [2],\n",
       "       [3],\n",
       "       [4]])"
      ]
     },
     "execution_count": 9,
     "metadata": {},
     "output_type": "execute_result"
    }
   ],
   "source": [
    "import numpy as np\n",
    "\n",
    "# 벡터의 예\n",
    "x1 = np.array([[1],[2],[3],[4]])\n",
    "x1"
   ]
  },
  {
   "cell_type": "markdown",
   "metadata": {},
   "source": [
    "하지만 Numpy에서는 1차원 배열 객체도 벡터로 인정. 아래는 행처럼 표시되나 실제로는 열이라는 점을 인지해야한다."
   ]
  },
  {
   "cell_type": "code",
   "execution_count": 10,
   "metadata": {
    "scrolled": true
   },
   "outputs": [
    {
     "data": {
      "text/plain": [
       "array([1, 2, 3, 4])"
      ]
     },
     "execution_count": 10,
     "metadata": {},
     "output_type": "execute_result"
    }
   ],
   "source": [
    "x1 = np.array([1, 2, 3, 4])\n",
    "x1"
   ]
  },
  {
   "cell_type": "markdown",
   "metadata": {},
   "source": [
    "주의 해야될것은 두가지 표현법중 열 표기를 정확하게 요구하는 경우도 있다.<br>\n",
    "예를 들어 Scikit-learn 패키지에서는 벡터를 요구하는 경우 반드시 열의 개수가 1개인 2차원 배열을 넣어야한다."
   ]
  },
  {
   "cell_type": "markdown",
   "metadata": {},
   "source": [
    "### **3. 행렬**<br>\n",
    "행렬은 복수의 차원을 가지는 데이터 레코드가 다시 여러 개 있는 경우 데이터를 합쳐서 표기.<br>\n",
    "행렬은 보통 X와 같이 알파벳 대문자로 표기<br>\n",
    "<br>\n",
    "$$\n",
    "X = \n",
    "\\begin{bmatrix} \n",
    "{ x }_{ 1,1 } & x_{1,2} & x_{1,3} & x_{1,4} \\\\ \n",
    "{ x }_{ 2,1 } & x_{2,2} & x_{2,3} & x_{2,4} \\\\ \n",
    "{ x }_{ 3,1 } & x_{3,2} & x_{3,3} & x_{3,4} \\\\\n",
    "{ x }_{ 4,1 } & x_{4,2} & x_{4,3} & x_{4,4} \\\\\n",
    "\\end{bmatrix} \n",
    "$$\n",
    "\n",
    "행렬의 원소는 $x_{1,2}$와 같이 숫자 쌍을 아래첨자(sub-script)로 붙여서 표기.<br>\n",
    "첫 번째 숫자 1 은 **행**, 두번째 숫자 2는 **열**을 뜻한다.<br>\n",
    "예를 들어 <span style=\"color:red\">$x_{4,4}$</span>은 네번째 행, 네번째 열의 숫자를 뜻한다.<br>\n",
    "벡터는 열의 개수가 1인 행렬이며, 다른말로 **열 벡터(column vector)** 라고도 한다.<br>\n",
    "형렬은 크기를 수식으로 표기할때 다음 처음 \"행 x 열\"로 나타낸다.<br>\n",
    "<br>\n",
    "$$\n",
    "X \\in \\mathbf{R}^{4\\times4}\n",
    "$$\n",
    "<br>\n",
    "벡터는 열의 개수가 1인 특수 행렬이기 때문에 다음과 같이 표기 가능<br>\n",
    "<br>\n",
    "$$\n",
    "X \\in \\mathbf{R}^{4\\times1}\n",
    "$$\n",
    "<br>\n",
    "NumPy를 이용하여 행렬을 표기할 때는 2차원 ndarray 객체를 사용한다.<br>\n",
    "<br>\n",
    "$$\n",
    "A =\n",
    "\\begin{bmatrix}\n",
    "11 & 12 & 13 \\\\\n",
    "21 & 22 & 23 \\\\\n",
    "\\end{bmatrix}\n",
    "$$\n"
   ]
  },
  {
   "cell_type": "markdown",
   "metadata": {},
   "source": [
    "my opinion : 벡터의 묶음"
   ]
  },
  {
   "cell_type": "code",
   "execution_count": 11,
   "metadata": {
    "scrolled": true
   },
   "outputs": [
    {
     "data": {
      "text/plain": [
       "array([[11, 12, 13],\n",
       "       [21, 22, 23]])"
      ]
     },
     "execution_count": 11,
     "metadata": {},
     "output_type": "execute_result"
    }
   ],
   "source": [
    "A = np.array([[11, 12, 13], [21, 22, 23]])\n",
    "A"
   ]
  },
  {
   "cell_type": "markdown",
   "metadata": {},
   "source": [
    "### **4. 전치 연산**<br>\n",
    "전치(transpose)연산: 행과 열을 바꾸는 연산이고 벡터나 행렬에 T라는 위첨자(super-script)를 표기<br>\n",
    "<br>\n",
    "$$\n",
    "X = \n",
    "\\begin{bmatrix}\n",
    "\\color{red}x_\\color{red}{1, 1} & \\color{red}x_\\color{red}{1, 2} & \\color{red}x_\\color{red}{1, 3} \\\\\n",
    "x_{2, 1} & x_{2, 2} & x_{2, 3} \\\\\n",
    "x_{3, 1} & x_{3, 2} & x_{3, 3} \\\\\n",
    "\\end{bmatrix}\n",
    "\\;\n",
    "\\rightarrow\n",
    "\\;\n",
    "X^T=\n",
    "\\begin{bmatrix}\n",
    "\\color{red}x_\\color{red}{1, 1} & x_{2, 1} & x_{3, 1} \\\\\n",
    "\\color{red}x_\\color{red}{1, 2} & x_{2, 2} & x_{3, 2} \\\\\n",
    "\\color{red}x_\\color{red}{1, 3} & x_{2, 3} & x_{3, 3} \\\\\n",
    "\\end{bmatrix}\n",
    "$$\n",
    "<br>\n",
    "전치 연산으로 만든 행렬을 **전치행렬**이라고 한다.<br>\n",
    "(열)벡터 $x$에 대해 전치 연한을 적용 하면 $ x^T $는 행의 수가 1인 행렬이므로 행 벡터(row vector)라고 한다.\n",
    "<br>\n",
    "$$\n",
    "\\begin{bmatrix}\n",
    "x_{1} \\\\\n",
    "x_{2} \\\\\n",
    "\\vdots \\\\\n",
    "x_{N} \\\\\n",
    "\\end{bmatrix}\n",
    "\\;\n",
    "\\rightarrow\n",
    "\\;\n",
    "x^T = \n",
    "\\begin{bmatrix}\n",
    "x_{1} & x_{2} & \\cdots & x_{N}\n",
    "\\end{bmatrix}\n",
    "$$\n",
    "\n",
    "Numpy에서는 `ndarray` 객체의 `T`라는 속성을 이용 전치행렬을 구함. `T`는 메서드(method)가 아니고 속성(attribute)이므로 소괄호 `()`를 사용하면 안된다."
   ]
  },
  {
   "cell_type": "markdown",
   "metadata": {},
   "source": [
    "my opinion : 전치연산이 필요한 이유는 내적(메트릭스 또는 벡터 곱)을 위해서"
   ]
  },
  {
   "cell_type": "code",
   "execution_count": 12,
   "metadata": {},
   "outputs": [
    {
     "data": {
      "text/plain": [
       "array([[11, 21],\n",
       "       [12, 22],\n",
       "       [13, 23]])"
      ]
     },
     "execution_count": 12,
     "metadata": {},
     "output_type": "execute_result"
    }
   ],
   "source": [
    "A.T"
   ]
  },
  {
   "cell_type": "markdown",
   "metadata": {},
   "source": [
    "주의점: 1차원 `ndarray`는 전치 연산이 적용되지 않는다."
   ]
  },
  {
   "cell_type": "code",
   "execution_count": 13,
   "metadata": {},
   "outputs": [
    {
     "data": {
      "text/plain": [
       "array([1, 2, 3, 4])"
      ]
     },
     "execution_count": 13,
     "metadata": {},
     "output_type": "execute_result"
    }
   ],
   "source": [
    "x1"
   ]
  },
  {
   "cell_type": "code",
   "execution_count": 14,
   "metadata": {},
   "outputs": [
    {
     "data": {
      "text/plain": [
       "array([1, 2, 3, 4])"
      ]
     },
     "execution_count": 14,
     "metadata": {},
     "output_type": "execute_result"
    }
   ],
   "source": [
    "x1.T"
   ]
  },
  {
   "cell_type": "markdown",
   "metadata": {},
   "source": [
    "### **5. 행렬의 행 표기법과 열 표기법**\n",
    "\n",
    "전치 연산과 행 벡터, 열 벡터를 이용하면 다음처럼 행렬을 복수의 열 벡터 $c_i$, 또는 복수의 행 벡터 $r_j^T$을 합친(concatenated) 형태로 표기할 수도 있다.<br>\n",
    "$$\n",
    "X =\n",
    "\\begin{bmatrix}\n",
    "c_1 & c_2 & \\cdots & c_i \\\\\n",
    "\\end{bmatrix}\n",
    "=\n",
    "\\begin{bmatrix}\n",
    "r_1^T \\\\\n",
    "r_2^T \\\\\n",
    "\\vdots \\\\\n",
    "r_j^T \\\\\n",
    "\\end{bmatrix}\n",
    "$$\n",
    "여기에서 각 행렬의 크기는 다음과 같다.<br>\n",
    "\n",
    "* 행렬\n",
    "\n",
    "$$ X \\in \\mathbf{R}^{N\\times M}$$\n",
    "\n",
    "\n",
    "* 열 벡터\n",
    "\n",
    "$$ C_i \\in \\mathbf{R}^{N \\times 1} \\; (i=1, \\cdots, M) $$ \n",
    "\n",
    "* 행 벡터\n",
    "\n",
    "$$ r_j^T \\in \\mathbf{R}^{1 \\times M} \\; (j=1, \\cdots, N) $$\n",
    "<br>\n",
    "\n",
    "즉, 위의 식은 다음과 같은 말을 수식으로 표현한 것이다.\n",
    "\n",
    "> \"행렬 $X$의 각 <span style=\"color:red\">열</span>은 $c_1$, $c_2$, $\\ldots$, $c_M$라고 이름 붙인다.\"\n",
    "\n",
    "또는\n",
    "\n",
    "> \"행렬 $X$의 각 <span style=\"color:red\">행</span>은 $r_1^T$, $r_2^T$, $\\ldots$, $r_N^T$라고 이름 붙인다.\"\n",
    "\n",
    "모든 벡터는 기본적으로 열벡터이며, $r_1$를 전치 연산하여 행을 표한점에 주의."
   ]
  },
  {
   "cell_type": "markdown",
   "metadata": {},
   "source": [
    "my opinion: 긴 수식을 단순한 형태로 표기 할수 있으므로 매우 중요하며 잘알고 있어야 한다고 생각, 또 열과 행을 구분하는 표시에 주의"
   ]
  },
  {
   "cell_type": "markdown",
   "metadata": {},
   "source": [
    "### **6. 특수 벡터와 행렬**\n",
    "<br>\n",
    "#### **영 벡터**\n",
    "모든 원소가 0인 N차원 벡터 아래의 모든 표기가 같은 의미 표기법.\n",
    "$$\n",
    "\\mathbf{0}_N = \\mathbf{0} = 0 =\n",
    "\\begin{bmatrix}\n",
    "0 \\\\\n",
    "0 \\\\\n",
    "\\vdots \\\\\n",
    "0 \\\\\n",
    "\\end{bmatrix}\n",
    "$$\n",
    "\n",
    "$$ 0 \\in \\mathbf{R}^{N \\times 1} $$\n",
    "\n",
    "#### **일 벡터**\n",
    "영 벡터와 마찬가지로 모든 원소가 1인 N차원 벡터\n",
    "$$\n",
    "\\mathbf{1}_N = \\mathbf{1} = 1 = \n",
    "\\begin{bmatrix}\n",
    "1 \\\\\n",
    "1 \\\\\n",
    "\\vdots \\\\\n",
    "1 \\\\\n",
    "\\end{bmatrix}\n",
    "$$\n",
    "\n",
    "$$1 \\in \\mathbf{R}^{N \\times 1}$$\n",
    "\n",
    "#### **정방 행렬**\n",
    "행의 개수와 열의 개수가 같은 행렬을 정방 행렬(square matrix)이라 한다.\n",
    "$$\n",
    "\\color{red}N = \\color{blue}M\n",
    "$$\n",
    "\n",
    "$$\n",
    "\\mathbf{R}^{\\color{red}N \\times \\color{blue}M}\n",
    "$$\n",
    "\n",
    "#### **대각 행렬**\n",
    "행렬에서 행과 열이 같은 위치를 대각(diagonal)이라고 하고,<br>\n",
    "대각 위치에 있지 않은 것들은 비대각(off-diagonal)이라고 한다.<br>\n",
    "모든 비대각 요소가 0인 정방 행렬을 대각 행렬(diagonal matrix)이라고 한다.<br>\n",
    "<br>\n",
    "$$\n",
    "D =\n",
    "\\begin{bmatrix}\n",
    "\\color{red}D_\\color{red}{1,1} & 0 & \\cdots & 0 \\\\\n",
    "0 & \\color{red}D_\\color{red}{2,2} & \\cdots & 0 \\\\\n",
    "\\vdots & \\vdots & \\ddots & \\vdots \\\\\n",
    "0 & 0 & \\cdots & \\color{red}D_\\color{red}{N,N} \\\\\n",
    "\\end{bmatrix}\n",
    "$$\n",
    "\n",
    "$$ D \\in \\mathbf{R}^{N \\times N}$$"
   ]
  },
  {
   "cell_type": "markdown",
   "metadata": {},
   "source": [
    "Numpy에서 대각행렬을 만드려면 `diag`명령어 사용"
   ]
  },
  {
   "cell_type": "code",
   "execution_count": 15,
   "metadata": {},
   "outputs": [
    {
     "data": {
      "text/plain": [
       "array([[1, 0, 0],\n",
       "       [0, 2, 0],\n",
       "       [0, 0, 3]])"
      ]
     },
     "execution_count": 15,
     "metadata": {},
     "output_type": "execute_result"
    }
   ],
   "source": [
    "np.diag([1, 2, 3])"
   ]
  }
 ],
 "metadata": {
  "kernelspec": {
   "display_name": "Python 3",
   "language": "python",
   "name": "python3"
  },
  "language_info": {
   "codemirror_mode": {
    "name": "ipython",
    "version": 3
   },
   "file_extension": ".py",
   "mimetype": "text/x-python",
   "name": "python",
   "nbconvert_exporter": "python",
   "pygments_lexer": "ipython3",
   "version": "3.5.3"
  }
 },
 "nbformat": 4,
 "nbformat_minor": 2
}
