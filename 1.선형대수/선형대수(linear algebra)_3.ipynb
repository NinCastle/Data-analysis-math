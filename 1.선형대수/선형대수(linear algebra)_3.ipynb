{
 "cells": [
  {
   "cell_type": "markdown",
   "metadata": {},
   "source": [
    "### **가중평균**\n",
    "\n",
    "**가중평균(weighted average)**은 대표적으로 대학교의 평균성적으로 많이 표현\n",
    "* 교양 1학점 A(90) , 전공 3학점 B(70) 받았을 경우<br>\n",
    "<br>\n",
    "학과점수의 가중합(Department weighted), 학과점수 총합(Total score of department)\n",
    "<br>\n",
    "<br>\n",
    "$$\n",
    "\\dfrac{\\text{Department weighted}}{\\text{Total score of department}} = \\dfrac {1}{1+3} \\times 90 + \\dfrac {3}{1+3} \\times 70 = 75\n",
    "$$"
   ]
  },
  {
   "cell_type": "markdown",
   "metadata": {},
   "source": [
    "벡터로 표현된 $N$개의 데이터를 단순 평균은 다음처럼 생각할 수 있다.<br>\n",
    "<br>\n",
    "$$\n",
    "\\bar{x} = \\dfrac{1}{N} \\sum_{i=1}^N x_i = \\dfrac{1}{N} \\mathbf{1}_N^T x\n",
    "$$"
   ]
  },
  {
   "cell_type": "markdown",
   "metadata": {},
   "source": [
    "$\\bar{x}$ 는 $x$의 평균이며 보통 x bar로 읽는다 "
   ]
  },
  {
   "cell_type": "markdown",
   "metadata": {},
   "source": [
    "numpy에서 사용방법 <span style=\"color:red\">mean</span> 이라는 메더스를 사용할 수도 있다."
   ]
  },
  {
   "cell_type": "code",
   "execution_count": 19,
   "metadata": {},
   "outputs": [
    {
     "data": {
      "text/plain": [
       "array([0, 1, 2, 3, 4, 5, 6, 7, 8, 9])"
      ]
     },
     "execution_count": 19,
     "metadata": {},
     "output_type": "execute_result"
    }
   ],
   "source": [
    "import numpy as np\n",
    "\n",
    "# 1 \n",
    "x = np.arange(10)\n",
    "x"
   ]
  },
  {
   "cell_type": "code",
   "execution_count": 20,
   "metadata": {},
   "outputs": [
    {
     "data": {
      "text/plain": [
       "4.5"
      ]
     },
     "execution_count": 20,
     "metadata": {},
     "output_type": "execute_result"
    }
   ],
   "source": [
    "x.mean()"
   ]
  },
  {
   "cell_type": "code",
   "execution_count": 21,
   "metadata": {},
   "outputs": [
    {
     "data": {
      "text/plain": [
       "10"
      ]
     },
     "execution_count": 21,
     "metadata": {},
     "output_type": "execute_result"
    }
   ],
   "source": [
    "# 2\n",
    "N = len(x)\n",
    "N"
   ]
  },
  {
   "cell_type": "code",
   "execution_count": 22,
   "metadata": {},
   "outputs": [
    {
     "data": {
      "text/plain": [
       "45.0"
      ]
     },
     "execution_count": 22,
     "metadata": {},
     "output_type": "execute_result"
    }
   ],
   "source": [
    "np.dot(np.ones(N), x)"
   ]
  },
  {
   "cell_type": "code",
   "execution_count": 23,
   "metadata": {},
   "outputs": [
    {
     "data": {
      "text/plain": [
       "45.0"
      ]
     },
     "execution_count": 23,
     "metadata": {},
     "output_type": "execute_result"
    }
   ],
   "source": [
    "sum(np.ones(N) * x)"
   ]
  },
  {
   "cell_type": "code",
   "execution_count": 24,
   "metadata": {},
   "outputs": [
    {
     "data": {
      "text/plain": [
       "4.5"
      ]
     },
     "execution_count": 24,
     "metadata": {},
     "output_type": "execute_result"
    }
   ],
   "source": [
    "np.dot(np.ones(N), x) / N"
   ]
  },
  {
   "cell_type": "markdown",
   "metadata": {},
   "source": [
    "### **유사도**"
   ]
  },
  {
   "cell_type": "markdown",
   "metadata": {},
   "source": [
    "유사도를 측정하는 방법은 여러가지이나 벡터의 곱셈(내적)은 두 벡터간의 유사도(similarity)를 계산하는 것에도 이용.<br>\n",
    "Ex) 0 ~ 1 의 값을 가지는 두 벡터\n",
    "$$\n",
    "a\n",
    "=\n",
    "\\begin{bmatrix}\n",
    "1\\\\\n",
    "0\\\\\n",
    "1\\\\\n",
    "1\\\\\n",
    "\\end{bmatrix}\n",
    "$$\n",
    "<br>\n",
    "$$\n",
    "b=\n",
    "\\begin{bmatrix}\n",
    "0\\\\\n",
    "1\\\\\n",
    "1\\\\\n",
    "1\\\\\n",
    "\\end{bmatrix}\n",
    "$$\n",
    "<br>\n",
    "두 벡터에서 같은 위치의 원소(수치)를 서로 곱할 때 두 원소의 값 중 어느 하나라도 0에 가까우면 곱은 0에 가까운 작은값이 된다. 따라서 같은 위치의 값 크기가 같은 경우가 많을 수록 전체 곱의 합 즉, 내적값이 커지는 경향을 띤다.\n",
    "\n",
    "$$\n",
    "a_{1,1} \\times b_{1,1} = 1 \\times 0  = 0\n",
    "$$\n",
    "$$+$$\n",
    "$$\n",
    "a_{2,1} \\times b_{2,1} = 0 \\times 1  = 0\n",
    "$$\n",
    "$$+$$\n",
    "$$\n",
    "a_{3,1} \\times b_{3,1} = 1 \\times 1  = 1\n",
    "$$\n",
    "$$+$$\n",
    "$$\n",
    "a_{4,1} \\times b_{4,1} = 1 \\times 1  = 1\n",
    "$$\n",
    "$$+$$\n",
    "$$\n",
    "similarity = 2\n",
    "$$\n",
    "\n"
   ]
  },
  {
   "cell_type": "markdown",
   "metadata": {},
   "source": [
    "### 선형 회귀 모형"
   ]
  },
  {
   "cell_type": "markdown",
   "metadata": {},
   "source": [
    "\n",
    "선형(linear) 회귀분석을 해보면 결과 값들이 직선의 관계가 있음을 볼 수 있다.<br>\n",
    "<img src = \"https://seaborn.pydata.org/_images/regression_9_0.png\">\n",
    "<br>\n",
    "<br>\n",
    "회귀(regress) \"go back to an earlier and worse condition\"(옛날 상태로 돌아감) 결국 값이 무한적으로 커지거나 작아지는 것이 아닌 평균으로 돌아가는 경향을 말한다.<br>\n",
    "<br>\n",
    "선형 회귀 모형(linear regression model)이란 독립 변수 x에서 종속 변수 y를 예측 하기 위한 방법의 하나.<br>\n",
    "<br>"
   ]
  },
  {
   "cell_type": "markdown",
   "metadata": {},
   "source": [
    "$y$값과 가장 비슷한 $\\hat{y}$를 찾는(계산)하는 수식을 말한다.<br>\n",
    "<br>\n",
    "$$\n",
    "y \\fallingdotseq \\hat{y}\n",
    "\\\\\n",
    "\\\\\n",
    "w^Tx=\\hat{y} \n",
    "$$\n",
    "<br>\n",
    "여기서 가장 비슷한 $\\hat{y}$라고 하는 이유는 정확히 $y$를 만들어주는 $w$를 찾기 힘들기 때문이다.<br>\n",
    "<br>\n",
    "ex)<br>\n",
    "어떤 아파트 잔지의 가격을 조사하였더니 개별 아파트의 가격은 <span style=\"color:red\">면적</span>, <span style=\"color:blue\">층수</span>, <span style=\"color:green\">한강</span>이 보이는지의 여부에 의해 달라진다는 사실을 알게 되었다.\n",
    "* 평균 면적은 $\\color{red}{80m^2}$ 이며 해당 아파트 면적과 평균면적의 차이를 $\\color{red}{x_1}$ 이라고 한다.<br>\n",
    "    - 면적인 $100m^2$인 아파트의 경우 $x_1 = 20$\n",
    "    - 면적이 $70m^2$ 인 아파트인 경우 $x_1 = -10$\n",
    "* 층수는 1층 부터 20층 까지이며 <span style=\"color:blue\">\"층수 -1\"</span>의 수를 입력 데이터 $\\color{blue}{x_2}$라고 한다. \n",
    "    - 10층이면 $x_2 = 10-1 = 9$이다.\n",
    "* 한강이 보이는지의 <span style=\"color:green\">여부</span>를 입력데이터 $\\color{green}{x_3}$라고 한다.\n",
    "    - 한강이 보이면 $x_3 = 1$ \n",
    "    - 보이지 않으면 $x_3 = 0$\n",
    "* 출력 데이터 $\\hat{y}$는 $\\color{red}{x_1} = \\color{blue}{x_2} = \\color{green}{x_3} = 0$ 일 때의 기본 가격 (base price)과 해당 아파트의 예측 가격과의 차이이다."
   ]
  },
  {
   "cell_type": "markdown",
   "metadata": {},
   "source": [
    "위와 같이 입력 데이터와 출력 데이터를 정의 하고 회귀 분석 한 결과 다음과 같은 모형을 만들수 있다고 가정.<br>\n",
    "<br>\n",
    "$$\n",
    "\\hat y = \\color{red}{500x_1} + \\color{blue}{200x_2} + \\color{green}{1000x_3}\n",
    "$$\n",
    "<br> \n",
    "이 결과는 다음과 같이 해석\n",
    "* 면적이 $1m^2$ 증가할수록 가격은 <span style=\"color:red\">500만 원</span>이 증가한다.\n",
    "* 층수가 1층 높아 질수록 가격은 <span style=\"color:blue\">200만 원</span>이 증가한다.\n",
    "* 한강이 보이는 집은 <span style=\"color:green\">1000만 원</span>의 웃돈(프리미엄)이 존재한다."
   ]
  },
  {
   "cell_type": "markdown",
   "metadata": {},
   "source": [
    "다음과 같이 표현 가능\n",
    "$$\n",
    "\\hat y\n",
    "=\n",
    "\\begin{bmatrix}\n",
    "500 & 200 & 1000 \n",
    "\\end{bmatrix}\n",
    "\\begin{bmatrix}\n",
    "{x_1}\\\\\n",
    "{x_2}\\\\\n",
    "{x_3}\\\\\n",
    "\\end{bmatrix}\n",
    "=\n",
    "w^{T}x\n",
    "$$"
   ]
  },
  {
   "cell_type": "markdown",
   "metadata": {},
   "source": [
    "즉 선형 예측 모형은 다음과 같은 가중치 벡터로 표현 가능\n",
    "\n",
    "$$\n",
    "w^T =\n",
    "\\begin{bmatrix}\n",
    "500 & 200 & 1000\n",
    "\\end{bmatrix}\n",
    "$$"
   ]
  },
  {
   "cell_type": "markdown",
   "metadata": {},
   "source": [
    "인공 신경망(artificial neural network)에서는 선형회귀 모형을 다음과 같은 그림으로 표현한다.<br>\n",
    "데이터는 노드(node)혹은 뉴런(neuron)이라는 동그라미로 표시하고 곱셈은 선분(line)위에 곱할 숫자를 써서 나타다낸다.<br> 덧셈은 여러개의 선분이 만나는 것으로 표시."
   ]
  },
  {
   "cell_type": "markdown",
   "metadata": {},
   "source": [
    "<img src = \"https://csdl-images.computer.org/trans/tc/1996/10/figures/t11711.gif\">"
   ]
  }
 ],
 "metadata": {
  "kernelspec": {
   "display_name": "Python 3",
   "language": "python",
   "name": "python3"
  },
  "language_info": {
   "codemirror_mode": {
    "name": "ipython",
    "version": 3
   },
   "file_extension": ".py",
   "mimetype": "text/x-python",
   "name": "python",
   "nbconvert_exporter": "python",
   "pygments_lexer": "ipython3",
   "version": "3.5.3"
  }
 },
 "nbformat": 4,
 "nbformat_minor": 2
}
