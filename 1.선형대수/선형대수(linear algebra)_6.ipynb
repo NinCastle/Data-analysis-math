{
 "cells": [
  {
   "cell_type": "markdown",
   "metadata": {},
   "source": [
    "# 행렬의 성질"
   ]
  },
  {
   "cell_type": "markdown",
   "metadata": {},
   "source": [
    "## 행렬의 부호\n",
    "\n",
    "행렬은 여러개의 숫자로 이루어져 있기 떄문에 행렬 전체의 부호는 정의하기 힘들다. <br>\n",
    "그러나 행렬에서도 **실수** 부호와 비슷한 특성이 있다.<br>\n",
    "- 행렬의 <span style=\"color:red\"> 양-정부호</span> (positive definite)특성이다."
   ]
  },
  {
   "cell_type": "markdown",
   "metadata": {},
   "source": [
    "영 벡터가 아닌 모든 벡터 $x$에 대해 다음 부등식이 성립하면 행렬 $A$가 **양-정부호(positive definite$\n",
    "x^T Ax > 0\n",
    "$$"
   ]
  },
  {
   "cell_type": "markdown",
   "metadata": {},
   "source": [
    "만약 위 등식을 포함하면 **양-준정부호(positive semi-definite)**라고 한다.\n",
    "\n",
    "$$\n",
    "x^T Ax \\ge 0\n",
    "$$"
   ]
  },
  {
   "cell_type": "markdown",
   "metadata": {},
   "source": [
    "예를 들어 단위 행렬($I$)은 양-정부호이다.<br> \n",
    "벡터 $x$는 영 벡터가 아니라는 점에 주의한다.\n",
    "\n",
    "$$\n",
    "x^T Ix =\n",
    "\\begin{bmatrix}\n",
    "x_1 & x_2 & \\ldots & x_N\n",
    "\\end{bmatrix}\n",
    "\\begin{bmatrix}\n",
    "1 & 0 & \\ldots & 0 \\\\\n",
    "0 & 1 & \\ldots & 0 \\\\\n",
    "\\vdots & \\vdots & \\ddots & \\vdots \\\\\n",
    "0 & 0 & \\ldots & 1 \\\\\n",
    "\\end{bmatrix}\n",
    "\\begin{bmatrix}\n",
    "x_1 \\\\\n",
    "x_2 \\\\\n",
    "\\vdots \\\\\n",
    "x_N\n",
    "\\end{bmatrix}\n",
    "= x_1^2 + x_2^2 + x_3^2 + \\ldots + x_N^2 > 0\n",
    "$$"
   ]
  },
  {
   "cell_type": "markdown",
   "metadata": {},
   "source": [
    "아래 행렬도 양-정부호이다.\n",
    "$$\n",
    "A =\n",
    "\\begin{bmatrix}\n",
    "2 & -1 & 0 \\\\\n",
    "-1 & 2 & -1 \\\\\n",
    "0 & -1 & 2 \\\\\n",
    "\\end{bmatrix}\n",
    "$$"
   ]
  }
 ],
 "metadata": {
  "kernelspec": {
   "display_name": "Python 3",
   "language": "python",
   "name": "python3"
  },
  "language_info": {
   "codemirror_mode": {
    "name": "ipython",
    "version": 3
   },
   "file_extension": ".py",
   "mimetype": "text/x-python",
   "name": "python",
   "nbconvert_exporter": "python",
   "pygments_lexer": "ipython3",
   "version": "3.5.3"
  }
 },
 "nbformat": 4,
 "nbformat_minor": 2
}
