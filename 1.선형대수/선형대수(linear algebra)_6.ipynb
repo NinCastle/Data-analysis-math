{
 "cells": [
  {
   "cell_type": "markdown",
   "metadata": {},
   "source": [
    "# 행렬의 성질"
   ]
  },
  {
   "cell_type": "markdown",
   "metadata": {},
   "source": [
    "## 행렬의 부호\n",
    "\n",
    "행렬은 여러개의 숫자로 이루어져 있기 떄문에 행렬 전체의 부호는 정의하기 힘들다. <br>\n",
    "그러나 행렬에서도 **실수** 부호와 비슷한 특성이 있다.<br>\n",
    "\n",
    "- 행렬의 <span style=\"color:red\"> 양-정부호</span> (positive definite)특성이다."
   ]
  },
  {
   "cell_type": "markdown",
   "metadata": {},
   "source": [
    "영 벡터가 아닌 모든 벡터 $x$에 대해 다음 부등식이 성립하면 행렬 $A$가 **양-정부호(positive definite)** 이라고 한다.\n",
    "$$\n",
    "x^T Ax > 0\n",
    "$$"
   ]
  },
  {
   "cell_type": "markdown",
   "metadata": {},
   "source": [
    "만약 위 등식을 포함하면 **양-준정부호(positive semi-definite)**라고 한다.\n",
    "\n",
    "$$\n",
    "x^T Ax \\ge 0\n",
    "$$"
   ]
  },
  {
   "cell_type": "markdown",
   "metadata": {},
   "source": [
    "예를 들어 단위 행렬($I$)은 양-정부호이다.<br> \n",
    "벡터 $x$는 영 벡터가 아니라는 점에 주의한다.\n",
    "\n",
    "$$\n",
    "x^T Ix =\n",
    "\\begin{bmatrix}\n",
    "x_1 & x_2 & \\ldots & x_N\n",
    "\\end{bmatrix}\n",
    "\\begin{bmatrix}\n",
    "1 & 0 & \\ldots & 0 \\\\\n",
    "0 & 1 & \\ldots & 0 \\\\\n",
    "\\vdots & \\vdots & \\ddots & \\vdots \\\\\n",
    "0 & 0 & \\ldots & 1 \\\\\n",
    "\\end{bmatrix}\n",
    "\\begin{bmatrix}\n",
    "x_1 \\\\\n",
    "x_2 \\\\\n",
    "\\vdots \\\\\n",
    "x_N\n",
    "\\end{bmatrix}\n",
    "= x_1^2 + x_2^2 + x_3^2 + \\ldots + x_N^2 > 0\n",
    "$$"
   ]
  },
  {
   "cell_type": "markdown",
   "metadata": {},
   "source": [
    "아래 행렬도 양-정부호이다.\n",
    "$$\n",
    "A =\n",
    "\\begin{bmatrix}\n",
    "2 & -1 & 0 \\\\\n",
    "-1 & 2 & -1 \\\\\n",
    "0 & -1 & 2 \\\\\n",
    "\\end{bmatrix}\n",
    "$$"
   ]
  },
  {
   "cell_type": "markdown",
   "metadata": {},
   "source": [
    "이는 다음처럼 **증명**할 수 있다.<br>\n",
    "모든 벡터 $x^T = \\begin{bmatrix}x_1 & x_2 & x_3 \\end{bmatrix}$에 대해"
   ]
  },
  {
   "cell_type": "markdown",
   "metadata": {},
   "source": [
    "$$\n",
    "x^T A x =\n",
    "\\begin{bmatrix}\n",
    "x_1 & x_2 & x_3\n",
    "\\end{bmatrix}\n",
    "\\begin{bmatrix}\n",
    "2 & -1 & 0 \\\\\n",
    "-1 & 2 & -1 \\\\\n",
    "0 & -1 & 2 \\\\\n",
    "\\end{bmatrix}\n",
    "\\begin{bmatrix}\n",
    "x_1 \\\\\n",
    "x_2 \\\\\n",
    "x_3 \\\\\n",
    "\\end{bmatrix}\n",
    "$$"
   ]
  },
  {
   "cell_type": "markdown",
   "metadata": {},
   "source": [
    "행렬 잘못된 곱셈\n",
    "$$\n",
    "=\n",
    "\\begin{bmatrix}2x_1 + -x_1 + 0 & -x_2 + 2x_2 + -x_2 & 0 + -x_3 + 2x_3\\end{bmatrix}\n",
    "\\begin{bmatrix}\n",
    "x_1 \\\\\n",
    "x_2 \\\\\n",
    "x_3 \\\\\n",
    "\\end{bmatrix}\n",
    "$$"
   ]
  },
  {
   "cell_type": "markdown",
   "metadata": {},
   "source": [
    "올바른 곱셈(내적)\n",
    "$$\n",
    "=\n",
    "\\begin{bmatrix}\n",
    "2x_1 + (-x_2) + 0 & (-x_1) + 2x_2 +(-x_3) & 0 + (-x_2) + 2x_3\n",
    "\\end{bmatrix}\n",
    "\\begin{bmatrix}\n",
    "x_1 \\\\\n",
    "x_2 \\\\\n",
    "x_3 \\\\\n",
    "\\end{bmatrix}\n",
    "$$"
   ]
  },
  {
   "cell_type": "markdown",
   "metadata": {},
   "source": [
    "$$\n",
    "=\n",
    "\\begin{bmatrix}\n",
    "2x_1^2+(-x_1x_2) + 0 + (-x_1x_2) + 2x_2^2 + (-x_2x_3) + 0 + (-x_2x_3)+2x_3^2\n",
    "\\end{bmatrix}\n",
    "$$"
   ]
  },
  {
   "cell_type": "markdown",
   "metadata": {},
   "source": [
    "$$\n",
    "=\n",
    "\\begin{bmatrix}\n",
    "2x_1^2+2(-x_1x_2)+2x_2^2+2(-x_2x_3)+2x_3^2\n",
    "\\end{bmatrix}\n",
    "$$"
   ]
  },
  {
   "cell_type": "markdown",
   "metadata": {},
   "source": [
    "[인수분해(factorization)](https://ko.wikipedia.org/wiki/%EC%9D%B8%EC%88%98%EB%B6%84%ED%95%B4)를 통해 식을 변환<br>\n",
    "ex)\n",
    "\n",
    "$$\n",
    "a^{2}\\pm 2ab+b^{2}=(a\\pm b)^{2}\n",
    "$$"
   ]
  },
  {
   "cell_type": "markdown",
   "metadata": {},
   "source": [
    "$$\n",
    "=\n",
    "\\begin{bmatrix}\n",
    "x_1^2 + (-x_1 + x_2)^2 + (-x_2 + x_3)^2 + x_3^2\n",
    "\\end{bmatrix}\n",
    "$$"
   ]
  },
  {
   "cell_type": "markdown",
   "metadata": {},
   "source": [
    "위의 값은 제곱의 합으로 이루어 졌으므로 $x_1 = x_2 = x_3 = 0$인 경우를 제외하고 항상 0 보다 크다."
   ]
  },
  {
   "cell_type": "markdown",
   "metadata": {},
   "source": [
    "$$\n",
    "x_1^2 + (-x_1 + x_2)^2 + (-x_2 + x_3)^2 + x_3^2 > 0\n",
    "$$"
   ]
  },
  {
   "cell_type": "markdown",
   "metadata": {},
   "source": []
  },
  {
   "cell_type": "markdown",
   "metadata": {},
   "source": [
    "연습 문제 1\n",
    "다음 행렬을 양-정부호, 양-준정부호 혹은 아무것도 해당되지 않는지 판단하라.\n",
    "$$\n",
    "\\begin{bmatrix}\n",
    "1 & 1 \\\\\n",
    "1 & 1 \\\\\n",
    "\\end{bmatrix}\n",
    "$$"
   ]
  },
  {
   "cell_type": "code",
   "execution_count": 9,
   "metadata": {},
   "outputs": [],
   "source": [
    "import numpy as np\n",
    "\n",
    "A = np.array([[1, 1], [1, 1]])\n",
    "x = np.array([1, 2])"
   ]
  },
  {
   "cell_type": "code",
   "execution_count": 10,
   "metadata": {},
   "outputs": [
    {
     "data": {
      "text/plain": [
       "9"
      ]
     },
     "execution_count": 10,
     "metadata": {},
     "output_type": "execute_result"
    }
   ],
   "source": [
    "# x^T A x\n",
    "np.dot(np.dot(x.T, A), x) # 9 > 0"
   ]
  },
  {
   "cell_type": "code",
   "execution_count": 11,
   "metadata": {},
   "outputs": [],
   "source": [
    "B = np.array([[1, 1], [1, 1]])\n",
    "y = np.array([-1, -2])"
   ]
  },
  {
   "cell_type": "code",
   "execution_count": 12,
   "metadata": {},
   "outputs": [
    {
     "data": {
      "text/plain": [
       "9"
      ]
     },
     "execution_count": 12,
     "metadata": {},
     "output_type": "execute_result"
    }
   ],
   "source": [
    "np.dot(np.dot(y.T, B), y)"
   ]
  },
  {
   "cell_type": "markdown",
   "metadata": {},
   "source": [
    "결과 값은 9 이므로 양-정부호이다."
   ]
  },
  {
   "cell_type": "markdown",
   "metadata": {},
   "source": []
  },
  {
   "cell_type": "markdown",
   "metadata": {},
   "source": [
    "## 행렬의 크기\n",
    "\n",
    "행렬의 크기를 정의하는 것도 어렵다.<br>\n",
    "하나의 행렬에 대해 하나의 실수를 대응하는 개념<br>\n",
    "<br>\n",
    "**놈(norm), 대각합(trace), 행렬식(determinant)**이란 연산은<br>\n",
    "<br>\n",
    "행렬의 크기와 비슷한 의미가 있다."
   ]
  },
  {
   "cell_type": "markdown",
   "metadata": {},
   "source": [
    "### 행렬 놈\n",
    "\n",
    "행렬의 **놈(norm)**은 행렬 $A$에 대해 아래와 같이 정의 되는 숫자.<br>\n",
    "보통 $\\left\\| A \\right\\|_L$로 표기한다.<br>\n",
    "$L$은 1,2 또는 무한대($\\infty$)이다.<br>\n",
    "아래 식에서 $a_{ij}$는 행렬 $A$의 $i$번째 행, $j$번째 열의 원소이다."
   ]
  },
  {
   "cell_type": "markdown",
   "metadata": {},
   "source": [
    "$$\n",
    "\\left\\| A \\right\\|_L = \\left( \\sum_{i=1}^M \\sum_{j=1}^N \\left|a_{ij}^L\\right| \\right)^{1/L} \n",
    "$$"
   ]
  },
  {
   "cell_type": "markdown",
   "metadata": {},
   "source": [
    "$L=1$이면 L1놈, $L=2$이면 L2놈 이라고 부른다.<br>\n",
    "이 중 $L=2$인 경우가 많이 쓰이므로 L값 표시가 없는 경우 $L=2$인 놈이라고 생각면 된다.<br>\n",
    "L2놈은 [프로베니우스 놈(Frobenius norm)](https://ko.wikipedia.org/wiki/%ED%94%84%EB%A1%9C%EB%B2%A0%EB%8B%88%EC%9A%B0%EC%8A%A4_%EB%B0%A9%EB%B2%95) 이라고 불리며 $\\left\\|A\\right\\|_F$이라고 표기하기도 한다."
   ]
  },
  {
   "cell_type": "markdown",
   "metadata": {},
   "source": [
    "$$\n",
    "\\left\\|A\\right\\| = \\left\\| A \\right\\|_F = \\sqrt{\\sum_{i=1}^M \\sum_{j=1}^N a_{ij}^2}\n",
    "$$"
   ]
  },
  {
   "cell_type": "markdown",
   "metadata": {},
   "source": [
    "$A$에 대한 각각의 원소 값에 제곱하고 난 후 합한 뒤 루트 계산하는것."
   ]
  },
  {
   "cell_type": "markdown",
   "metadata": {},
   "source": []
  },
  {
   "cell_type": "markdown",
   "metadata": {},
   "source": [
    "놈은 모든 크기의 행렬에 대해서 정의 할 수 있으므로 벡터에 대해서도 정의 가능.<br>\n",
    "벡터의 놈의 제곱은 그 벡터의 제곱합과 같다.\n",
    "\n",
    "$$\n",
    "\\left\\|x\\right\\|^2 = \\sum_{i=1}^N x_i^2 = x^T x\n",
    "$$"
   ]
  },
  {
   "cell_type": "markdown",
   "metadata": {},
   "source": [
    "따라서 벡터의 제곱합을 최소화(가장 작게 만드는 것)하는 것은 놈을 최소화 하는 것과 같다.<br>\n",
    "<br>\n",
    "행렬과 벡터의 놈은 항상 0과 같거나 0보다 큰 값을 가진다.<br>\n",
    "Numpy에서는 linalg서브패키지의 <span style=\"color:red\">norm</span>으로 놈을 계산."
   ]
  },
  {
   "cell_type": "code",
   "execution_count": 4,
   "metadata": {},
   "outputs": [
    {
     "data": {
      "text/plain": [
       "array([[-4, -3, -2],\n",
       "       [-1,  0,  1],\n",
       "       [ 2,  3,  4]])"
      ]
     },
     "execution_count": 4,
     "metadata": {},
     "output_type": "execute_result"
    }
   ],
   "source": [
    "import numpy as np\n",
    "# np.arange(x) 는 0부터 x-1까지의 값을 말한다. , -4부터 시작\n",
    "A = (np.arange(9) - 4 ).reshape((3,3))\n",
    "B = (np.arange(9).reshape((3,3)))\n",
    "A"
   ]
  },
  {
   "cell_type": "code",
   "execution_count": 5,
   "metadata": {
    "scrolled": true
   },
   "outputs": [
    {
     "data": {
      "text/plain": [
       "7.745966692414834"
      ]
     },
     "execution_count": 5,
     "metadata": {},
     "output_type": "execute_result"
    }
   ],
   "source": [
    "np.linalg.norm(A)"
   ]
  },
  {
   "cell_type": "markdown",
   "metadata": {},
   "source": [
    "Numpy에서 행렬 놈2 증명해보기"
   ]
  },
  {
   "cell_type": "code",
   "execution_count": 10,
   "metadata": {},
   "outputs": [
    {
     "name": "stdout",
     "output_type": "stream",
     "text": [
      "7.745966692414834\n"
     ]
    }
   ],
   "source": [
    "import math\n",
    "\n",
    "# 원소값\n",
    "a = [-4, -3, -2, -1, 1, 2, 3, 4]\n",
    "a_pow_box = 0\n",
    "\n",
    "# 제곱\n",
    "for i in a:\n",
    "    a_pow = math.pow(i, 2)\n",
    "    a_pow_box = a_pow_box + a_pow\n",
    "    \n",
    "# 루트\n",
    "a_pow_sqrt = math.sqrt(a_pow_box)\n",
    "print(a_pow_sqrt)"
   ]
  },
  {
   "cell_type": "markdown",
   "metadata": {},
   "source": []
  },
  {
   "cell_type": "code",
   "execution_count": 7,
   "metadata": {},
   "outputs": [
    {
     "data": {
      "text/plain": [
       "array([[0, 1, 2],\n",
       "       [3, 4, 5],\n",
       "       [6, 7, 8]])"
      ]
     },
     "execution_count": 7,
     "metadata": {},
     "output_type": "execute_result"
    }
   ],
   "source": [
    "B"
   ]
  },
  {
   "cell_type": "code",
   "execution_count": 8,
   "metadata": {
    "scrolled": true
   },
   "outputs": [
    {
     "data": {
      "text/plain": [
       "14.282856857085701"
      ]
     },
     "execution_count": 8,
     "metadata": {},
     "output_type": "execute_result"
    }
   ],
   "source": [
    "np.linalg.norm(B)"
   ]
  },
  {
   "cell_type": "markdown",
   "metadata": {},
   "source": []
  },
  {
   "cell_type": "markdown",
   "metadata": {},
   "source": [
    "연습 문제 2<br>\n",
    "행렬 $A(A \\in R^{N \\times M})$의 놈의 제곱 $\\left\\| A \\right\\|^2$이 그 행렬을 이루는 행 벡터$r_i$의 놈의 제곱의 합 또는 열 벡터 $c_i$의 놈의 제곱의 합과 같음을 증명하라.\n",
    "\n",
    "$$\n",
    "\\left\\| A \\right\\|^2 = \\sum_{i=1}^N \\left\\| r_i \\right\\|^2 = \\sum_{j=1}^M \\left\\| c_j \\right\\|^2\n",
    "$$"
   ]
  },
  {
   "cell_type": "markdown",
   "metadata": {},
   "source": []
  },
  {
   "cell_type": "markdown",
   "metadata": {},
   "source": []
  },
  {
   "cell_type": "markdown",
   "metadata": {},
   "source": [
    "### 대각합\n",
    "**대각합(trace)**은 정방 행렬에 대해서만 정의.<br>\n",
    "대각합은 대각의 원소들 합으로 계산된다.\n",
    "\n",
    "$$\n",
    "tr(A) = a_{11} + a_{22} + \\ldots + a_{NN} = \\sum_{i=1}^N a_{ii}\n",
    "$$"
   ]
  },
  {
   "cell_type": "markdown",
   "metadata": {},
   "source": [
    "대각합은 절대값이나 제곱을 하지 않기 때문에 놈과는 달리 0이나 음수가 가능.<br>\n",
    "아래는 대각합의 성질<br>\n",
    "아래 식 c는 scala이고, A,B,C는 matrix\n",
    "\n",
    "$$\n",
    "tr(cA) = c \\times tr(A)\n",
    "$$$$\n",
    "tr(A^T) = tr(A)\n",
    "$$$$\n",
    "tr(A+B) = tr(A) + tr(B)\n",
    "$$$$\n",
    "tr(AB) = tr(BA)\n",
    "$$$$\n",
    "tr(ABC) = tr(BCA) = tr(CAB)\n",
    "$$"
   ]
  },
  {
   "cell_type": "markdown",
   "metadata": {},
   "source": [
    "특히 마지막 두식은 **트레이스 트릭(trace trick)** 이라고 하며 [이차 형식(quadratic form)](https://m.blog.naver.com/PostView.nhn?blogId=hextrial&logNo=220040851284&proxyReferer=https%3A%2F%2Fwww.google.co.kr%2F)의 [미분](https://namu.wiki/w/%EB%AF%B8%EB%B6%84)을 구하는데 유용하게 사용된다."
   ]
  },
  {
   "cell_type": "markdown",
   "metadata": {},
   "source": [
    "A, B ,C가 모두 정방행렬일 필요는 없고 대각합을 구하는 행렬이 정방행렬이면 된다.<br>\n",
    "이차 형식의 트레이트 트릭<br>\n",
    "ex)\n",
    "\n",
    "$$\n",
    "x^TAx = tr(x^TAx) = tr(Axx^T) = tr(xx^T A)\n",
    "$$"
   ]
  },
  {
   "cell_type": "markdown",
   "metadata": {},
   "source": [
    "이차 형식은 <span style=\"color:red\">스칼라값</span>이 기 때문에 대각합을 취해도 원래의 값과 같다.<br>\n",
    "Numpy에서 linalg 서브패키지의 <span style=\"color:red\">trace</span> 명령으로 trace를 계산."
   ]
  },
  {
   "cell_type": "code",
   "execution_count": 12,
   "metadata": {},
   "outputs": [
    {
     "data": {
      "text/plain": [
       "array([[ 1.,  0.,  0.],\n",
       "       [ 0.,  1.,  0.],\n",
       "       [ 0.,  0.,  1.]])"
      ]
     },
     "execution_count": 12,
     "metadata": {},
     "output_type": "execute_result"
    }
   ],
   "source": [
    "np.eye(3)"
   ]
  },
  {
   "cell_type": "code",
   "execution_count": 13,
   "metadata": {},
   "outputs": [
    {
     "data": {
      "text/plain": [
       "3.0"
      ]
     },
     "execution_count": 13,
     "metadata": {},
     "output_type": "execute_result"
    }
   ],
   "source": [
    "np.trace(np.eye(3))"
   ]
  },
  {
   "cell_type": "markdown",
   "metadata": {},
   "source": [
    "연습 문제3<br>\n",
    "x,A가 각각 크기가 2인 벡터, 크기가 2$\\times$2 인 정방 행렬일 때 이차 형식의 트레이스 트릭이 성립합을 보인다."
   ]
  },
  {
   "cell_type": "code",
   "execution_count": 1,
   "metadata": {
    "scrolled": true
   },
   "outputs": [
    {
     "data": {
      "text/plain": [
       "array([[3, 4],\n",
       "       [5, 6]])"
      ]
     },
     "execution_count": 1,
     "metadata": {},
     "output_type": "execute_result"
    }
   ],
   "source": [
    "import numpy as np\n",
    "\n",
    "x = np.array([1, 2])\n",
    "A = np.array([[3, 4], [5, 6]])\n",
    "A"
   ]
  },
  {
   "cell_type": "code",
   "execution_count": 2,
   "metadata": {},
   "outputs": [
    {
     "data": {
      "text/plain": [
       "9"
      ]
     },
     "execution_count": 2,
     "metadata": {},
     "output_type": "execute_result"
    }
   ],
   "source": [
    "np.trace(A)"
   ]
  },
  {
   "cell_type": "markdown",
   "metadata": {},
   "source": [
    "$x^Tx$   $tr(A)$"
   ]
  },
  {
   "cell_type": "code",
   "execution_count": 16,
   "metadata": {},
   "outputs": [
    {
     "data": {
      "text/plain": [
       "45"
      ]
     },
     "execution_count": 16,
     "metadata": {},
     "output_type": "execute_result"
    }
   ],
   "source": [
    "np.dot(x.T, np.dot(x, np.trace(A)))"
   ]
  },
  {
   "cell_type": "markdown",
   "metadata": {},
   "source": [
    "$x^TAx$"
   ]
  },
  {
   "cell_type": "code",
   "execution_count": 12,
   "metadata": {},
   "outputs": [
    {
     "data": {
      "text/plain": [
       "45"
      ]
     },
     "execution_count": 12,
     "metadata": {},
     "output_type": "execute_result"
    }
   ],
   "source": [
    "np.dot(np.dot(x.T, A), x)"
   ]
  },
  {
   "cell_type": "markdown",
   "metadata": {},
   "source": [
    "$Axx^T$"
   ]
  },
  {
   "cell_type": "code",
   "execution_count": 10,
   "metadata": {},
   "outputs": [
    {
     "data": {
      "text/plain": [
       "45"
      ]
     },
     "execution_count": 10,
     "metadata": {},
     "output_type": "execute_result"
    }
   ],
   "source": [
    "np.dot(np.dot(A,x), x.T)"
   ]
  },
  {
   "cell_type": "markdown",
   "metadata": {},
   "source": []
  },
  {
   "cell_type": "markdown",
   "metadata": {},
   "source": [
    "### 행렬식\n",
    "정방 행렬 $A$의 행렬식(determinant)은 $det(A)$라는 기호로 또는 $\\left| A \\right|$라는 기호로 표기"
   ]
  },
  {
   "cell_type": "markdown",
   "metadata": {},
   "source": [
    "행렬식은 다음처럼 코팩터 전개(cofactor expansion)라고 불리는 재귀적인 방법으로 정의 된다.\n",
    "\n",
    "$$\n",
    "def(A) = \\sum_{i=1}^N \\left\\{ (-1)^{i+j_0}M_{i,j_0} \\right\\} a_{i,j_0} = \\sum_{j=1}^N \\left\\{ (-1)^{i_0 + j} M_{i_0, j} \\right\\} a_{i_0, j}\n",
    "$$"
   ]
  },
  {
   "cell_type": "markdown",
   "metadata": {},
   "source": [
    "이 식에서 $a_{i,j}$는 $A$의 $i$행, $j$열 원소이다.<br>\n",
    "즉, 행렬에서 임의 행 $i_0$ 하나를 선택하거나 임의의 열 $j_0$ 하나를 선택한 다음 이 값에 가중치$(-1)^{i+j_0} M_{i,j_0}$ 또는 $(-1)^{i_0+j} M_{i_0,j}$를 곱하여 더한것."
   ]
  },
  {
   "cell_type": "markdown",
   "metadata": {},
   "source": [
    "$$\n",
    "A=\n",
    "\\begin{bmatrix}\n",
    "a_{i_1, j_1} & a_{i_1, j_2} & a_{i_1, j_3} \\\\\n",
    "a_{i_2, j_1} & a_{i_2, j_2} & a_{i_2, j_3} \\\\\n",
    "a_{i_3, j_1} & a_{i_3, j_2} & a_{i_3, j_3} \\\\\n",
    "\\end{bmatrix}\n",
    "$$"
   ]
  },
  {
   "cell_type": "markdown",
   "metadata": {},
   "source": [
    "가중치로 사용된 $M_{i,j}$는 마이너(minor, 소행렬식)라고 하며 정방 행렬 $A$에서 $i$행과 $j$열을 지워서 얻어진 (원래의 행렬보다 크기가 1만큼 작은) 행렬의 행렬식이다."
   ]
  },
  {
   "cell_type": "markdown",
   "metadata": {},
   "source": [
    "$$\n",
    "M_{1,1} =\n",
    "\\begin{bmatrix}\n",
    "a_{i_2, j_2} & a_{i_2, j_3} \\\\\n",
    "a_{i_3, j_2} & a_{i_3, j_3} \\\\\n",
    "\\end{bmatrix}\n",
    "$$"
   ]
  },
  {
   "cell_type": "markdown",
   "metadata": {},
   "source": [
    "마이너에 $(-1)^{i+j}$를 곱한 값을 코팩터(cofactor, 여인수) $C_{i,j}$라고 한다. 코팩터를 사용하여 위 식을 다시 표현 하면 아래와 같다.<br>\n",
    "즉 $(-1)^{i+j}$의 $i+j$ 값이 짝수 이면 **코팩터**는 양수<br>\n",
    "$(-1)^{i+j}$의 $i+j$ 값이 홀수 이면 **코팩터**는 음수라는 의미<br>\n",
    "<br>\n",
    "* 왜 마이너값에 를 $(-1)^{i+j}$ 연산하여 계산할까?<br>\n",
    "* 이미지 분석할 때 차원축소를 하는 방법과 어떻게 다른가?"
   ]
  },
  {
   "cell_type": "markdown",
   "metadata": {},
   "source": [
    "$$\n",
    "(-1)^{i+j_0} M_{i,j_0} =  C_{i,j_0}\n",
    "$$"
   ]
  },
  {
   "cell_type": "markdown",
   "metadata": {},
   "source": [
    "$$\n",
    "def(A) = \\sum_{i=1}^N C_{i,j_0} a_{i,j_0} = \\sum_{j=1}^N C_{i_0, j} a_{i_0,j}\n",
    "$$"
   ]
  },
  {
   "cell_type": "markdown",
   "metadata": {},
   "source": [
    "예)\n",
    "\n",
    "$$\n",
    "\\begin{bmatrix}\n",
    "1 & 2 & 3 \\\\\n",
    "4 & 5 & 6 \\\\\n",
    "7 & 8 & 9 \\\\\n",
    "\\end{bmatrix}\n",
    "$$"
   ]
  },
  {
   "cell_type": "markdown",
   "metadata": {},
   "source": [
    "임의 행 또는 열을 선택<br>\n",
    "<br>\n",
    "만약 <span style=\"color:red\">첫번째 열</span>을 선택했을시 이 행렬의 행렬식은 아래와 같다<br>\n"
   ]
  },
  {
   "cell_type": "markdown",
   "metadata": {},
   "source": [
    "$$\n",
    "det(A) = \\left\\{ (-1)^{1 + 1} M_{1, 1} \\right\\} a_{1, 1} + \\left\\{ (-1)^{2 + 1} M_{2, 1} \\right\\} a_{2, 1} + \\left\\{ (-1)^{3 + 1} M_{3, 1} \\right\\} a_{3, 1}\n",
    "$$"
   ]
  },
  {
   "cell_type": "markdown",
   "metadata": {},
   "source": [
    "$$\n",
    "= M_{1, 1} a_{1, 1} + -M_{2, 1} a_{2, 1} + M_{3, 1} a_{3, 1}\n",
    "$$"
   ]
  },
  {
   "cell_type": "markdown",
   "metadata": {},
   "source": [
    "$$\n",
    "= M_{1,1} \\times 1 + M_{2, 1} \\times 4 + M_{3, 1} \\times 7\n",
    "$$"
   ]
  },
  {
   "cell_type": "markdown",
   "metadata": {},
   "source": [
    "$M_{1,1}$은 기존의 행렬에서 1번째 행과 열을 지워서 만들어진 행렬의 식.\n",
    "$$\n",
    "M_{1, 1} = \n",
    "\\left( \\begin{bmatrix} \n",
    "5 & 6 \\\\\n",
    "8 & 9 \\\\\n",
    "\\end{bmatrix}\\right)\n",
    "$$\n",
    "\n"
   ]
  },
  {
   "cell_type": "markdown",
   "metadata": {},
   "source": [
    "$M_{2, 1}$은 기존의 행렬에서 2번째 행과 1번재 열을 지워서 만든 행렬의 식.\n",
    "\n",
    "$$\n",
    "M_{2, 1} = \\left( \\begin{bmatrix} 2 & 3 \\\\\n",
    "8 & 9 \\\\\n",
    "\\end{bmatrix}\n",
    "\\right)\n",
    "$$"
   ]
  },
  {
   "cell_type": "markdown",
   "metadata": {},
   "source": [
    "$M_{3,1}$은 기존의 행렬에서 3번째 행과 1번째 열을 지워서 만든 행렬의 식.\n",
    "\n",
    "$$\n",
    "M_{3, 1} = \\left( \n",
    "\\begin{bmatrix}\n",
    "2 & 3 \\\\\n",
    "5 & 6 \\\\\n",
    "\\end{bmatrix}\n",
    "\\right)\n",
    "$$"
   ]
  },
  {
   "cell_type": "markdown",
   "metadata": {},
   "source": [
    "$M_{1, 1}, M_{2, 1}, M_{3, 1}$은 코팩터 공식을 이용하여 계산이 가능.<br> \n",
    "이렇게 재귀적으로 계산 하다 보면 행렬식은 결국 스칼라 값에 도달하게 된다.<br>\n",
    "스칼라의 행렬식은 자기 자신으로 정의."
   ]
  },
  {
   "cell_type": "markdown",
   "metadata": {},
   "source": [
    "$$\n",
    "def \\left( \\begin{bmatrix} a \\end{bmatrix} \\right) = a\n",
    "$$"
   ]
  },
  {
   "cell_type": "markdown",
   "metadata": {},
   "source": [
    "위의 정의를 사용하면 크기가 2, 3인 정방 행렬의 행렬식은 다음과 같아진다.\n",
    "\n",
    "* 2 $\\times$ 2 행렬의 행렬식\n"
   ]
  },
  {
   "cell_type": "markdown",
   "metadata": {},
   "source": [
    "$$ def \\left( \\begin{bmatrix} a & b \\\\ c & d \\\\ \\end{bmatrix} \\right) = \\left\\{ (-1)^{1 + 1} M_{1 , 1} \\right\\} a + \\left\\{ (-1)^{2 + 1} M_{2, 1} \\right\\} c$$"
   ]
  },
  {
   "cell_type": "markdown",
   "metadata": {},
   "source": [
    "$$\n",
    "= \\left\\{\n",
    "M_{1,1} \\times a + (-M_{2, 1}) \\times c\n",
    "\\right\\}\n",
    "$$\n",
    "$$\n",
    "= d \\times a - b \\times c\n",
    "$$"
   ]
  },
  {
   "cell_type": "markdown",
   "metadata": {},
   "source": [
    "$$\n",
    "def \\left( \\begin{bmatrix} a & b \\\\ c & d \\end{bmatrix} \\right) = ad - bc\n",
    "$$"
   ]
  },
  {
   "cell_type": "markdown",
   "metadata": {},
   "source": [
    "* 3 $\\times$ 3 행렬의 행렬식"
   ]
  },
  {
   "cell_type": "markdown",
   "metadata": {},
   "source": [
    "$$\n",
    "def \\left( \n",
    "\\begin{bmatrix}\n",
    "a & b & c \\\\\n",
    "d & e & f \\\\\n",
    "g & h & i \\\\\n",
    "\\end{bmatrix}\n",
    "\\right)\n",
    "=\n",
    "\\left\\{(-1)^{1 + 1} M_{1, 1} \\right\\} a + \\left\\{ (-1)^{2 + 1} M_{2, 1}\\right\\} d + \\left\\{ (-1)^{3 + 1} M_{3, 1} \\right\\} g\n",
    "$$"
   ]
  },
  {
   "cell_type": "markdown",
   "metadata": {},
   "source": [
    "$$\n",
    "= M_{1, 1} \\times a + (-M_{2, 1}) \\times d + M_{3, 1} \\times g \n",
    "$$"
   ]
  },
  {
   "cell_type": "markdown",
   "metadata": {},
   "source": [
    "$$\n",
    "= \\left\\{ (-1)^{1 + 1} M_{1,1} \\right\\} e \\times a + \\left\\{ (-1)^{2 + 1} M_{2, 1} \\right\\} h \\times a -\\left( \\left\\{ (-1)^{1 + 1} M_{1, 1} \\right\\} b \\times d  + \\left\\{ (-1)^{2 + 1} M_{2, 1} \\right\\} h \\times d \\right) +  \\left\\{ (-1)^{1 + 1} M_{1, 1} \\right\\} b \\times g + \\left\\{ (-1)^{2 + 1} M_{2, 1} \\right\\} e \\times g \n",
    "$$"
   ]
  },
  {
   "cell_type": "markdown",
   "metadata": {},
   "source": [
    "$$\n",
    "= iea - fha - (ibd - chd) + fbg - ceg\n",
    "$$"
   ]
  },
  {
   "cell_type": "markdown",
   "metadata": {},
   "source": [
    "$$\n",
    "def \\left( \n",
    "\\begin{bmatrix}\n",
    "a & b & c \\\\\n",
    "d & e & f \\\\\n",
    "g & h & i \\\\\n",
    "\\end{bmatrix}\n",
    "\\right)\n",
    "= aei + bfg + cdh - ceg - bdi - afh\n",
    "$$"
   ]
  },
  {
   "cell_type": "markdown",
   "metadata": {},
   "source": [
    "행렬식의 값도 대각합과 마찬가지로 0이나 음수가 될 수 있다.<br>\n",
    "Numpy에서는 linalg 서브패키지의 <span style=\"color:red\">det</span>명령으로 행렬식을 계산할 수 있다."
   ]
  },
  {
   "cell_type": "code",
   "execution_count": 4,
   "metadata": {},
   "outputs": [
    {
     "data": {
      "text/plain": [
       "array([[1, 2],\n",
       "       [3, 4]])"
      ]
     },
     "execution_count": 4,
     "metadata": {},
     "output_type": "execute_result"
    }
   ],
   "source": [
    "import numpy as np\n",
    "A = np.array([[1, 2], [3, 4]])\n",
    "A"
   ]
  },
  {
   "cell_type": "code",
   "execution_count": 5,
   "metadata": {},
   "outputs": [
    {
     "data": {
      "text/plain": [
       "-2.0000000000000004"
      ]
     },
     "execution_count": 5,
     "metadata": {},
     "output_type": "execute_result"
    }
   ],
   "source": [
    "np.linalg.det(A)"
   ]
  },
  {
   "cell_type": "code",
   "execution_count": 6,
   "metadata": {},
   "outputs": [
    {
     "data": {
      "text/plain": [
       "array([[1, 2, 3],\n",
       "       [4, 5, 6],\n",
       "       [7, 8, 9]])"
      ]
     },
     "execution_count": 6,
     "metadata": {},
     "output_type": "execute_result"
    }
   ],
   "source": [
    "B = np.array([[1, 2, 3], [4, 5, 6], [7, 8, 9]])\n",
    "B"
   ]
  },
  {
   "cell_type": "code",
   "execution_count": 7,
   "metadata": {},
   "outputs": [
    {
     "data": {
      "text/plain": [
       "-9.5161973539299405e-16"
      ]
     },
     "execution_count": 7,
     "metadata": {},
     "output_type": "execute_result"
    }
   ],
   "source": [
    "np.linalg.det(B)"
   ]
  },
  {
   "cell_type": "markdown",
   "metadata": {},
   "source": []
  },
  {
   "cell_type": "markdown",
   "metadata": {},
   "source": [
    "행렬식은 다음과 같은 성질을 만족한다.\n",
    "* 전치 행렬의 행렬식은 원래의 행렬의 행렬식과 같다.\n",
    "\n",
    "$$\n",
    "def(A^T) = def(A)\n",
    "$$\n",
    "\n",
    "* 단위 행렬의 행렬식은 1이다.\n",
    "\n",
    "$$\n",
    "def(I) = 1\n",
    "$$\n",
    "\n",
    "* 두 행렬의 곱의 행렬식은 각 행렬의 행렬식의 곱과 같다.\n",
    "\n",
    "$$\n",
    "def(AB) = def(A) def(B)\n",
    "$$\n",
    "\n",
    "* 역행렬의 행렬식은 원래 행렬의 행렬식의 역수와 같다.\n",
    "\n",
    "$$\n",
    "def(A^{-1}) = \\frac {1}{def(A)}\n",
    "$$"
   ]
  },
  {
   "cell_type": "markdown",
   "metadata": {},
   "source": []
  },
  {
   "cell_type": "markdown",
   "metadata": {},
   "source": [
    "### 부호와 크기의 관계\n",
    "\n",
    "행렬의 양-정부호 성질과 대각합/행렬식은 다음과 같은 관계가 있다. 역은 일반적으로 성립하지 않는다.\n",
    "* 행렬의 양-정부호(positive-definite)이면 대각합이 양수이다.\n",
    "* 행렬의 양-정부호(positive-definite)이면 행렬식이 양수이다.\n",
    "* 행렬의 양-준정부호(positive-semidefinite)이면 행렬식은 0이다."
   ]
  },
  {
   "cell_type": "markdown",
   "metadata": {},
   "source": []
  },
  {
   "cell_type": "markdown",
   "metadata": {},
   "source": [
    "### 연습 문제 5\n",
    "다음 행렬의 대각합과 행렬식을 구하고 위의 관계가 성립하는지 확인한다."
   ]
  },
  {
   "cell_type": "markdown",
   "metadata": {},
   "source": [
    "$$\n",
    "A = \n",
    "\\begin{bmatrix}\n",
    "2 & -1 & 0 \\\\\n",
    "-1 & 2 & -1 \\\\\n",
    "0 & -1 & 2 \\\\\n",
    "\\end{bmatrix}\n",
    "$$"
   ]
  },
  {
   "cell_type": "code",
   "execution_count": 14,
   "metadata": {},
   "outputs": [
    {
     "data": {
      "text/plain": [
       "array([[ 2, -1,  0],\n",
       "       [-1,  2, -1],\n",
       "       [ 0, -1,  2]])"
      ]
     },
     "execution_count": 14,
     "metadata": {},
     "output_type": "execute_result"
    }
   ],
   "source": [
    "import numpy as np\n",
    "\n",
    "A = np.array([[2, -1 , 0], [-1, 2, -1], [0, -1, 2]])\n",
    "A"
   ]
  },
  {
   "cell_type": "code",
   "execution_count": 19,
   "metadata": {},
   "outputs": [],
   "source": [
    "x = np.array([1, 2, 3])\n",
    "x_ = np.array([-1, -2, -3])"
   ]
  },
  {
   "cell_type": "code",
   "execution_count": 20,
   "metadata": {},
   "outputs": [
    {
     "data": {
      "text/plain": [
       "12"
      ]
     },
     "execution_count": 20,
     "metadata": {},
     "output_type": "execute_result"
    }
   ],
   "source": [
    "np.dot(np.dot(x.T, A), x)"
   ]
  },
  {
   "cell_type": "code",
   "execution_count": 22,
   "metadata": {},
   "outputs": [
    {
     "data": {
      "text/plain": [
       "12"
      ]
     },
     "execution_count": 22,
     "metadata": {},
     "output_type": "execute_result"
    }
   ],
   "source": [
    "# 양-정부호\n",
    "np.dot(np.dot(x_.T, A), x_)"
   ]
  },
  {
   "cell_type": "markdown",
   "metadata": {},
   "source": [
    "$$\n",
    "B = \n",
    "\\begin{bmatrix}\n",
    "1 & 1 \\\\\n",
    "1 & 1 \\\\\n",
    "\\end{bmatrix}\n",
    "$$"
   ]
  },
  {
   "cell_type": "code",
   "execution_count": 24,
   "metadata": {},
   "outputs": [
    {
     "data": {
      "text/plain": [
       "array([[1, 1],\n",
       "       [1, 1]])"
      ]
     },
     "execution_count": 24,
     "metadata": {},
     "output_type": "execute_result"
    }
   ],
   "source": [
    "B = np.array([[1, 1], [1, 1]])\n",
    "B"
   ]
  },
  {
   "cell_type": "code",
   "execution_count": 26,
   "metadata": {},
   "outputs": [],
   "source": [
    "b = np.array([2, 1])\n",
    "b_ = np.array([-2, 1])"
   ]
  },
  {
   "cell_type": "code",
   "execution_count": 28,
   "metadata": {},
   "outputs": [
    {
     "data": {
      "text/plain": [
       "9"
      ]
     },
     "execution_count": 28,
     "metadata": {},
     "output_type": "execute_result"
    }
   ],
   "source": [
    "np.dot(np.dot(b.T, B), b)"
   ]
  },
  {
   "cell_type": "code",
   "execution_count": 29,
   "metadata": {},
   "outputs": [
    {
     "data": {
      "text/plain": [
       "1"
      ]
     },
     "execution_count": 29,
     "metadata": {},
     "output_type": "execute_result"
    }
   ],
   "source": [
    "# 양-정부호\n",
    "np.dot(np.dot(b_.T, B), b_)"
   ]
  },
  {
   "cell_type": "markdown",
   "metadata": {},
   "source": [
    "$$\n",
    "C = \n",
    "\\begin{bmatrix}\n",
    "1 & 2 \\\\\n",
    "3 & 4 \\\\\n",
    "\\end{bmatrix}\n",
    "$$"
   ]
  }
 ],
 "metadata": {
  "kernelspec": {
   "display_name": "Python 3",
   "language": "python",
   "name": "python3"
  },
  "language_info": {
   "codemirror_mode": {
    "name": "ipython",
    "version": 3
   },
   "file_extension": ".py",
   "mimetype": "text/x-python",
   "name": "python",
   "nbconvert_exporter": "python",
   "pygments_lexer": "ipython3",
   "version": "3.5.3"
  }
 },
 "nbformat": 4,
 "nbformat_minor": 2
}
