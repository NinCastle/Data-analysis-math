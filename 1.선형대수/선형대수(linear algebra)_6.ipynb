{
 "cells": [
  {
   "cell_type": "markdown",
   "metadata": {},
   "source": [
    "# 행렬의 성질"
   ]
  },
  {
   "cell_type": "markdown",
   "metadata": {},
   "source": [
    "## 행렬의 부호\n",
    "\n",
    "행렬은 여러개의 숫자로 이루어져 있기 떄문에 행렬 전체의 부호는 정의하기 힘들다. <br>\n",
    "그러나 행렬에서도 **실수** 부호와 비슷한 특성이 있다.<br>\n",
    "\n",
    "- 행렬의 <span style=\"color:red\"> 양-정부호</span> (positive definite)특성이다."
   ]
  },
  {
   "cell_type": "markdown",
   "metadata": {},
   "source": [
    "영 벡터가 아닌 모든 벡터 $x$에 대해 다음 부등식이 성립하면 행렬 $A$가 **양-정부호(positive definite)** 이라고 한다.\n",
    "$$\n",
    "x^T Ax > 0\n",
    "$$"
   ]
  },
  {
   "cell_type": "markdown",
   "metadata": {},
   "source": [
    "만약 위 등식을 포함하면 **양-준정부호(positive semi-definite)**라고 한다.\n",
    "\n",
    "$$\n",
    "x^T Ax \\ge 0\n",
    "$$"
   ]
  },
  {
   "cell_type": "markdown",
   "metadata": {},
   "source": [
    "예를 들어 단위 행렬($I$)은 양-정부호이다.<br> \n",
    "벡터 $x$는 영 벡터가 아니라는 점에 주의한다.\n",
    "\n",
    "$$\n",
    "x^T Ix =\n",
    "\\begin{bmatrix}\n",
    "x_1 & x_2 & \\ldots & x_N\n",
    "\\end{bmatrix}\n",
    "\\begin{bmatrix}\n",
    "1 & 0 & \\ldots & 0 \\\\\n",
    "0 & 1 & \\ldots & 0 \\\\\n",
    "\\vdots & \\vdots & \\ddots & \\vdots \\\\\n",
    "0 & 0 & \\ldots & 1 \\\\\n",
    "\\end{bmatrix}\n",
    "\\begin{bmatrix}\n",
    "x_1 \\\\\n",
    "x_2 \\\\\n",
    "\\vdots \\\\\n",
    "x_N\n",
    "\\end{bmatrix}\n",
    "= x_1^2 + x_2^2 + x_3^2 + \\ldots + x_N^2 > 0\n",
    "$$"
   ]
  },
  {
   "cell_type": "markdown",
   "metadata": {},
   "source": [
    "아래 행렬도 양-정부호이다.\n",
    "$$\n",
    "A =\n",
    "\\begin{bmatrix}\n",
    "2 & -1 & 0 \\\\\n",
    "-1 & 2 & -1 \\\\\n",
    "0 & -1 & 2 \\\\\n",
    "\\end{bmatrix}\n",
    "$$"
   ]
  },
  {
   "cell_type": "markdown",
   "metadata": {},
   "source": [
    "이는 다음처럼 **증명**할 수 있다.<br>\n",
    "모든 벡터 $x^T = \\begin{bmatrix}x_1 & x_2 & x_3 \\end{bmatrix}$에 대해"
   ]
  },
  {
   "cell_type": "markdown",
   "metadata": {},
   "source": [
    "$$\n",
    "x^T A x =\n",
    "\\begin{bmatrix}\n",
    "x_1 & x_2 & x_3\n",
    "\\end{bmatrix}\n",
    "\\begin{bmatrix}\n",
    "2 & -1 & 0 \\\\\n",
    "-1 & 2 & -1 \\\\\n",
    "0 & -1 & 2 \\\\\n",
    "\\end{bmatrix}\n",
    "\\begin{bmatrix}\n",
    "x_1 \\\\\n",
    "x_2 \\\\\n",
    "x_3 \\\\\n",
    "\\end{bmatrix}\n",
    "$$"
   ]
  },
  {
   "cell_type": "markdown",
   "metadata": {},
   "source": [
    "행렬 잘못된 곱셈\n",
    "$$\n",
    "=\n",
    "\\begin{bmatrix}2x_1 + -x_1 + 0 & -x_2 + 2x_2 + -x_2 & 0 + -x_3 + 2x_3\\end{bmatrix}\n",
    "\\begin{bmatrix}\n",
    "x_1 \\\\\n",
    "x_2 \\\\\n",
    "x_3 \\\\\n",
    "\\end{bmatrix}\n",
    "$$"
   ]
  },
  {
   "cell_type": "markdown",
   "metadata": {},
   "source": [
    "올바른 곱셈(내적)\n",
    "$$\n",
    "=\n",
    "\\begin{bmatrix}\n",
    "2x_1 + (-x_2) + 0 & (-x_1) + 2x_2 +(-x_3) & 0 + (-x_2) + 2x_3\n",
    "\\end{bmatrix}\n",
    "\\begin{bmatrix}\n",
    "x_1 \\\\\n",
    "x_2 \\\\\n",
    "x_3 \\\\\n",
    "\\end{bmatrix}\n",
    "$$"
   ]
  },
  {
   "cell_type": "markdown",
   "metadata": {},
   "source": [
    "$$\n",
    "=\n",
    "\\begin{bmatrix}\n",
    "2x_1^2+(-x_1x_2) + 0 + (-x_1x_2) + 2x_2^2 + (-x_2x_3) + 0 + (-x_2x_3)+2x_3^2\n",
    "\\end{bmatrix}\n",
    "$$"
   ]
  },
  {
   "cell_type": "markdown",
   "metadata": {},
   "source": [
    "$$\n",
    "=\n",
    "\\begin{bmatrix}\n",
    "2x_1^2+2(-x_1x_2)+2x_2^2+2(-x_2x_3)+2x_3^2\n",
    "\\end{bmatrix}\n",
    "$$"
   ]
  },
  {
   "cell_type": "markdown",
   "metadata": {},
   "source": [
    "[인수분해(factorization)](https://ko.wikipedia.org/wiki/%EC%9D%B8%EC%88%98%EB%B6%84%ED%95%B4)를 통해 식을 변환<br>\n",
    "ex)\n",
    "\n",
    "$$\n",
    "a^{2}\\pm 2ab+b^{2}=(a\\pm b)^{2}\n",
    "$$"
   ]
  },
  {
   "cell_type": "markdown",
   "metadata": {},
   "source": [
    "$$\n",
    "=\n",
    "\\begin{bmatrix}\n",
    "x_1^2 + (-x_1 + x_2)^2 + (-x_2 + x_3)^2 + x_3^2\n",
    "\\end{bmatrix}\n",
    "$$"
   ]
  },
  {
   "cell_type": "markdown",
   "metadata": {},
   "source": [
    "위의 값은 제곱의 합으로 이루어 졌으므로 $x_1 = x_2 = x_3 = 0$인 경우를 제외하고 항상 0 보다 크다."
   ]
  },
  {
   "cell_type": "markdown",
   "metadata": {},
   "source": [
    "$$\n",
    "x_1^2 + (-x_1 + x_2)^2 + (-x_2 + x_3)^2 + x_3^2 > 0\n",
    "$$"
   ]
  },
  {
   "cell_type": "markdown",
   "metadata": {},
   "source": []
  },
  {
   "cell_type": "markdown",
   "metadata": {},
   "source": [
    "연습 문제 1\n",
    "다음 행렬을 양-정부호, 양-준정부호 혹은 아무것도 해당되지 않는지 판단하라.\n",
    "$$\n",
    "\\begin{bmatrix}\n",
    "1 & 1 \\\\\n",
    "1 & 1 \\\\\n",
    "\\end{bmatrix}\n",
    "$$"
   ]
  },
  {
   "cell_type": "code",
   "execution_count": 9,
   "metadata": {},
   "outputs": [],
   "source": [
    "import numpy as np\n",
    "\n",
    "A = np.array([[1, 1], [1, 1]])\n",
    "x = np.array([1, 2])"
   ]
  },
  {
   "cell_type": "code",
   "execution_count": 10,
   "metadata": {},
   "outputs": [
    {
     "data": {
      "text/plain": [
       "9"
      ]
     },
     "execution_count": 10,
     "metadata": {},
     "output_type": "execute_result"
    }
   ],
   "source": [
    "# x^T A x\n",
    "np.dot(np.dot(x.T, A), x) # 9 > 0"
   ]
  },
  {
   "cell_type": "markdown",
   "metadata": {},
   "source": [
    "결과 값은 9 이므로 양-정부호이다."
   ]
  },
  {
   "cell_type": "markdown",
   "metadata": {},
   "source": []
  },
  {
   "cell_type": "markdown",
   "metadata": {},
   "source": [
    "## 행렬의 크기\n",
    "\n",
    "행렬의 크기를 정의하는 것도 어렵다.<br>\n",
    "하나의 행렬에 대해 하나의 실수를 대응하는 개념<br>\n",
    "<br>\n",
    "**놈(norm), 대각합(trace), 행렬식(determinant)**이란 연산은<br>\n",
    "<br>\n",
    "행렬의 크기와 비슷한 의미가 있다."
   ]
  },
  {
   "cell_type": "markdown",
   "metadata": {},
   "source": [
    "### 행렬 놈\n",
    "\n",
    "행렬의 **놈(norm)**은 행렬 $A$에 대해 아래와 같이 정의 되는 숫자.<br>\n",
    "보통 $\\left\\| A \\right\\|_L$로 표기한다.<br>\n",
    "$L$은 1,2 또는 무한대($\\infty$)이다.<br>\n",
    "아래 식에서 $a_{ij}$는 행렬 $A$의 $i$번째 행, $j$번째 열의 원소이다."
   ]
  },
  {
   "cell_type": "markdown",
   "metadata": {},
   "source": [
    "$$\n",
    "\\left\\| A \\right\\|_L = \\left( \\sum_{i=1}^M \\sum_{j=1}^N \\left|a_{ij}^L\\right| \\right)^{1/L} \n",
    "$$"
   ]
  },
  {
   "cell_type": "markdown",
   "metadata": {},
   "source": [
    "$L=1$이면 L1놈, $L=2$이면 L2놈 이라고 부른다.<br>\n",
    "이 중 $L=2$인 경우가 많이 쓰이므로 L값 표시가 없는 경우 $L=2$인 놈이라고 생각면 된다.<br>\n",
    "L2놈은 [프로베니우스 놈(Frobenius norm)](https://ko.wikipedia.org/wiki/%ED%94%84%EB%A1%9C%EB%B2%A0%EB%8B%88%EC%9A%B0%EC%8A%A4_%EB%B0%A9%EB%B2%95) 이라고 불리며 $\\left\\|A\\right\\|_F$이라고 표기하기도 한다."
   ]
  },
  {
   "cell_type": "markdown",
   "metadata": {},
   "source": [
    "$$\n",
    "\\left\\|A\\right\\| = \\left\\| A \\right\\|_F = \\sqrt{\\sum_{i=1}^M \\sum_{j=1}^N a_{ij}^2}\n",
    "$$"
   ]
  },
  {
   "cell_type": "markdown",
   "metadata": {},
   "source": [
    "놈은 모든 크기의 행렬에 대해서 정의 할 수 있으므로 벡터에 대해서도 정의 가능.<br>\n",
    "벡터의 놈의 제곱은 그 벡터의 제곱합과 같다.\n",
    "\n",
    "$$\n",
    "\\left\\|x\\right\\|^2 = \\sum_{i=1}^N x_i^2 = x^T x\n",
    "$$"
   ]
  },
  {
   "cell_type": "markdown",
   "metadata": {},
   "source": [
    "따라서 벡터의 제곱합을 최소화(가장 작게 만드는 것)하는 것은 놈을 최소화 하는 것과 같다.<br>\n",
    "<br>\n",
    "행렬과 벡터의 놈은 항상 0과 같거나 0보다 큰 값을 가진다.<br>\n",
    "Numpy에서는 linalg서브패키지의 <span style=\"color:red\">norm</span>으로 놈을 계산."
   ]
  },
  {
   "cell_type": "code",
   "execution_count": 4,
   "metadata": {},
   "outputs": [
    {
     "data": {
      "text/plain": [
       "array([[-4, -3, -2],\n",
       "       [-1,  0,  1],\n",
       "       [ 2,  3,  4]])"
      ]
     },
     "execution_count": 4,
     "metadata": {},
     "output_type": "execute_result"
    }
   ],
   "source": [
    "import numpy as np\n",
    "# np.arange(x) 는 0부터 x-1까지의 값을 말한다. , -4부터 시작\n",
    "A = (np.arange(9) - 4 ).reshape((3,3))\n",
    "B = (np.arange(9).reshape((3,3)))\n",
    "A"
   ]
  },
  {
   "cell_type": "code",
   "execution_count": 5,
   "metadata": {
    "scrolled": true
   },
   "outputs": [
    {
     "data": {
      "text/plain": [
       "7.745966692414834"
      ]
     },
     "execution_count": 5,
     "metadata": {},
     "output_type": "execute_result"
    }
   ],
   "source": [
    "np.linalg.norm(A)"
   ]
  },
  {
   "cell_type": "markdown",
   "metadata": {},
   "source": [
    "Numpy에서 행렬 놈2 증명해보기"
   ]
  },
  {
   "cell_type": "code",
   "execution_count": 10,
   "metadata": {},
   "outputs": [
    {
     "name": "stdout",
     "output_type": "stream",
     "text": [
      "7.745966692414834\n"
     ]
    }
   ],
   "source": [
    "import math\n",
    "\n",
    "# 원소값\n",
    "a = [-4, -3, -2, -1, 1, 2, 3, 4]\n",
    "a_pow_box = 0\n",
    "\n",
    "# 제곱\n",
    "for i in a:\n",
    "    a_pow = math.pow(i, 2)\n",
    "    a_pow_box = a_pow_box + a_pow\n",
    "    \n",
    "# 루트\n",
    "a_pow_sqrt = math.sqrt(a_pow_box)\n",
    "print(a_pow_sqrt)"
   ]
  },
  {
   "cell_type": "markdown",
   "metadata": {},
   "source": []
  },
  {
   "cell_type": "code",
   "execution_count": 7,
   "metadata": {},
   "outputs": [
    {
     "data": {
      "text/plain": [
       "array([[0, 1, 2],\n",
       "       [3, 4, 5],\n",
       "       [6, 7, 8]])"
      ]
     },
     "execution_count": 7,
     "metadata": {},
     "output_type": "execute_result"
    }
   ],
   "source": [
    "B"
   ]
  },
  {
   "cell_type": "code",
   "execution_count": 8,
   "metadata": {
    "scrolled": true
   },
   "outputs": [
    {
     "data": {
      "text/plain": [
       "14.282856857085701"
      ]
     },
     "execution_count": 8,
     "metadata": {},
     "output_type": "execute_result"
    }
   ],
   "source": [
    "np.linalg.norm(B)"
   ]
  },
  {
   "cell_type": "markdown",
   "metadata": {},
   "source": []
  },
  {
   "cell_type": "markdown",
   "metadata": {},
   "source": [
    "연습 문제 2<br>\n",
    "행렬 $A(A \\in R^{N \\times M})$의 놈의 제곱 $\\left\\| A \\right\\|^2$이 그 행렬을 이루는 행 벡터$r_i$의 놈의 제곱의 합 또는 열 벡터 $c_i$의 놈의 제곱의 합과 같음을 증명하라.\n",
    "\n",
    "$$\n",
    "\\left\\| A \\right\\|^2 = \\sum_{i=1}^N \\left\\| r_i \\right\\|^2 = \\sum_{j=1}^M \\left\\| c_j \\right\\|^2\n",
    "$$"
   ]
  },
  {
   "cell_type": "markdown",
   "metadata": {},
   "source": []
  },
  {
   "cell_type": "markdown",
   "metadata": {},
   "source": []
  },
  {
   "cell_type": "markdown",
   "metadata": {},
   "source": [
    "### 대각합\n",
    "**대각합(trace)**은 정방 행렬에 대해서만 정의.<br>\n",
    "대각합은 대각 원소들의 합으로 계산된다.\n",
    "\n",
    "$$\n",
    "tr(A) = a_{11} + a_{22} + \\ldots + a_{NN} = \\sum_{i=1}^N a_{ii}\n",
    "$$"
   ]
  },
  {
   "cell_type": "markdown",
   "metadata": {},
   "source": [
    "대각합은 절대값이나 제곱을 하지 않기 때문에 놈과는 달리 0이나 음수가 가능.<br>\n",
    "아래는 대각합의 성질<br>\n",
    "아래 식 c는 scala이고, A,B,C는 matrix\n",
    "\n",
    "$$\n",
    "tr(cA) = c \\times tr(A)\n",
    "$$$$\n",
    "tr(A^T) = tr(A)\n",
    "$$$$\n",
    "tr(A+B) = tr(A) + tr(B)\n",
    "$$$$\n",
    "tr(AB) = tr(BA)\n",
    "$$$$\n",
    "tr(ABC) = tr(BCA) = tr(CAB)\n",
    "$$"
   ]
  },
  {
   "cell_type": "markdown",
   "metadata": {},
   "source": [
    "특히 마지막 두식은 **트레이스 트릭(trace trick)** 이라고 하며 [이차 형식(quadratic form)](https://m.blog.naver.com/PostView.nhn?blogId=hextrial&logNo=220040851284&proxyReferer=https%3A%2F%2Fwww.google.co.kr%2F)의 [미분](https://namu.wiki/w/%EB%AF%B8%EB%B6%84)을 구하는데 유용하게 사용된다."
   ]
  },
  {
   "cell_type": "markdown",
   "metadata": {},
   "source": [
    "A, B ,C가 모두 정방행렬일 필요는 없고 대각합을 구하는 행렬이 정방행렬이면 된다.<br>\n",
    "이차 형식의 트레이트 트릭<br>\n",
    "ex)\n",
    "\n",
    "$$\n",
    "x^TAx = tr(x^TAx) = tr(Axx^T) = tr(xx^T A)\n",
    "$$"
   ]
  },
  {
   "cell_type": "markdown",
   "metadata": {},
   "source": [
    "이차 형식은 <span style=\"color:red\">스칼라값</span>이 기 때문에 대각합을 취해도 원래의 값과 같다.<br>\n",
    "Numpy에서 linalg 서브패키지의 <span style=\"color:red\">trace</span> 명령으로 trace를 계산."
   ]
  },
  {
   "cell_type": "code",
   "execution_count": 12,
   "metadata": {},
   "outputs": [
    {
     "data": {
      "text/plain": [
       "array([[ 1.,  0.,  0.],\n",
       "       [ 0.,  1.,  0.],\n",
       "       [ 0.,  0.,  1.]])"
      ]
     },
     "execution_count": 12,
     "metadata": {},
     "output_type": "execute_result"
    }
   ],
   "source": [
    "np.eye(3)"
   ]
  },
  {
   "cell_type": "code",
   "execution_count": 13,
   "metadata": {},
   "outputs": [
    {
     "data": {
      "text/plain": [
       "3.0"
      ]
     },
     "execution_count": 13,
     "metadata": {},
     "output_type": "execute_result"
    }
   ],
   "source": [
    "np.trace(np.eye(3))"
   ]
  },
  {
   "cell_type": "markdown",
   "metadata": {},
   "source": [
    "연습 문제3<br>\n",
    "x,A가 각각 크기가 2인 벡터, 크기가 2$\\times$2 인 정방 행렬일 때 이차 형식의 트레이스 트릭이 성립합을 보인다."
   ]
  },
  {
   "cell_type": "code",
   "execution_count": 1,
   "metadata": {
    "scrolled": true
   },
   "outputs": [
    {
     "data": {
      "text/plain": [
       "array([[3, 4],\n",
       "       [5, 6]])"
      ]
     },
     "execution_count": 1,
     "metadata": {},
     "output_type": "execute_result"
    }
   ],
   "source": [
    "import numpy as np\n",
    "\n",
    "x = np.array([1, 2])\n",
    "A = np.array([[3, 4], [5, 6]])\n",
    "A"
   ]
  },
  {
   "cell_type": "markdown",
   "metadata": {},
   "source": [
    "$x^Tx$   $tr(A)$"
   ]
  },
  {
   "cell_type": "code",
   "execution_count": 16,
   "metadata": {},
   "outputs": [
    {
     "data": {
      "text/plain": [
       "45"
      ]
     },
     "execution_count": 16,
     "metadata": {},
     "output_type": "execute_result"
    }
   ],
   "source": [
    "np.dot(x.T, np.dot(x, np.trace(A)))"
   ]
  },
  {
   "cell_type": "markdown",
   "metadata": {},
   "source": [
    "$x^TAx$"
   ]
  },
  {
   "cell_type": "code",
   "execution_count": 12,
   "metadata": {},
   "outputs": [
    {
     "data": {
      "text/plain": [
       "45"
      ]
     },
     "execution_count": 12,
     "metadata": {},
     "output_type": "execute_result"
    }
   ],
   "source": [
    "np.dot(np.dot(x.T, A), x)"
   ]
  },
  {
   "cell_type": "markdown",
   "metadata": {},
   "source": [
    "$Axx^T$"
   ]
  },
  {
   "cell_type": "code",
   "execution_count": 10,
   "metadata": {},
   "outputs": [
    {
     "data": {
      "text/plain": [
       "45"
      ]
     },
     "execution_count": 10,
     "metadata": {},
     "output_type": "execute_result"
    }
   ],
   "source": [
    "np.dot(np.dot(A,x), x.T)"
   ]
  },
  {
   "cell_type": "markdown",
   "metadata": {},
   "source": []
  },
  {
   "cell_type": "markdown",
   "metadata": {},
   "source": [
    "### 행렬식\n",
    "정방 행렬 $A$의 행렬식(determinant)은 det(A) 라는 기호로 또는 $\\left| A \\right|$라는 기호로 표기"
   ]
  },
  {
   "cell_type": "markdown",
   "metadata": {},
   "source": [
    "행렬식은 다음처럼 코팩터 전개(cofactor expansion)라고 불리는 재귀적인 방법으로 정의 된다.\n",
    "\n",
    "$$\n",
    "def(A) = \\sum_{i=1}^N \\left\\{ (-1)^{i+j_0}M_{i,j_0} \\right\\} a_{i,j_0} = \\sum_{j=1}^N \\left\\{ (-1)^{i_0 + j} M_{i_0, j} \\right\\} a_{i_0, j}\n",
    "$$"
   ]
  },
  {
   "cell_type": "markdown",
   "metadata": {},
   "source": [
    "이 식에서 $a_{i,j}$는 A의 $i$행, $j$열 원소이다.<br>\n",
    "즉, 행렬에서 임의 행 $i_0$ 하나를 선택하거나 임의의 열 $j_0$ 하나를 선택한 다음 이 값에 가중치$(-1)^{i+j_0} M_{i,j_0}$ 또는 $(-1)^{i_0+j} M_{i_0,j}$를 곱하여 더한것."
   ]
  }
 ],
 "metadata": {
  "kernelspec": {
   "display_name": "Python 3",
   "language": "python",
   "name": "python3"
  },
  "language_info": {
   "codemirror_mode": {
    "name": "ipython",
    "version": 3
   },
   "file_extension": ".py",
   "mimetype": "text/x-python",
   "name": "python",
   "nbconvert_exporter": "python",
   "pygments_lexer": "ipython3",
   "version": "3.5.3"
  }
 },
 "nbformat": 4,
 "nbformat_minor": 2
}
