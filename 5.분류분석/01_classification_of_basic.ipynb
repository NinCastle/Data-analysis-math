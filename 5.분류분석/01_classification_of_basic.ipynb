{
 "cells": [
  {
   "cell_type": "markdown",
   "metadata": {},
   "source": [
    "[데이터 사이언스 스쿨](https://datascienceschool.net/view-notebook/e2790743099742a396cfa4955ffc8a1f/)  \n",
    "하기 내용은 상기 링크를 정리한것."
   ]
  },
  {
   "cell_type": "markdown",
   "metadata": {},
   "source": [
    "# 분류의 기초\n",
    "분류(classification)는 독립 변수(feature)값이 주어졌을 때 그 독립변수 값과 가장 연관성이 큰 종속변수 카테고리(클래스)를 계산하는 문제이다. "
   ]
  }
 ],
 "metadata": {
  "kernelspec": {
   "display_name": "text3.5",
   "language": "python",
   "name": "text3.5"
  },
  "language_info": {
   "codemirror_mode": {
    "name": "ipython",
    "version": 3
   },
   "file_extension": ".py",
   "mimetype": "text/x-python",
   "name": "python",
   "nbconvert_exporter": "python",
   "pygments_lexer": "ipython3",
   "version": "3.5.5"
  }
 },
 "nbformat": 4,
 "nbformat_minor": 2
}
